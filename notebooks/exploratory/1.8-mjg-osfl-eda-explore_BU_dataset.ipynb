{
 "cells": [
  {
   "cell_type": "markdown",
   "metadata": {},
   "source": [
    "# Purpose: to explore the BU projects to decide which data to include and omit from the training set. \n",
    "#### There are three splits of the data, and three or four categories of data to consider.\n",
    "\n",
    "1. The training data used to train the model. \n",
    "2. The validaion data used during model evaluation.\n",
    "3. The test data used to evaluate the final model. This will be withheld during the training process.\n",
    "The final model will be run on soundscape recordings, so the model needs to be evaluated on soundscape recordings.\n",
    "In addition, the model will be trained on short audio clips, so part of the evaluation process will look at how the model is performing on these clips.\n",
    "\n",
    "\n",
    "\n",
    "<img src=\"./tvd.png\" width=\"500\" alt=\"train, test, val splits\">\n",
    "\n",
    "\n",
    "\n",
    "\n",
    "\n",
    "### Proposed split options:\n",
    "1. __Split the training, validation and test sets by ARU location ID.__\n",
    "    This will have the advantage of making sure that the recordings all come from different locations, and so the model will not be overfit to the specifics of a particular location.\n",
    "    <br>\n",
    "2. __Split the training, validation and test sets by geographic area.__\n",
    "    This will have the advantage of making sure that the recordings all come from different geographic regions, and so we may get an idea of how the model will generalize to other regions outside of the training area.<br>\n",
    "3. __Randomly shuffle all the data and split into training, validation and test sets.__ This is the simplest method and will be used as a baseline.<br>\n",
    "4. There are many more ways to split the data, by __date of recording__ we would get an idea of how the model performs on recent time windows, which could be relevant if the environmental noise or another factor is changing over time. \n",
    "If any of these options are chosen, the final use case of the model should be considered, in order to make sure that the final report is relevant to the use case.\n",
    "\n",
    "<img src=\"./map_all.png\" width=\"500\" alt=\"geo locations of ARUs\">\n",
    "\n",
    "### There will be three or four categories of data to consider:\n",
    "1. Audio samples containing an olive sided flycatcher call:\n",
    "This is relatively simple since we have a list of clips that contain the call in the training csv file. <br>\n",
    "2. Audio samples of birds which are not the olive sided flycatcer:\n",
    "This is also simple, since we have a list of tags for other bird species, but there is no guaruntee that there isn't an olive sided flycatcher in the background of one of these tags. \n",
    "\n",
    "These first two sets of data can be used to train an initial model by treating set 1 as calls, and set 2 as no-calls, but there is prior knowledge embedded in the training data: that a bird call is present in the recording. \n",
    "\n",
    "To make a true 'no-call' data set, another step is proposed: take into account the tagging method used on WildTrax. There are two or three which I'm aware of:\n",
    "- '1SPT' (one sample per time interval)\n",
    "- '1SPM' (one sample per minute)\n",
    "- no restrictions' (all of the vocalizations in the recording are tagged)\n",
    "\n",
    "With this information, a recording ID, and the start and end time of an olive sided flycatcher clip, I can extract audio segments from before the first OSFL tag in a recording, and from segments of audio from between 60s, 120s (+n*60) and the start of an OSFL tag made within each minute.\n",
    "\n",
    "A second source of true no-call could come from the recordings tagged with the 'no restrictions' tagging method, where there are no restrictions on the number of tags per recording. This could provide another denser source of true no-call data, but unfortunately the .csv file doesn't contain a label for 'no restrictions'. It may be that they were exported with the label 'None' instead but this is not clear.\n",
    "\n",
    "These clips will have the advantage of containing periods of quiet, and the types of background noise associated with olive sided flycatcher habitat. \n",
    "\n",
    "\n",
    "\n",
    "\n",
    "\n",
    "\n",
    "\n"
   ]
  },
  {
   "cell_type": "code",
   "execution_count": 48,
   "metadata": {},
   "outputs": [],
   "source": [
    "import pandas as pd\n",
    "import sys\n",
    "import os\n",
    "from pathlib import Path\n",
    "sys.path.append(os.path.abspath(os.path.join('..', '..')))"
   ]
  },
  {
   "cell_type": "code",
   "execution_count": 53,
   "metadata": {},
   "outputs": [],
   "source": [
    "data_path = Path(\"../../data/\")\n",
    "df = pd.read_pickle(data_path / 'interim' / 'processed_metadata.pkl')"
   ]
  },
  {
   "cell_type": "code",
   "execution_count": 67,
   "metadata": {},
   "outputs": [
    {
     "data": {
      "text/plain": [
       "project\n",
       "CWS-Ontario Birds of James Bay Lowlands 2021                     1752\n",
       "CWS-Ontario Boreal Shield-Lowlands Transition 2022               1101\n",
       "Boreal Wetland Community Monitoring                               698\n",
       "Bayne-OSFL-BU-AnyYr 2021                                          301\n",
       "Lebeuf-Taylor - BRCR, RCKI, OSFL, REVI, TEWA, YRWA - BU 2021      139\n",
       "Lebeuf-Taylor - 2023 RETN                                         137\n",
       "Big Grids                                                         125\n",
       "Retention                                                          75\n",
       "CWS-Ontario Birds of James Bay Lowlands 2021 (Resample)            75\n",
       "Lebeuf-Taylor - 2021 RETN                                          71\n",
       "Bioacoustic Unit Digital Point Counts                              57\n",
       "CWS-Ontario Lake Superior NMCA 2021                                55\n",
       "CWS-Ontario Incidental Atlas ARUs - 2022                           51\n",
       "Natural Disturbance Long-term Monitoring Program 2016              46\n",
       "Lebeuf-Taylor - 2022 RETN                                          46\n",
       "Light Pollution 2020                                               34\n",
       "CWS-Ontario Boreal FMUs - ARUs 2022                                30\n",
       "Ontario Breeding Bird Atlas Digital Point Counts 2022              30\n",
       "CWS-Ontario Boreal FMUs - ARUs 2018                                26\n",
       "YT High Elevation Monitoring Program CWS Northern Region 2021      26\n",
       "YT High Elevation Monitoring Program CWS Northern Region 2019      25\n",
       "ARU Test Project Model Comparisons 2021                            24\n",
       "CWS-Ontario Lake Nipigon Ecoregion 2021                            24\n",
       "McClelland Lake Wetland Complex Monitoring 2022                    23\n",
       "CWS-Ontario Atlas Northern River Trips 2022                        21\n",
       "Harvest Patch Retention - Community 2023                           19\n",
       "Re-Visits 2020                                                     17\n",
       "Lebeuf-Taylor - Top-up RETN                                        16\n",
       "CWS-Ontario Hudson Bay Coast Boreal Hexagons 2022                  16\n",
       "YT Boreal Monitoring Program CWS Northern Region 2017 & 2018       15\n",
       "Wellpad Reclamation 2019                                           12\n",
       "Edge Communities 2021-2022                                         12\n",
       "Elevation Gradients                                                10\n",
       "CWS-Ontario Atlas Digital Point Counts Boreal FMUs 2022             8\n",
       "YT Boreal Monitoring Program CWS Northern Region 2019               7\n",
       "BU-LF WIDTH - EDGE COMMUNITIES 2021-2022                            7\n",
       "Big Grid Pilot Program 2014                                         7\n",
       "Ontario Breeding Bird Atlas Digital Point Counts 2021               7\n",
       "CWS-Ontario Boreal FMUs - ARUs 2019                                 6\n",
       "CWS-Ontario Lake Superior NMCA 2022                                 6\n",
       "OSM Re-visits 2022                                                  5\n",
       "OSM Re-visits 2021                                                  4\n",
       "River Refugia 2018                                                  3\n",
       "CWS-Ontario Wabakimi 2021                                           3\n",
       "BU-Well pad Bird Communities 2021-2022                              2\n",
       "CWS-Ontario Akimiski Island 2022                                    2\n",
       "General-Community-CallingLakeFragmentationStudy-2020                2\n",
       "Elk Island National Park Forest Bird Surveys 2016                   2\n",
       "Workshop #2 - Game 2021                                             1\n",
       "Elk Island National Park Forest Bird Surveys 2019                   1\n",
       "Elk Island National Park Forest Bird Surveys 2009                   1\n",
       "Elk Island National Park Forest Bird Surveys 2011                   1\n",
       "Name: count, dtype: int64"
      ]
     },
     "execution_count": 67,
     "metadata": {},
     "output_type": "execute_result"
    }
   ],
   "source": [
    "df.loc[df['species_code'] == 'OSFL'].project.value_counts()"
   ]
  },
  {
   "cell_type": "code",
   "execution_count": null,
   "metadata": {},
   "outputs": [],
   "source": []
  }
 ],
 "metadata": {
  "kernelspec": {
   "display_name": "osfl2",
   "language": "python",
   "name": "python3"
  },
  "language_info": {
   "codemirror_mode": {
    "name": "ipython",
    "version": 3
   },
   "file_extension": ".py",
   "mimetype": "text/x-python",
   "name": "python",
   "nbconvert_exporter": "python",
   "pygments_lexer": "ipython3",
   "version": "3.10.12"
  }
 },
 "nbformat": 4,
 "nbformat_minor": 2
}
