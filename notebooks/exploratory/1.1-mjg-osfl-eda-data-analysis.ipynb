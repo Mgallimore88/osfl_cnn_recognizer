{
 "cells": [
  {
   "cell_type": "markdown",
   "id": "4ab531fa",
   "metadata": {},
   "source": [
    "# Data Analysis:\n",
    "### This notebook aims to make an initial description of the data available for training in TrainingData_BU&Public_CWS.csv\n",
    ".\n",
    "\n",
    "TODO:\n",
    "- Fix NAs\n",
    "- Import all the fields as correct types\n",
    "- Investigate distribution of data. \n",
    "- Find out whether the clips are from different sections of a longer recordings.\n",
    "- Find out whether there are duplicates within the database. This is very important for making sure that the withheld test set is not contaminated by examples which the model has previously seen. \n",
    "\n",
    "<br>\n",
    "\n",
    "### Notes\n",
    "There is a field 'ARU Task Status' with value of 'bad weather' and 'malfunction'. Option to filter out bad weather days. \n",
    "\n",
    "\n",
    "\n",
    "\n"
   ]
  },
  {
   "cell_type": "code",
   "execution_count": 1,
   "id": "f4396103",
   "metadata": {},
   "outputs": [],
   "source": [
    "import pandas as pd\n",
    "from pathlib import Path\n",
    "import seaborn as sns\n",
    "import matplotlib.pyplot as plt"
   ]
  },
  {
   "cell_type": "code",
   "execution_count": 2,
   "id": "c1458207",
   "metadata": {},
   "outputs": [],
   "source": [
    "data_path = Path('../../data/raw/')"
   ]
  },
  {
   "cell_type": "code",
   "execution_count": 3,
   "id": "4ab1f26f",
   "metadata": {},
   "outputs": [
    {
     "name": "stderr",
     "output_type": "stream",
     "text": [
      "/var/folders/hy/36n7jr6x3h74ddx507dc12_00000gn/T/ipykernel_59611/2075253170.py:1: DtypeWarning: Columns (22) have mixed types. Specify dtype option on import or set low_memory=False.\n",
      "  meta = pd.read_csv(data_path/'TrainingData_BU&Public_CWS.csv')\n"
     ]
    }
   ],
   "source": [
    "meta = pd.read_csv(data_path/'TrainingData_BU&Public_CWS.csv')\n"
   ]
  },
  {
   "cell_type": "markdown",
   "id": "3bfff94d",
   "metadata": {},
   "source": [
    "# FIx NAs\n",
    "1. Find out how many values in each field are blank"
   ]
  },
  {
   "cell_type": "code",
   "execution_count": 4,
   "id": "fff65984",
   "metadata": {
    "scrolled": true
   },
   "outputs": [
    {
     "ename": "NameError",
     "evalue": "name 'display_all' is not defined",
     "output_type": "error",
     "traceback": [
      "\u001b[0;31m---------------------------------------------------------------------------\u001b[0m",
      "\u001b[0;31mNameError\u001b[0m                                 Traceback (most recent call last)",
      "Cell \u001b[0;32mIn[4], line 1\u001b[0m\n\u001b[0;32m----> 1\u001b[0m \u001b[43mdisplay_all\u001b[49m(meta\u001b[38;5;241m.\u001b[39mtail())\n",
      "\u001b[0;31mNameError\u001b[0m: name 'display_all' is not defined"
     ]
    }
   ],
   "source": [
    "display_all(meta.tail())"
   ]
  },
  {
   "cell_type": "markdown",
   "id": "4f2b092d",
   "metadata": {},
   "source": [
    "The last entry in this .csv file contains NaNs for most of the fields. Delete this. "
   ]
  },
  {
   "cell_type": "code",
   "execution_count": null,
   "id": "ae1aa938",
   "metadata": {},
   "outputs": [],
   "source": [
    "meta = meta.drop(1152839)"
   ]
  },
  {
   "cell_type": "code",
   "execution_count": null,
   "id": "509edb56",
   "metadata": {},
   "outputs": [],
   "source": [
    "features = meta.columns\n",
    "features[2]"
   ]
  },
  {
   "cell_type": "code",
   "execution_count": null,
   "id": "c5053c3e",
   "metadata": {},
   "outputs": [],
   "source": [
    "idx = 28\n",
    "print(features[idx])\n",
    "display_all(meta[features[idx]].value_counts(dropna=False))"
   ]
  },
  {
   "cell_type": "code",
   "execution_count": null,
   "id": "4653fcea",
   "metadata": {},
   "outputs": [],
   "source": [
    "meta.dtypes"
   ]
  },
  {
   "cell_type": "markdown",
   "id": "68dab257",
   "metadata": {},
   "source": [
    "Some of the data types have multiple types within one field. This is causing duplicate values when viewing data (e.g. abundance is showing a numeric value for 1 and a string value for 1). Different data types are are counted separately when using pandas.describe(). To fix this issue, specify the data type by passing in a type dictionary when reading the csv file. "
   ]
  },
  {
   "cell_type": "code",
   "execution_count": 5,
   "id": "120a41c7",
   "metadata": {},
   "outputs": [],
   "source": [
    "def display_all(df):\n",
    "    with pd.option_context('display.max_columns', 70):\n",
    "        with pd.option_context(\"display.max_rows\", 1000):\n",
    "            display(df)\n"
   ]
  },
  {
   "cell_type": "code",
   "execution_count": 6,
   "id": "728e2131",
   "metadata": {},
   "outputs": [],
   "source": [
    "type_dict = {\n",
    "    \"organization\": str,\n",
    "    \"project\": object,\n",
    "    \"project_id\": int,\n",
    "    \"location\": str,\n",
    "    \"location_id\": int,\n",
    "    \"recording_date_time\": object,\n",
    "    \"recording_id\": int,\n",
    "    \"task_method\": str,\n",
    "    \"task_id\": int,\n",
    "    \"aru_task_status\": str,\n",
    "    \"species_code\": str,\n",
    "    \"species_common_name\": str,\n",
    "    \"species_scientific_name\": str,\n",
    "    \"species_class\": str,\n",
    "    \"detection_time\": float,\n",
    "    \"task_duration\": float,\n",
    "    \"tag_duration\": float,\n",
    "    \"min_tag_freq\": object,\n",
    "    \"max_tag_freq\": object,\n",
    "    \"tag_id\": int,\n",
    "    \"individual_order\": str,\n",
    "    \"vocalization\": str,\n",
    "    \"abundance\": str,\n",
    "    \"tag_rating\": float,\n",
    "    \"tag_is_verified\": object,\n",
    "    \"clip_channel_used\": float,\n",
    "    \"observer\": object,\n",
    "    \"observer_user_id\": int,\n",
    "    \"verifier_user_id\": int,\n",
    "    \"left_full_freq_tag_rms_peak_dbfs\": float,\n",
    "    \"left_full_freq_tag_rms_trough_dbfs\": float,\n",
    "    \"left_full_freq_tag_pk_count\": float,\n",
    "    \"left_full_freq_tag_dc_offset\": float,\n",
    "    \"left_full_freq_tag_min_level\": float,\n",
    "    \"left_full_freq_tag_max_level\": float,\n",
    "    \"left_full_freq_tag_peak_level_dbfs\": float,\n",
    "    \"left_freq_filter_tag_rms_peak_dbfs\": float,\n",
    "    \"left_freq_filter_tag_rms_trough_dbfs\": float,\n",
    "    \"left_freq_filter_tag_pk_count\": float,\n",
    "    \"left_freq_filter_tag_dc_offset\": float,\n",
    "    \"left_freq_filter_tag_min_level\": float,\n",
    "    \"left_freq_filter_tag_max_level\": float,\n",
    "    \"left_freq_filter_tag_peak_level_dbfs\": float,\n",
    "    \"right_full_freq_tag_rms_peak_dbfs\": float,\n",
    "    \"right_full_freq_tag_rms_trough_dbfs\": float,\n",
    "    \"right_full_freq_tag_pk_count\": float,\n",
    "    \"right_full_freq_tag_dc_offset\": float,\n",
    "    \"right_full_freq_tag_min_level\": float,\n",
    "    \"right_full_freq_tag_max_level\": float,\n",
    "    \"right_full_freq_tag_peak_level_dbfs\": float,\n",
    "    \"right_freq_filter_tag_rms_peak_dbfs\": float,\n",
    "    \"right_freq_filter_tag_rms_trough_dbfs\": float,\n",
    "    \"right_freq_filter_tag_pk_count\": float,\n",
    "    \"right_freq_filter_tag_dc_offset\": float,\n",
    "    \"right_freq_filter_tag_min_level\": float,\n",
    "    \"right_freq_filter_tag_max_level\": float,\n",
    "    \"right_freq_filter_tag_peak_level_dbfs\": float,\n",
    "    \"tagged_in_wildtrax\": str,\n",
    "    \"url\": object,\n",
    "    \"tag_spectrogram_url\": object,\n",
    "    \"clip_url\": object,\n",
    "    \"sensorId\": int,\n",
    "    \"tasks\": int,\n",
    "    \"status\": object,\n",
    "}"
   ]
  },
  {
   "cell_type": "code",
   "execution_count": 7,
   "id": "895e2233",
   "metadata": {},
   "outputs": [
    {
     "data": {
      "text/plain": [
       "104940.0    394\n",
       "104939.0    370\n",
       "104942.0    314\n",
       "104941.0    290\n",
       "72961.0     286\n",
       "Name: recording_id, dtype: int64"
      ]
     },
     "execution_count": 7,
     "metadata": {},
     "output_type": "execute_result"
    }
   ],
   "source": [
    "meta.recording_id.value_counts().head()"
   ]
  },
  {
   "cell_type": "code",
   "execution_count": null,
   "id": "415e2543",
   "metadata": {},
   "outputs": [],
   "source": [
    "meta = pd.read_csv(data_path/'TrainingData_BU&Public_CWS.csv', dtype=type_dict)"
   ]
  },
  {
   "cell_type": "code",
   "execution_count": null,
   "id": "241f37a7",
   "metadata": {},
   "outputs": [],
   "source": [
    "meta.head()"
   ]
  },
  {
   "cell_type": "markdown",
   "id": "66faadad",
   "metadata": {},
   "source": [
    "The recording ids aren't unique, indicating that there are mulitple references to the same recording within the database.\n"
   ]
  },
  {
   "cell_type": "code",
   "execution_count": null,
   "id": "bd132a59",
   "metadata": {},
   "outputs": [],
   "source": [
    "projects = meta.project.unique().tolist()"
   ]
  },
  {
   "cell_type": "markdown",
   "id": "1636552f",
   "metadata": {},
   "source": [
    "# Filter out old recordings. \n",
    "There are 114 projects in the database. Some of the older (pre-2016 - 2017) recording units had a high signal to noise ratio due to the recording devices used. Filtering out projects older than this could improve average quality of recordings. \n",
    "<br><br>\n",
    "Also more recent data might better represent current call patterns in the field. \n"
   ]
  },
  {
   "cell_type": "code",
   "execution_count": null,
   "id": "f3b69a5e",
   "metadata": {},
   "outputs": [],
   "source": [
    "years = range(2020, 2024)"
   ]
  },
  {
   "cell_type": "code",
   "execution_count": null,
   "id": "72993f56",
   "metadata": {},
   "outputs": [],
   "source": [
    "recent_projects = []\n",
    "for year in years:\n",
    "    year_projects = [project for project in projects if f'{year}' in project]\n",
    "    recent_projects.extend(year_projects)"
   ]
  },
  {
   "cell_type": "code",
   "execution_count": null,
   "id": "37913b6c",
   "metadata": {},
   "outputs": [],
   "source": [
    "recent_projects"
   ]
  },
  {
   "cell_type": "code",
   "execution_count": null,
   "id": "8e943703",
   "metadata": {},
   "outputs": [],
   "source": [
    "len(meta.recording_id.unique())"
   ]
  },
  {
   "cell_type": "markdown",
   "id": "f05d1b83",
   "metadata": {},
   "source": [
    "There are 97439 unique recordings in the database.\n"
   ]
  },
  {
   "cell_type": "code",
   "execution_count": null,
   "id": "f7c34683",
   "metadata": {},
   "outputs": [],
   "source": [
    "len(meta[meta.clip_url.isna()])"
   ]
  },
  {
   "cell_type": "markdown",
   "id": "3d566406",
   "metadata": {},
   "source": [
    "Some of these clips don't have clip_url links to an audio file. There are a total of 28386 un-linked tags out of a total 1152840 tags.\n"
   ]
  },
  {
   "cell_type": "code",
   "execution_count": null,
   "id": "ba8bd514",
   "metadata": {},
   "outputs": [],
   "source": [
    "def display_all(df):\n",
    "    with pd.option_context('display.max_columns', 70):\n",
    "        display(df)\n",
    "\n",
    "display_all(meta)\n"
   ]
  },
  {
   "cell_type": "code",
   "execution_count": null,
   "id": "5178899a",
   "metadata": {},
   "outputs": [],
   "source": [
    "meta"
   ]
  },
  {
   "cell_type": "code",
   "execution_count": null,
   "id": "8f23e414",
   "metadata": {},
   "outputs": [],
   "source": [
    "display_all(meta.loc[meta.species_code=='OSFL'].url.iloc[1])"
   ]
  },
  {
   "cell_type": "code",
   "execution_count": null,
   "id": "7863b394",
   "metadata": {},
   "outputs": [],
   "source": []
  },
  {
   "cell_type": "markdown",
   "id": "c0d1c851",
   "metadata": {},
   "source": [
    "# Look at the distribution of clip lengths in  TrainingData_BU&Public_CWS.csv"
   ]
  },
  {
   "cell_type": "code",
   "execution_count": null,
   "id": "3fb5f4be",
   "metadata": {},
   "outputs": [],
   "source": [
    "df = meta.loc[meta.tag_duration<30]\n",
    "\n",
    "# Create a figure with subplots for both the histogram and KDE plot\n",
    "fig, ax = plt.subplots()\n",
    "# Create a histogram\n",
    "sns.histplot(data=df, x='tag_duration', ax=ax, bins=50)\n",
    "ax.set_xlabel('Time (s)')\n",
    "ax.set_ylabel('number of recordings')\n",
    "ax.set_title('Distribution Plot of sample lengths')\n",
    "\n",
    "plt.show()"
   ]
  },
  {
   "cell_type": "code",
   "execution_count": null,
   "id": "23d36aaa",
   "metadata": {
    "scrolled": false
   },
   "outputs": [],
   "source": [
    "sns.histplot(data=meta.loc[meta.tag_duration > 40], x='tag_duration', bins=20, log_scale=False)\n"
   ]
  },
  {
   "cell_type": "markdown",
   "id": "7e07e62e",
   "metadata": {},
   "source": [
    "# Load data from other sources:\n",
    "### Look at the BU everything forever csv"
   ]
  },
  {
   "cell_type": "code",
   "execution_count": null,
   "id": "afa7dfc8",
   "metadata": {},
   "outputs": [],
   "source": [
    "!ls $data_path/SpeciesRawDownload"
   ]
  },
  {
   "cell_type": "code",
   "execution_count": null,
   "id": "e483ee29",
   "metadata": {},
   "outputs": [],
   "source": [
    "everythingforever = pd.read_csv(data_path/'SpeciesRawDownload/recording_report.csv')"
   ]
  },
  {
   "cell_type": "code",
   "execution_count": null,
   "id": "ac394201",
   "metadata": {},
   "outputs": [],
   "source": [
    "display_all(everythingforever)"
   ]
  },
  {
   "cell_type": "code",
   "execution_count": null,
   "id": "1f3193c8",
   "metadata": {},
   "outputs": [],
   "source": []
  }
 ],
 "metadata": {
  "kernelspec": {
   "display_name": "Python 3 (ipykernel)",
   "language": "python",
   "name": "python3"
  },
  "language_info": {
   "codemirror_mode": {
    "name": "ipython",
    "version": 3
   },
   "file_extension": ".py",
   "mimetype": "text/x-python",
   "name": "python",
   "nbconvert_exporter": "python",
   "pygments_lexer": "ipython3",
   "version": "3.10.5"
  }
 },
 "nbformat": 4,
 "nbformat_minor": 5
}
