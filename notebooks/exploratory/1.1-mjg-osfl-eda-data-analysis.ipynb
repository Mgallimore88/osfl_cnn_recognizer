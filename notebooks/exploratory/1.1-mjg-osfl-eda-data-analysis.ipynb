{
 "cells": [
  {
   "cell_type": "markdown",
   "id": "4ab531fa",
   "metadata": {},
   "source": [
    "# Data Analysis:\n",
    "### This notebook aims to make an initial description of the data available for training in TrainingData_BU&Public_CWS.csv\n",
    "\n",
    "This notebook:\n",
    "- Replaces NaN values in 'verifier_user_id' field with -1\n",
    "- Deletes the last row of the database since it doesn't contain any values. \n",
    "- Imports all the values in the database as the correct type (either string, float or int). \n",
    "\n",
    "\n",
    "\n",
    "TODO:\n",
    "- export a cleaned version of the dataframe. \n",
    "- Investigate distribution of data. \n",
    "- Find out whether the clips are from different sections of a longer recordings.\n",
    "- Find out whether there are duplicates within the database. This is very important for making sure that the validation set and the withheld test set do not contain examples which were also in the training set. This is a form of data leakage which would make the model seem to be performing better during evaluation than it would in reality. \n",
    "\n",
    "\n",
    "### Notes\n",
    "There is a field 'ARU Task Status' with value of 'bad weather' and 'malfunction'. Option to filter out bad weather days. \n",
    "\n",
    "\n",
    "\n",
    "\n"
   ]
  },
  {
   "cell_type": "code",
   "execution_count": 1,
   "id": "f4396103",
   "metadata": {},
   "outputs": [],
   "source": [
    "import pandas as pd\n",
    "from pathlib import Path\n",
    "import seaborn as sns\n",
    "import matplotlib.pyplot as plt\n",
    "from IPython.display import Image"
   ]
  },
  {
   "cell_type": "code",
   "execution_count": 2,
   "id": "c1458207",
   "metadata": {},
   "outputs": [],
   "source": [
    "data_path = Path('../../data/raw/')"
   ]
  },
  {
   "cell_type": "markdown",
   "id": "8b77e8d7",
   "metadata": {},
   "source": [
    " # Load the database\n",
    " Reorder columns so that the clip_id is at the start. This way when the database is filtered, exported and re-loaded later we'll still have access to the original indices. \n"
   ]
  },
  {
   "cell_type": "code",
   "execution_count": 3,
   "id": "4ab1f26f",
   "metadata": {},
   "outputs": [
    {
     "name": "stderr",
     "output_type": "stream",
     "text": [
      "/var/folders/hy/36n7jr6x3h74ddx507dc12_00000gn/T/ipykernel_16180/3376304062.py:1: DtypeWarning: Columns (22) have mixed types. Specify dtype option on import or set low_memory=False.\n",
      "  meta = pd.read_csv(data_path/'TrainingData_BU&Public_CWS.csv')\n"
     ]
    }
   ],
   "source": [
    "meta = pd.read_csv(data_path/'TrainingData_BU&Public_CWS.csv')\n",
    "\n",
    "meta['clip_id'] = meta.index\n",
    "\n",
    "cols = list(meta.columns)\n",
    "meta = meta[cols[-1:] + cols[:-1]]\n"
   ]
  },
  {
   "cell_type": "code",
   "execution_count": 4,
   "id": "e7c1fef6",
   "metadata": {},
   "outputs": [],
   "source": [
    "def display_all(df):\n",
    "    with pd.option_context('display.max_columns', 70):\n",
    "        with pd.option_context(\"display.max_rows\", 1000):\n",
    "            display(df)\n"
   ]
  },
  {
   "cell_type": "markdown",
   "id": "3bfff94d",
   "metadata": {},
   "source": [
    "# FIx NAs\n",
    "1. Find out how many values in each field are blank"
   ]
  },
  {
   "cell_type": "code",
   "execution_count": 5,
   "id": "fff65984",
   "metadata": {
    "scrolled": true
   },
   "outputs": [
    {
     "data": {
      "text/html": [
       "<div>\n",
       "<style scoped>\n",
       "    .dataframe tbody tr th:only-of-type {\n",
       "        vertical-align: middle;\n",
       "    }\n",
       "\n",
       "    .dataframe tbody tr th {\n",
       "        vertical-align: top;\n",
       "    }\n",
       "\n",
       "    .dataframe thead th {\n",
       "        text-align: right;\n",
       "    }\n",
       "</style>\n",
       "<table border=\"1\" class=\"dataframe\">\n",
       "  <thead>\n",
       "    <tr style=\"text-align: right;\">\n",
       "      <th></th>\n",
       "      <th>clip_id</th>\n",
       "      <th>organization</th>\n",
       "      <th>project</th>\n",
       "      <th>project_id</th>\n",
       "      <th>location</th>\n",
       "      <th>location_id</th>\n",
       "      <th>recording_date_time</th>\n",
       "      <th>recording_id</th>\n",
       "      <th>task_method</th>\n",
       "      <th>task_id</th>\n",
       "      <th>aru_task_status</th>\n",
       "      <th>species_code</th>\n",
       "      <th>species_common_name</th>\n",
       "      <th>species_scientific_name</th>\n",
       "      <th>species_class</th>\n",
       "      <th>detection_time</th>\n",
       "      <th>task_duration</th>\n",
       "      <th>tag_duration</th>\n",
       "      <th>min_tag_freq</th>\n",
       "      <th>max_tag_freq</th>\n",
       "      <th>tag_id</th>\n",
       "      <th>individual_order</th>\n",
       "      <th>vocalization</th>\n",
       "      <th>abundance</th>\n",
       "      <th>tag_rating</th>\n",
       "      <th>tag_is_verified</th>\n",
       "      <th>clip_channel_used</th>\n",
       "      <th>observer</th>\n",
       "      <th>observer_user_id</th>\n",
       "      <th>verifier_user_id</th>\n",
       "      <th>left_full_freq_tag_rms_peak_dbfs</th>\n",
       "      <th>left_full_freq_tag_rms_trough_dbfs</th>\n",
       "      <th>left_full_freq_tag_pk_count</th>\n",
       "      <th>left_full_freq_tag_dc_offset</th>\n",
       "      <th>left_full_freq_tag_min_level</th>\n",
       "      <th>left_full_freq_tag_max_level</th>\n",
       "      <th>left_full_freq_tag_peak_level_dbfs</th>\n",
       "      <th>left_freq_filter_tag_rms_peak_dbfs</th>\n",
       "      <th>left_freq_filter_tag_rms_trough_dbfs</th>\n",
       "      <th>left_freq_filter_tag_pk_count</th>\n",
       "      <th>left_freq_filter_tag_dc_offset</th>\n",
       "      <th>left_freq_filter_tag_min_level</th>\n",
       "      <th>left_freq_filter_tag_max_level</th>\n",
       "      <th>left_freq_filter_tag_peak_level_dbfs</th>\n",
       "      <th>right_full_freq_tag_rms_peak_dbfs</th>\n",
       "      <th>right_full_freq_tag_rms_trough_dbfs</th>\n",
       "      <th>right_full_freq_tag_pk_count</th>\n",
       "      <th>right_full_freq_tag_dc_offset</th>\n",
       "      <th>right_full_freq_tag_min_level</th>\n",
       "      <th>right_full_freq_tag_max_level</th>\n",
       "      <th>right_full_freq_tag_peak_level_dbfs</th>\n",
       "      <th>right_freq_filter_tag_rms_peak_dbfs</th>\n",
       "      <th>right_freq_filter_tag_rms_trough_dbfs</th>\n",
       "      <th>right_freq_filter_tag_pk_count</th>\n",
       "      <th>right_freq_filter_tag_dc_offset</th>\n",
       "      <th>right_freq_filter_tag_min_level</th>\n",
       "      <th>right_freq_filter_tag_max_level</th>\n",
       "      <th>right_freq_filter_tag_peak_level_dbfs</th>\n",
       "      <th>tagged_in_wildtrax</th>\n",
       "      <th>url</th>\n",
       "      <th>tag_spectrogram_url</th>\n",
       "      <th>clip_url</th>\n",
       "      <th>sensorId</th>\n",
       "      <th>tasks</th>\n",
       "      <th>status</th>\n",
       "    </tr>\n",
       "  </thead>\n",
       "  <tbody>\n",
       "    <tr>\n",
       "      <th>1152835</th>\n",
       "      <td>1152835</td>\n",
       "      <td>BU</td>\n",
       "      <td>Zeller Woodpeckers- Time of Day</td>\n",
       "      <td>1241</td>\n",
       "      <td>Y-58-421-C</td>\n",
       "      <td>43958.0</td>\n",
       "      <td>2018-06-07 03:44:00</td>\n",
       "      <td>480766.0</td>\n",
       "      <td>None</td>\n",
       "      <td>442524.0</td>\n",
       "      <td>Transcribed</td>\n",
       "      <td>UNWO</td>\n",
       "      <td>Unidentified Woodpecker</td>\n",
       "      <td>NaN</td>\n",
       "      <td>Aves</td>\n",
       "      <td>42.90</td>\n",
       "      <td>60.0</td>\n",
       "      <td>0.93</td>\n",
       "      <td>0.15kHz</td>\n",
       "      <td>1.11kHz</td>\n",
       "      <td>2801910.0</td>\n",
       "      <td>1.0</td>\n",
       "      <td>Non-vocal</td>\n",
       "      <td>1</td>\n",
       "      <td>NaN</td>\n",
       "      <td>f</td>\n",
       "      <td>1.0</td>\n",
       "      <td>Austin Zeller</td>\n",
       "      <td>841.0</td>\n",
       "      <td>NaN</td>\n",
       "      <td>-42.91</td>\n",
       "      <td>-49.45</td>\n",
       "      <td>2.0</td>\n",
       "      <td>-0.000029</td>\n",
       "      <td>-0.021179</td>\n",
       "      <td>0.028168</td>\n",
       "      <td>-31.00</td>\n",
       "      <td>-48.50</td>\n",
       "      <td>-60.37</td>\n",
       "      <td>3.0</td>\n",
       "      <td>0.000010</td>\n",
       "      <td>-0.014435</td>\n",
       "      <td>0.010468</td>\n",
       "      <td>-36.81</td>\n",
       "      <td>NaN</td>\n",
       "      <td>NaN</td>\n",
       "      <td>NaN</td>\n",
       "      <td>NaN</td>\n",
       "      <td>NaN</td>\n",
       "      <td>NaN</td>\n",
       "      <td>NaN</td>\n",
       "      <td>NaN</td>\n",
       "      <td>NaN</td>\n",
       "      <td>NaN</td>\n",
       "      <td>NaN</td>\n",
       "      <td>NaN</td>\n",
       "      <td>NaN</td>\n",
       "      <td>NaN</td>\n",
       "      <td>t</td>\n",
       "      <td>https://portal.wildtrax.ca/home/aru-tasks/reco...</td>\n",
       "      <td>https://wildtrax-aru.s3.us-west-2.amazonaws.co...</td>\n",
       "      <td>https://wildtrax-aru.s3.us-west-2.amazonaws.co...</td>\n",
       "      <td>ARU</td>\n",
       "      <td>3583</td>\n",
       "      <td>Active</td>\n",
       "    </tr>\n",
       "    <tr>\n",
       "      <th>1152836</th>\n",
       "      <td>1152836</td>\n",
       "      <td>BU</td>\n",
       "      <td>Zeller Woodpeckers- Time of Day</td>\n",
       "      <td>1241</td>\n",
       "      <td>Y-7-253-SW</td>\n",
       "      <td>303.0</td>\n",
       "      <td>2018-06-17 05:05:00</td>\n",
       "      <td>480207.0</td>\n",
       "      <td>None</td>\n",
       "      <td>441965.0</td>\n",
       "      <td>Transcribed</td>\n",
       "      <td>PIWO</td>\n",
       "      <td>Pileated Woodpecker</td>\n",
       "      <td>DRYOCOPUS PILEATUS</td>\n",
       "      <td>Aves</td>\n",
       "      <td>43.68</td>\n",
       "      <td>60.0</td>\n",
       "      <td>3.28</td>\n",
       "      <td>0.74kHz</td>\n",
       "      <td>2.85kHz</td>\n",
       "      <td>2796592.0</td>\n",
       "      <td>1.0</td>\n",
       "      <td>Call</td>\n",
       "      <td>1</td>\n",
       "      <td>NaN</td>\n",
       "      <td>f</td>\n",
       "      <td>1.0</td>\n",
       "      <td>Austin Zeller</td>\n",
       "      <td>841.0</td>\n",
       "      <td>NaN</td>\n",
       "      <td>-27.54</td>\n",
       "      <td>-35.22</td>\n",
       "      <td>3.0</td>\n",
       "      <td>0.033290</td>\n",
       "      <td>-0.008209</td>\n",
       "      <td>0.059052</td>\n",
       "      <td>-24.58</td>\n",
       "      <td>-59.69</td>\n",
       "      <td>-73.58</td>\n",
       "      <td>3.0</td>\n",
       "      <td>-0.000001</td>\n",
       "      <td>-0.017334</td>\n",
       "      <td>0.004333</td>\n",
       "      <td>-35.22</td>\n",
       "      <td>NaN</td>\n",
       "      <td>NaN</td>\n",
       "      <td>NaN</td>\n",
       "      <td>NaN</td>\n",
       "      <td>NaN</td>\n",
       "      <td>NaN</td>\n",
       "      <td>NaN</td>\n",
       "      <td>NaN</td>\n",
       "      <td>NaN</td>\n",
       "      <td>NaN</td>\n",
       "      <td>NaN</td>\n",
       "      <td>NaN</td>\n",
       "      <td>NaN</td>\n",
       "      <td>NaN</td>\n",
       "      <td>t</td>\n",
       "      <td>https://portal.wildtrax.ca/home/aru-tasks/reco...</td>\n",
       "      <td>https://wildtrax-aru.s3.us-west-2.amazonaws.co...</td>\n",
       "      <td>https://wildtrax-aru.s3.us-west-2.amazonaws.co...</td>\n",
       "      <td>ARU</td>\n",
       "      <td>3583</td>\n",
       "      <td>Active</td>\n",
       "    </tr>\n",
       "    <tr>\n",
       "      <th>1152837</th>\n",
       "      <td>1152837</td>\n",
       "      <td>BU</td>\n",
       "      <td>Zeller Woodpeckers- Time of Day</td>\n",
       "      <td>1241</td>\n",
       "      <td>Y-7-253-SW</td>\n",
       "      <td>303.0</td>\n",
       "      <td>2018-06-17 06:05:00</td>\n",
       "      <td>480596.0</td>\n",
       "      <td>None</td>\n",
       "      <td>442354.0</td>\n",
       "      <td>Transcribed</td>\n",
       "      <td>PIWO</td>\n",
       "      <td>Pileated Woodpecker</td>\n",
       "      <td>DRYOCOPUS PILEATUS</td>\n",
       "      <td>Aves</td>\n",
       "      <td>16.30</td>\n",
       "      <td>60.0</td>\n",
       "      <td>2.34</td>\n",
       "      <td>0.18kHz</td>\n",
       "      <td>1.33kHz</td>\n",
       "      <td>2798296.0</td>\n",
       "      <td>1.0</td>\n",
       "      <td>Non-vocal</td>\n",
       "      <td>1</td>\n",
       "      <td>NaN</td>\n",
       "      <td>f</td>\n",
       "      <td>1.0</td>\n",
       "      <td>Austin Zeller</td>\n",
       "      <td>841.0</td>\n",
       "      <td>NaN</td>\n",
       "      <td>-24.51</td>\n",
       "      <td>-34.52</td>\n",
       "      <td>2.0</td>\n",
       "      <td>0.033245</td>\n",
       "      <td>-0.031403</td>\n",
       "      <td>0.101440</td>\n",
       "      <td>-19.88</td>\n",
       "      <td>-36.64</td>\n",
       "      <td>-46.33</td>\n",
       "      <td>5.0</td>\n",
       "      <td>-0.008149</td>\n",
       "      <td>-0.026703</td>\n",
       "      <td>0.008820</td>\n",
       "      <td>-31.47</td>\n",
       "      <td>NaN</td>\n",
       "      <td>NaN</td>\n",
       "      <td>NaN</td>\n",
       "      <td>NaN</td>\n",
       "      <td>NaN</td>\n",
       "      <td>NaN</td>\n",
       "      <td>NaN</td>\n",
       "      <td>NaN</td>\n",
       "      <td>NaN</td>\n",
       "      <td>NaN</td>\n",
       "      <td>NaN</td>\n",
       "      <td>NaN</td>\n",
       "      <td>NaN</td>\n",
       "      <td>NaN</td>\n",
       "      <td>t</td>\n",
       "      <td>https://portal.wildtrax.ca/home/aru-tasks/reco...</td>\n",
       "      <td>https://wildtrax-aru.s3.us-west-2.amazonaws.co...</td>\n",
       "      <td>https://wildtrax-aru.s3.us-west-2.amazonaws.co...</td>\n",
       "      <td>ARU</td>\n",
       "      <td>3583</td>\n",
       "      <td>Active</td>\n",
       "    </tr>\n",
       "    <tr>\n",
       "      <th>1152838</th>\n",
       "      <td>1152838</td>\n",
       "      <td>BU</td>\n",
       "      <td>Zeller Woodpeckers- Time of Day</td>\n",
       "      <td>1241</td>\n",
       "      <td>Y-7-253-SW</td>\n",
       "      <td>303.0</td>\n",
       "      <td>2018-06-17 06:05:00</td>\n",
       "      <td>480596.0</td>\n",
       "      <td>None</td>\n",
       "      <td>442354.0</td>\n",
       "      <td>Transcribed</td>\n",
       "      <td>PIWO</td>\n",
       "      <td>Pileated Woodpecker</td>\n",
       "      <td>DRYOCOPUS PILEATUS</td>\n",
       "      <td>Aves</td>\n",
       "      <td>39.75</td>\n",
       "      <td>60.0</td>\n",
       "      <td>2.53</td>\n",
       "      <td>0.23kHz</td>\n",
       "      <td>1.33kHz</td>\n",
       "      <td>2798297.0</td>\n",
       "      <td>1.0</td>\n",
       "      <td>Song</td>\n",
       "      <td>1</td>\n",
       "      <td>NaN</td>\n",
       "      <td>f</td>\n",
       "      <td>1.0</td>\n",
       "      <td>Austin Zeller</td>\n",
       "      <td>841.0</td>\n",
       "      <td>NaN</td>\n",
       "      <td>-14.87</td>\n",
       "      <td>-35.70</td>\n",
       "      <td>2.0</td>\n",
       "      <td>0.033391</td>\n",
       "      <td>-0.174133</td>\n",
       "      <td>0.301270</td>\n",
       "      <td>-10.42</td>\n",
       "      <td>-32.44</td>\n",
       "      <td>-52.10</td>\n",
       "      <td>5.0</td>\n",
       "      <td>-0.004382</td>\n",
       "      <td>-0.042969</td>\n",
       "      <td>0.024841</td>\n",
       "      <td>-27.34</td>\n",
       "      <td>NaN</td>\n",
       "      <td>NaN</td>\n",
       "      <td>NaN</td>\n",
       "      <td>NaN</td>\n",
       "      <td>NaN</td>\n",
       "      <td>NaN</td>\n",
       "      <td>NaN</td>\n",
       "      <td>NaN</td>\n",
       "      <td>NaN</td>\n",
       "      <td>NaN</td>\n",
       "      <td>NaN</td>\n",
       "      <td>NaN</td>\n",
       "      <td>NaN</td>\n",
       "      <td>NaN</td>\n",
       "      <td>t</td>\n",
       "      <td>https://portal.wildtrax.ca/home/aru-tasks/reco...</td>\n",
       "      <td>https://wildtrax-aru.s3.us-west-2.amazonaws.co...</td>\n",
       "      <td>https://wildtrax-aru.s3.us-west-2.amazonaws.co...</td>\n",
       "      <td>ARU</td>\n",
       "      <td>3583</td>\n",
       "      <td>Active</td>\n",
       "    </tr>\n",
       "    <tr>\n",
       "      <th>1152839</th>\n",
       "      <td>1152839</td>\n",
       "      <td>NaN</td>\n",
       "      <td>Community tagging: EMCLA Pilot Program 2012</td>\n",
       "      <td>84</td>\n",
       "      <td>NaN</td>\n",
       "      <td>NaN</td>\n",
       "      <td>NaN</td>\n",
       "      <td>NaN</td>\n",
       "      <td>NaN</td>\n",
       "      <td>NaN</td>\n",
       "      <td>NaN</td>\n",
       "      <td>NaN</td>\n",
       "      <td>NaN</td>\n",
       "      <td>NaN</td>\n",
       "      <td>NaN</td>\n",
       "      <td>NaN</td>\n",
       "      <td>NaN</td>\n",
       "      <td>NaN</td>\n",
       "      <td>NaN</td>\n",
       "      <td>NaN</td>\n",
       "      <td>NaN</td>\n",
       "      <td>NaN</td>\n",
       "      <td>NaN</td>\n",
       "      <td>NaN</td>\n",
       "      <td>NaN</td>\n",
       "      <td>NaN</td>\n",
       "      <td>NaN</td>\n",
       "      <td>NaN</td>\n",
       "      <td>NaN</td>\n",
       "      <td>NaN</td>\n",
       "      <td>NaN</td>\n",
       "      <td>NaN</td>\n",
       "      <td>NaN</td>\n",
       "      <td>NaN</td>\n",
       "      <td>NaN</td>\n",
       "      <td>NaN</td>\n",
       "      <td>NaN</td>\n",
       "      <td>NaN</td>\n",
       "      <td>NaN</td>\n",
       "      <td>NaN</td>\n",
       "      <td>NaN</td>\n",
       "      <td>NaN</td>\n",
       "      <td>NaN</td>\n",
       "      <td>NaN</td>\n",
       "      <td>NaN</td>\n",
       "      <td>NaN</td>\n",
       "      <td>NaN</td>\n",
       "      <td>NaN</td>\n",
       "      <td>NaN</td>\n",
       "      <td>NaN</td>\n",
       "      <td>NaN</td>\n",
       "      <td>NaN</td>\n",
       "      <td>NaN</td>\n",
       "      <td>NaN</td>\n",
       "      <td>NaN</td>\n",
       "      <td>NaN</td>\n",
       "      <td>NaN</td>\n",
       "      <td>NaN</td>\n",
       "      <td>NaN</td>\n",
       "      <td>NaN</td>\n",
       "      <td>NaN</td>\n",
       "      <td>NaN</td>\n",
       "      <td>ARU</td>\n",
       "      <td>2111</td>\n",
       "      <td>Published - Public</td>\n",
       "    </tr>\n",
       "  </tbody>\n",
       "</table>\n",
       "</div>"
      ],
      "text/plain": [
       "         clip_id organization                                      project  \\\n",
       "1152835  1152835           BU              Zeller Woodpeckers- Time of Day   \n",
       "1152836  1152836           BU              Zeller Woodpeckers- Time of Day   \n",
       "1152837  1152837           BU              Zeller Woodpeckers- Time of Day   \n",
       "1152838  1152838           BU              Zeller Woodpeckers- Time of Day   \n",
       "1152839  1152839          NaN  Community tagging: EMCLA Pilot Program 2012   \n",
       "\n",
       "         project_id    location  location_id  recording_date_time  \\\n",
       "1152835        1241  Y-58-421-C      43958.0  2018-06-07 03:44:00   \n",
       "1152836        1241  Y-7-253-SW        303.0  2018-06-17 05:05:00   \n",
       "1152837        1241  Y-7-253-SW        303.0  2018-06-17 06:05:00   \n",
       "1152838        1241  Y-7-253-SW        303.0  2018-06-17 06:05:00   \n",
       "1152839          84         NaN          NaN                  NaN   \n",
       "\n",
       "         recording_id task_method   task_id aru_task_status species_code  \\\n",
       "1152835      480766.0        None  442524.0     Transcribed         UNWO   \n",
       "1152836      480207.0        None  441965.0     Transcribed         PIWO   \n",
       "1152837      480596.0        None  442354.0     Transcribed         PIWO   \n",
       "1152838      480596.0        None  442354.0     Transcribed         PIWO   \n",
       "1152839           NaN         NaN       NaN             NaN          NaN   \n",
       "\n",
       "             species_common_name species_scientific_name species_class  \\\n",
       "1152835  Unidentified Woodpecker                     NaN          Aves   \n",
       "1152836      Pileated Woodpecker      DRYOCOPUS PILEATUS          Aves   \n",
       "1152837      Pileated Woodpecker      DRYOCOPUS PILEATUS          Aves   \n",
       "1152838      Pileated Woodpecker      DRYOCOPUS PILEATUS          Aves   \n",
       "1152839                      NaN                     NaN           NaN   \n",
       "\n",
       "         detection_time  task_duration  tag_duration min_tag_freq  \\\n",
       "1152835           42.90           60.0          0.93      0.15kHz   \n",
       "1152836           43.68           60.0          3.28      0.74kHz   \n",
       "1152837           16.30           60.0          2.34      0.18kHz   \n",
       "1152838           39.75           60.0          2.53      0.23kHz   \n",
       "1152839             NaN            NaN           NaN          NaN   \n",
       "\n",
       "        max_tag_freq     tag_id  individual_order vocalization abundance  \\\n",
       "1152835      1.11kHz  2801910.0               1.0    Non-vocal         1   \n",
       "1152836      2.85kHz  2796592.0               1.0         Call         1   \n",
       "1152837      1.33kHz  2798296.0               1.0    Non-vocal         1   \n",
       "1152838      1.33kHz  2798297.0               1.0         Song         1   \n",
       "1152839          NaN        NaN               NaN          NaN       NaN   \n",
       "\n",
       "         tag_rating tag_is_verified  clip_channel_used       observer  \\\n",
       "1152835         NaN               f                1.0  Austin Zeller   \n",
       "1152836         NaN               f                1.0  Austin Zeller   \n",
       "1152837         NaN               f                1.0  Austin Zeller   \n",
       "1152838         NaN               f                1.0  Austin Zeller   \n",
       "1152839         NaN             NaN                NaN            NaN   \n",
       "\n",
       "         observer_user_id  verifier_user_id  left_full_freq_tag_rms_peak_dbfs  \\\n",
       "1152835             841.0               NaN                            -42.91   \n",
       "1152836             841.0               NaN                            -27.54   \n",
       "1152837             841.0               NaN                            -24.51   \n",
       "1152838             841.0               NaN                            -14.87   \n",
       "1152839               NaN               NaN                               NaN   \n",
       "\n",
       "         left_full_freq_tag_rms_trough_dbfs  left_full_freq_tag_pk_count  \\\n",
       "1152835                              -49.45                          2.0   \n",
       "1152836                              -35.22                          3.0   \n",
       "1152837                              -34.52                          2.0   \n",
       "1152838                              -35.70                          2.0   \n",
       "1152839                                 NaN                          NaN   \n",
       "\n",
       "         left_full_freq_tag_dc_offset  left_full_freq_tag_min_level  \\\n",
       "1152835                     -0.000029                     -0.021179   \n",
       "1152836                      0.033290                     -0.008209   \n",
       "1152837                      0.033245                     -0.031403   \n",
       "1152838                      0.033391                     -0.174133   \n",
       "1152839                           NaN                           NaN   \n",
       "\n",
       "         left_full_freq_tag_max_level  left_full_freq_tag_peak_level_dbfs  \\\n",
       "1152835                      0.028168                              -31.00   \n",
       "1152836                      0.059052                              -24.58   \n",
       "1152837                      0.101440                              -19.88   \n",
       "1152838                      0.301270                              -10.42   \n",
       "1152839                           NaN                                 NaN   \n",
       "\n",
       "         left_freq_filter_tag_rms_peak_dbfs  \\\n",
       "1152835                              -48.50   \n",
       "1152836                              -59.69   \n",
       "1152837                              -36.64   \n",
       "1152838                              -32.44   \n",
       "1152839                                 NaN   \n",
       "\n",
       "         left_freq_filter_tag_rms_trough_dbfs  left_freq_filter_tag_pk_count  \\\n",
       "1152835                                -60.37                            3.0   \n",
       "1152836                                -73.58                            3.0   \n",
       "1152837                                -46.33                            5.0   \n",
       "1152838                                -52.10                            5.0   \n",
       "1152839                                   NaN                            NaN   \n",
       "\n",
       "         left_freq_filter_tag_dc_offset  left_freq_filter_tag_min_level  \\\n",
       "1152835                        0.000010                       -0.014435   \n",
       "1152836                       -0.000001                       -0.017334   \n",
       "1152837                       -0.008149                       -0.026703   \n",
       "1152838                       -0.004382                       -0.042969   \n",
       "1152839                             NaN                             NaN   \n",
       "\n",
       "         left_freq_filter_tag_max_level  left_freq_filter_tag_peak_level_dbfs  \\\n",
       "1152835                        0.010468                                -36.81   \n",
       "1152836                        0.004333                                -35.22   \n",
       "1152837                        0.008820                                -31.47   \n",
       "1152838                        0.024841                                -27.34   \n",
       "1152839                             NaN                                   NaN   \n",
       "\n",
       "         right_full_freq_tag_rms_peak_dbfs  \\\n",
       "1152835                                NaN   \n",
       "1152836                                NaN   \n",
       "1152837                                NaN   \n",
       "1152838                                NaN   \n",
       "1152839                                NaN   \n",
       "\n",
       "         right_full_freq_tag_rms_trough_dbfs  right_full_freq_tag_pk_count  \\\n",
       "1152835                                  NaN                           NaN   \n",
       "1152836                                  NaN                           NaN   \n",
       "1152837                                  NaN                           NaN   \n",
       "1152838                                  NaN                           NaN   \n",
       "1152839                                  NaN                           NaN   \n",
       "\n",
       "         right_full_freq_tag_dc_offset  right_full_freq_tag_min_level  \\\n",
       "1152835                            NaN                            NaN   \n",
       "1152836                            NaN                            NaN   \n",
       "1152837                            NaN                            NaN   \n",
       "1152838                            NaN                            NaN   \n",
       "1152839                            NaN                            NaN   \n",
       "\n",
       "         right_full_freq_tag_max_level  right_full_freq_tag_peak_level_dbfs  \\\n",
       "1152835                            NaN                                  NaN   \n",
       "1152836                            NaN                                  NaN   \n",
       "1152837                            NaN                                  NaN   \n",
       "1152838                            NaN                                  NaN   \n",
       "1152839                            NaN                                  NaN   \n",
       "\n",
       "         right_freq_filter_tag_rms_peak_dbfs  \\\n",
       "1152835                                  NaN   \n",
       "1152836                                  NaN   \n",
       "1152837                                  NaN   \n",
       "1152838                                  NaN   \n",
       "1152839                                  NaN   \n",
       "\n",
       "         right_freq_filter_tag_rms_trough_dbfs  \\\n",
       "1152835                                    NaN   \n",
       "1152836                                    NaN   \n",
       "1152837                                    NaN   \n",
       "1152838                                    NaN   \n",
       "1152839                                    NaN   \n",
       "\n",
       "         right_freq_filter_tag_pk_count  right_freq_filter_tag_dc_offset  \\\n",
       "1152835                             NaN                              NaN   \n",
       "1152836                             NaN                              NaN   \n",
       "1152837                             NaN                              NaN   \n",
       "1152838                             NaN                              NaN   \n",
       "1152839                             NaN                              NaN   \n",
       "\n",
       "         right_freq_filter_tag_min_level  right_freq_filter_tag_max_level  \\\n",
       "1152835                              NaN                              NaN   \n",
       "1152836                              NaN                              NaN   \n",
       "1152837                              NaN                              NaN   \n",
       "1152838                              NaN                              NaN   \n",
       "1152839                              NaN                              NaN   \n",
       "\n",
       "         right_freq_filter_tag_peak_level_dbfs tagged_in_wildtrax  \\\n",
       "1152835                                    NaN                  t   \n",
       "1152836                                    NaN                  t   \n",
       "1152837                                    NaN                  t   \n",
       "1152838                                    NaN                  t   \n",
       "1152839                                    NaN                NaN   \n",
       "\n",
       "                                                       url  \\\n",
       "1152835  https://portal.wildtrax.ca/home/aru-tasks/reco...   \n",
       "1152836  https://portal.wildtrax.ca/home/aru-tasks/reco...   \n",
       "1152837  https://portal.wildtrax.ca/home/aru-tasks/reco...   \n",
       "1152838  https://portal.wildtrax.ca/home/aru-tasks/reco...   \n",
       "1152839                                                NaN   \n",
       "\n",
       "                                       tag_spectrogram_url  \\\n",
       "1152835  https://wildtrax-aru.s3.us-west-2.amazonaws.co...   \n",
       "1152836  https://wildtrax-aru.s3.us-west-2.amazonaws.co...   \n",
       "1152837  https://wildtrax-aru.s3.us-west-2.amazonaws.co...   \n",
       "1152838  https://wildtrax-aru.s3.us-west-2.amazonaws.co...   \n",
       "1152839                                                NaN   \n",
       "\n",
       "                                                  clip_url sensorId  tasks  \\\n",
       "1152835  https://wildtrax-aru.s3.us-west-2.amazonaws.co...      ARU   3583   \n",
       "1152836  https://wildtrax-aru.s3.us-west-2.amazonaws.co...      ARU   3583   \n",
       "1152837  https://wildtrax-aru.s3.us-west-2.amazonaws.co...      ARU   3583   \n",
       "1152838  https://wildtrax-aru.s3.us-west-2.amazonaws.co...      ARU   3583   \n",
       "1152839                                                NaN      ARU   2111   \n",
       "\n",
       "                     status  \n",
       "1152835              Active  \n",
       "1152836              Active  \n",
       "1152837              Active  \n",
       "1152838              Active  \n",
       "1152839  Published - Public  "
      ]
     },
     "metadata": {},
     "output_type": "display_data"
    }
   ],
   "source": [
    "display_all(meta.tail())"
   ]
  },
  {
   "cell_type": "markdown",
   "id": "4f2b092d",
   "metadata": {},
   "source": [
    "The last entry in this .csv file contains NaNs for most of the fields. Delete this. "
   ]
  },
  {
   "cell_type": "code",
   "execution_count": 6,
   "id": "ae1aa938",
   "metadata": {},
   "outputs": [],
   "source": [
    "meta.drop(meta.tail(1).index, inplace=True)"
   ]
  },
  {
   "cell_type": "code",
   "execution_count": 7,
   "id": "509edb56",
   "metadata": {},
   "outputs": [
    {
     "name": "stdout",
     "output_type": "stream",
     "text": [
      "observer_user_id\n"
     ]
    },
    {
     "data": {
      "text/plain": [
       " 18.0      147312\n",
       " 15.0       70582\n",
       " 41.0       68339\n",
       " 22.0       60454\n",
       " 1372.0     48288\n",
       " 11.0       46565\n",
       " 37.0       45935\n",
       " 23.0       39339\n",
       " 1349.0     31370\n",
       " 1348.0     30879\n",
       " 532.0      29471\n",
       " 533.0      27144\n",
       " 531.0      26341\n",
       " 1343.0     24887\n",
       " 527.0      24083\n",
       " 26.0       22478\n",
       " 20.0       20330\n",
       " 55.0       20326\n",
       " 1952.0     20090\n",
       " 25.0       18431\n",
       " 42.0       18019\n",
       " 39.0       17679\n",
       " 1057.0     16614\n",
       " 1353.0     14988\n",
       " 660.0      14182\n",
       " 1357.0     13992\n",
       " 17.0       11854\n",
       " 1356.0     11448\n",
       " 1208.0     10975\n",
       " 31.0       10824\n",
       " 1346.0     10083\n",
       " 1881.0      9827\n",
       " 67.0        9627\n",
       " 2546.0      9503\n",
       " 48.0        9287\n",
       " 5.0         8476\n",
       " 27.0        7712\n",
       " 2047.0      7661\n",
       " 1955.0      7555\n",
       " 1128.0      6936\n",
       " 1224.0      6527\n",
       " 70.0        6011\n",
       " 64.0        4886\n",
       " 69.0        4815\n",
       " 525.0       4571\n",
       " 19.0        4515\n",
       " 534.0       4441\n",
       " 1269.0      4391\n",
       " 1388.0      4284\n",
       " 1234.0      3999\n",
       " 1841.0      3826\n",
       " 1275.0      3537\n",
       " 1242.0      3262\n",
       " 1257.0      3066\n",
       " 71.0        3062\n",
       " 1247.0      2985\n",
       " 555.0       2798\n",
       " 1783.0      2476\n",
       " 822.0       2415\n",
       " 1840.0      2110\n",
       " 797.0       2019\n",
       " 1170.0      1573\n",
       " 6.0         1384\n",
       " 1930.0      1333\n",
       " 1954.0      1239\n",
       " 1910.0      1212\n",
       " 855.0       1130\n",
       " 1182.0      1028\n",
       " 853.0        963\n",
       " 1060.0       943\n",
       " 1027.0       936\n",
       " 1784.0       931\n",
       " 485.0        851\n",
       " 47.0         841\n",
       " 1945.0       791\n",
       " 1108.0       768\n",
       " 16.0         752\n",
       " 60.0         701\n",
       " 1179.0       655\n",
       " 32.0         584\n",
       " 2164.0       583\n",
       "-1.0          520\n",
       " 841.0        489\n",
       " 76.0         286\n",
       " 58.0         264\n",
       " 563.0        252\n",
       " 1278.0       204\n",
       " 1226.0       173\n",
       " 1907.0       166\n",
       " 1246.0       139\n",
       " 1428.0       127\n",
       " 1903.0       111\n",
       " 1908.0        95\n",
       " 46.0          70\n",
       " 52.0          52\n",
       " 1771.0        47\n",
       " 1219.0        38\n",
       " 1199.0        35\n",
       " 1360.0        34\n",
       " 1265.0        33\n",
       " 2159.0        33\n",
       " 883.0         31\n",
       " 14.0          28\n",
       " 1130.0        24\n",
       " 1313.0        24\n",
       " 1764.0        22\n",
       " 1201.0        22\n",
       " 2240.0        21\n",
       " 1211.0        19\n",
       " 840.0         19\n",
       " 670.0         19\n",
       " 1341.0        18\n",
       " 1195.0        17\n",
       " 2613.0        16\n",
       " 1268.0        16\n",
       " 28.0          15\n",
       " 611.0         15\n",
       " 689.0         12\n",
       " 1267.0        12\n",
       " 750.0         12\n",
       " 570.0         12\n",
       " 1394.0        12\n",
       " 2034.0        12\n",
       " 1376.0        11\n",
       " 769.0         11\n",
       " 2204.0        11\n",
       " 1129.0        11\n",
       " 1466.0         8\n",
       " 649.0          8\n",
       " 765.0          8\n",
       " 68.0           8\n",
       " 528.0          8\n",
       " 1378.0         7\n",
       " 1822.0         6\n",
       " 1871.0         5\n",
       " 780.0          5\n",
       " 2287.0         5\n",
       " 808.0          4\n",
       " 1280.0         4\n",
       " 575.0          4\n",
       " 1231.0         4\n",
       " 1254.0         4\n",
       " 2246.0         4\n",
       " 1339.0         3\n",
       " 1192.0         3\n",
       " 1215.0         3\n",
       " 723.0          3\n",
       " 1220.0         3\n",
       " 2067.0         3\n",
       " 1340.0         3\n",
       " 1066.0         2\n",
       " 1251.0         2\n",
       " 1109.0         2\n",
       " 1843.0         2\n",
       " 529.0          2\n",
       " 1160.0         2\n",
       " 656.0          1\n",
       " 669.0          1\n",
       " 593.0          1\n",
       " 1238.0         1\n",
       " 658.0          1\n",
       " 1385.0         1\n",
       " 870.0          1\n",
       " 2258.0         1\n",
       " 812.0          1\n",
       " 845.0          1\n",
       " 1856.0         1\n",
       " 585.0          1\n",
       " 1392.0         1\n",
       " 1143.0         1\n",
       " 2270.0         1\n",
       " 1959.0         1\n",
       " 1953.0         1\n",
       " 2272.0         1\n",
       " 2257.0         1\n",
       " 731.0          1\n",
       " 2069.0         1\n",
       " 871.0          1\n",
       " 1136.0         1\n",
       " 1121.0         1\n",
       "Name: observer_user_id, dtype: int64"
      ]
     },
     "metadata": {},
     "output_type": "display_data"
    }
   ],
   "source": [
    "features = meta.columns\n",
    "idx = 28\n",
    "print(features[idx])\n",
    "display_all(meta[features[idx]].value_counts(dropna=False))"
   ]
  },
  {
   "cell_type": "markdown",
   "id": "a6c51ed6",
   "metadata": {},
   "source": [
    "Some of the ID columns contain a high number of 'NaN's. We can replace these with the value -1 "
   ]
  },
  {
   "cell_type": "code",
   "execution_count": 8,
   "id": "4653fcea",
   "metadata": {},
   "outputs": [
    {
     "data": {
      "text/plain": [
       "clip_id                 int64\n",
       "organization           object\n",
       "project                object\n",
       "project_id              int64\n",
       "location               object\n",
       "                        ...  \n",
       "tag_spectrogram_url    object\n",
       "clip_url               object\n",
       "sensorId               object\n",
       "tasks                   int64\n",
       "status                 object\n",
       "Length: 65, dtype: object"
      ]
     },
     "execution_count": 8,
     "metadata": {},
     "output_type": "execute_result"
    }
   ],
   "source": [
    "meta.dtypes"
   ]
  },
  {
   "cell_type": "markdown",
   "id": "68dab257",
   "metadata": {},
   "source": [
    "Some of the data types have multiple types within one field. This is causing duplicate values when viewing data (e.g. the abundance field contains numeric values for 1 and a string values for 1). Different data types are are counted separately when using pandas.describe(). To fix this issue, specify the data type by passing in a type dictionary when reading the csv file. "
   ]
  },
  {
   "cell_type": "markdown",
   "id": "7d4c277a",
   "metadata": {},
   "source": [
    "### Choose types for the different fields\n",
    "If mixed types are required, change the value back to 'object'"
   ]
  },
  {
   "cell_type": "code",
   "execution_count": 9,
   "id": "728e2131",
   "metadata": {},
   "outputs": [],
   "source": [
    "type_dict = {\n",
    "    \"organization\": str,\n",
    "    \"project\": object,\n",
    "    \"project_id\": int,\n",
    "    \"location\": str,\n",
    "    \"location_id\": int,\n",
    "    \"recording_date_time\": object,\n",
    "    \"recording_id\": int,\n",
    "    \"task_method\": str,\n",
    "    \"task_id\": int,\n",
    "    \"aru_task_status\": str,\n",
    "    \"species_code\": str,\n",
    "    \"species_common_name\": str,\n",
    "    \"species_scientific_name\": str,\n",
    "    \"species_class\": str,\n",
    "    \"detection_time\": float,\n",
    "    \"task_duration\": float,\n",
    "    \"tag_duration\": float,\n",
    "    \"min_tag_freq\": object,\n",
    "    \"max_tag_freq\": object,\n",
    "    \"tag_id\": int,\n",
    "    \"individual_order\": str,\n",
    "    \"vocalization\": str,\n",
    "    \"abundance\": str,\n",
    "    \"tag_rating\": float,\n",
    "    \"tag_is_verified\": object,\n",
    "    \"clip_channel_used\": float,\n",
    "    \"observer\": object,\n",
    "    \"observer_user_id\": int,\n",
    "    \"verifier_user_id\": int,\n",
    "    \"left_full_freq_tag_rms_peak_dbfs\": float,\n",
    "    \"left_full_freq_tag_rms_trough_dbfs\": float,\n",
    "    \"left_full_freq_tag_pk_count\": float,\n",
    "    \"left_full_freq_tag_dc_offset\": float,\n",
    "    \"left_full_freq_tag_min_level\": float,\n",
    "    \"left_full_freq_tag_max_level\": float,\n",
    "    \"left_full_freq_tag_peak_level_dbfs\": float,\n",
    "    \"left_freq_filter_tag_rms_peak_dbfs\": float,\n",
    "    \"left_freq_filter_tag_rms_trough_dbfs\": float,\n",
    "    \"left_freq_filter_tag_pk_count\": float,\n",
    "    \"left_freq_filter_tag_dc_offset\": float,\n",
    "    \"left_freq_filter_tag_min_level\": float,\n",
    "    \"left_freq_filter_tag_max_level\": float,\n",
    "    \"left_freq_filter_tag_peak_level_dbfs\": float,\n",
    "    \"right_full_freq_tag_rms_peak_dbfs\": float,\n",
    "    \"right_full_freq_tag_rms_trough_dbfs\": float,\n",
    "    \"right_full_freq_tag_pk_count\": float,\n",
    "    \"right_full_freq_tag_dc_offset\": float,\n",
    "    \"right_full_freq_tag_min_level\": float,\n",
    "    \"right_full_freq_tag_max_level\": float,\n",
    "    \"right_full_freq_tag_peak_level_dbfs\": float,\n",
    "    \"right_freq_filter_tag_rms_peak_dbfs\": float,\n",
    "    \"right_freq_filter_tag_rms_trough_dbfs\": float,\n",
    "    \"right_freq_filter_tag_pk_count\": float,\n",
    "    \"right_freq_filter_tag_dc_offset\": float,\n",
    "    \"right_freq_filter_tag_min_level\": float,\n",
    "    \"right_freq_filter_tag_max_level\": float,\n",
    "    \"right_freq_filter_tag_peak_level_dbfs\": float,\n",
    "    \"tagged_in_wildtrax\": str,\n",
    "    \"url\": str,\n",
    "    \"tag_spectrogram_url\": str,\n",
    "    \"clip_url\": str,\n",
    "    \"sensorId\": str,\n",
    "    \"tasks\": int,\n",
    "    \"status\": str,\n",
    "}"
   ]
  },
  {
   "cell_type": "markdown",
   "id": "df45d68e",
   "metadata": {},
   "source": [
    "The column at index 28 is verifier user id. It contains a lot of NaN values. These are replaced with -1."
   ]
  },
  {
   "cell_type": "code",
   "execution_count": 10,
   "id": "e7b80de1",
   "metadata": {},
   "outputs": [
    {
     "data": {
      "text/plain": [
       "'observer_user_id'"
      ]
     },
     "execution_count": 10,
     "metadata": {},
     "output_type": "execute_result"
    }
   ],
   "source": [
    "column_with_nas = meta.columns[2]\n",
    "column_with_nas"
   ]
  },
  {
   "cell_type": "code",
   "execution_count": 11,
   "id": "5c7fdb09",
   "metadata": {},
   "outputs": [
    {
     "ename": "SyntaxError",
     "evalue": "incomplete input (626098822.py, line 1)",
     "output_type": "error",
     "traceback": [
      "\u001b[0;36m  Cell \u001b[0;32mIn[11], line 1\u001b[0;36m\u001b[0m\n\u001b[0;31m    meta.verifier_user_id[0], sum(meta.verifier_user_id.isna()\u001b[0m\n\u001b[0m                                                              ^\u001b[0m\n\u001b[0;31mSyntaxError\u001b[0m\u001b[0;31m:\u001b[0m incomplete input\n"
     ]
    }
   ],
   "source": [
    "meta.verifier_user_id[0], sum(meta.verifier_user_id.isna()"
   ]
  },
  {
   "cell_type": "code",
   "execution_count": null,
   "id": "6b323ac1",
   "metadata": {},
   "outputs": [],
   "source": [
    "meta.loc[meta['verifier_user_id'].isna(), 'verifier_user_id'] = -1"
   ]
  },
  {
   "cell_type": "code",
   "execution_count": null,
   "id": "851159d9",
   "metadata": {},
   "outputs": [],
   "source": [
    "meta.verifier_user_id[0], sum(meta.verifier_user_id.isna())"
   ]
  },
  {
   "cell_type": "markdown",
   "id": "e8c893cb",
   "metadata": {},
   "source": [
    "## Change all the data types in the dataframe to the chosen types contained in the type dict."
   ]
  },
  {
   "cell_type": "code",
   "execution_count": null,
   "id": "415e2543",
   "metadata": {},
   "outputs": [],
   "source": [
    "meta = meta.astype(type_dict)"
   ]
  },
  {
   "cell_type": "markdown",
   "id": "4e4f7adc",
   "metadata": {},
   "source": [
    "# Look at the reording ids"
   ]
  },
  {
   "cell_type": "code",
   "execution_count": null,
   "id": "635b0bc1",
   "metadata": {},
   "outputs": [],
   "source": [
    "recording_ids = meta.recording_id.value_counts()\n",
    "meta.recording_id.value_counts().head()"
   ]
  },
  {
   "cell_type": "code",
   "execution_count": null,
   "id": "998aef21",
   "metadata": {},
   "outputs": [],
   "source": [
    "top_recordings = meta.recording_id.value_counts()"
   ]
  },
  {
   "cell_type": "markdown",
   "id": "6a52363c",
   "metadata": {},
   "source": [
    "## List of the recording IDs which generate the most clips. \n",
    "The recording ids aren't unique, indicating that there are mulitple references to the same recording within the database.\n"
   ]
  },
  {
   "cell_type": "code",
   "execution_count": null,
   "id": "d605972c",
   "metadata": {},
   "outputs": [],
   "source": [
    "top_recordings"
   ]
  },
  {
   "cell_type": "code",
   "execution_count": null,
   "id": "d9f99a8a",
   "metadata": {},
   "outputs": [],
   "source": [
    "ax = sns.scatterplot(x=top_recordings.index, y=top_recordings.values)\n",
    "plt.setp(ax.collections, alpha=.5, linewidth=.1)\n",
    "plt.xlabel('recording_id')\n",
    "plt.ylabel('number_of_clips')\n",
    "plt.title('Number of clips per recording in the database')"
   ]
  },
  {
   "cell_type": "markdown",
   "id": "3459c082",
   "metadata": {},
   "source": [
    "List of the different projects which contribute to the recordings in the database. "
   ]
  },
  {
   "cell_type": "code",
   "execution_count": null,
   "id": "bd132a59",
   "metadata": {},
   "outputs": [],
   "source": [
    "projects = meta.project.unique().tolist()\n",
    "projects"
   ]
  },
  {
   "cell_type": "markdown",
   "id": "1636552f",
   "metadata": {},
   "source": [
    "# Filter out old recordings. \n",
    "There are 114 projects in the database. Some of the older (pre-2016 - 2017) recording units had a high signal to noise ratio due to the recording devices used. Filtering out projects older than this could improve average quality of recordings. \n",
    "<br><br>\n",
    "Also more recent data might better represent current call patterns in the field. \n"
   ]
  },
  {
   "cell_type": "code",
   "execution_count": null,
   "id": "f3b69a5e",
   "metadata": {},
   "outputs": [],
   "source": [
    "years = range(2017, 2024)"
   ]
  },
  {
   "cell_type": "code",
   "execution_count": null,
   "id": "72993f56",
   "metadata": {},
   "outputs": [],
   "source": [
    "recent_projects = []\n",
    "for year in years:\n",
    "    year_projects = [project for project in projects if f'{year}' in project]\n",
    "    recent_projects.extend(year_projects)"
   ]
  },
  {
   "cell_type": "markdown",
   "id": "9f28df91",
   "metadata": {},
   "source": [
    "## Projects filtered by most recent years"
   ]
  },
  {
   "cell_type": "code",
   "execution_count": null,
   "id": "37913b6c",
   "metadata": {},
   "outputs": [],
   "source": [
    "recent_projects"
   ]
  },
  {
   "cell_type": "code",
   "execution_count": null,
   "id": "8e943703",
   "metadata": {},
   "outputs": [],
   "source": [
    "len(meta.recording_id.unique())"
   ]
  },
  {
   "cell_type": "markdown",
   "id": "f05d1b83",
   "metadata": {},
   "source": [
    "There are 97439 unique recordings in the database.\n"
   ]
  },
  {
   "cell_type": "markdown",
   "id": "7a9f1b4a",
   "metadata": {},
   "source": [
    "### Remove the clips which don't contain a link to a recording. \n",
    "These won't be useful since we can't download the audio for these clips. "
   ]
  },
  {
   "cell_type": "code",
   "execution_count": null,
   "id": "f7c34683",
   "metadata": {},
   "outputs": [],
   "source": [
    "meta.drop(meta.loc[meta.clip_url=='nan'].index, inplace=True)\n",
    "meta.clip_url.value_counts()"
   ]
  },
  {
   "cell_type": "code",
   "execution_count": null,
   "id": "8f23e414",
   "metadata": {},
   "outputs": [],
   "source": [
    "meta.loc[meta.species_code=='OSFL'].url.iloc[1]"
   ]
  },
  {
   "cell_type": "markdown",
   "id": "c0d1c851",
   "metadata": {},
   "source": [
    "# Look at the distribution of clip lengths in  TrainingData_BU&Public_CWS.csv"
   ]
  },
  {
   "cell_type": "code",
   "execution_count": null,
   "id": "3fb5f4be",
   "metadata": {},
   "outputs": [],
   "source": [
    "df = meta.loc[meta.tag_duration<30]\n",
    "fig, ax = plt.subplots()\n",
    "sns.histplot(data=df, x='tag_duration', ax=ax, bins=50)\n",
    "ax.set_xlabel('Duration (s)')\n",
    "ax.set_ylabel('Count')\n",
    "ax.set_title('Sample lengths for samples < 30s')\n",
    "plt.show()"
   ]
  },
  {
   "cell_type": "code",
   "execution_count": null,
   "id": "23d36aaa",
   "metadata": {
    "scrolled": false
   },
   "outputs": [],
   "source": [
    "ax = sns.histplot(data=meta.loc[meta.tag_duration > 40], x='tag_duration', bins=20)\n",
    "ax.set_xlabel('Duration (s)')\n",
    "ax.set_ylabel('Count')\n",
    "ax.set_title('Sample lengths for samples > 40s')\n",
    "plt.show()"
   ]
  },
  {
   "cell_type": "markdown",
   "id": "015d0162",
   "metadata": {},
   "source": [
    "# Look at the data for OSFL recordings. "
   ]
  },
  {
   "cell_type": "code",
   "execution_count": null,
   "id": "554b4a60",
   "metadata": {},
   "outputs": [],
   "source": [
    "osfl_df = meta.loc[meta.species_code=='OSFL']\n",
    "display_all(osfl_df.head())"
   ]
  },
  {
   "cell_type": "markdown",
   "id": "5a3093c8",
   "metadata": {},
   "source": [
    "## Here are the projects which generated olive sided flycatcher clips since 2017"
   ]
  },
  {
   "cell_type": "code",
   "execution_count": null,
   "id": "5f5c001d",
   "metadata": {},
   "outputs": [],
   "source": [
    "osfl_projects = osfl_df.project.unique()\n",
    "len(osfl_projects)"
   ]
  },
  {
   "cell_type": "code",
   "execution_count": null,
   "id": "252533c9",
   "metadata": {},
   "outputs": [],
   "source": [
    "recent_osfl_projects = []\n",
    "for year in years:\n",
    "    year_projects = [project for project in osfl_projects if f'{year}' in project]\n",
    "    recent_osfl_projects.extend(year_projects)"
   ]
  },
  {
   "cell_type": "code",
   "execution_count": null,
   "id": "523c9cfa",
   "metadata": {
    "scrolled": true
   },
   "outputs": [],
   "source": [
    "recent_osfl_projects, len(recent_osfl_projects)"
   ]
  },
  {
   "cell_type": "markdown",
   "id": "b1d5c391",
   "metadata": {},
   "source": [
    "# Look at the reording ids of recordings which have the most OSFL tags. "
   ]
  },
  {
   "cell_type": "code",
   "execution_count": null,
   "id": "7c2643d7",
   "metadata": {},
   "outputs": [],
   "source": [
    "osfl_recording_ids = osfl_df.recording_id.value_counts()\n",
    "osfl_df.recording_id.value_counts().head()"
   ]
  },
  {
   "cell_type": "code",
   "execution_count": null,
   "id": "9b0e45e8",
   "metadata": {},
   "outputs": [],
   "source": [
    "top_recordings = osfl_df.recording_id.value_counts()"
   ]
  },
  {
   "cell_type": "markdown",
   "id": "6ff11011",
   "metadata": {},
   "source": [
    "## List IDs which generate the most clips. \n",
    "The recording ids aren't unique, indicating that there are mulitple references to the same recording within the database."
   ]
  },
  {
   "cell_type": "code",
   "execution_count": null,
   "id": "00a81b7b",
   "metadata": {
    "scrolled": true
   },
   "outputs": [],
   "source": [
    "top_recordings"
   ]
  },
  {
   "cell_type": "code",
   "execution_count": null,
   "id": "1840d884",
   "metadata": {},
   "outputs": [],
   "source": [
    "ax = sns.scatterplot(x=top_recordings.index, y=top_recordings.values)\n",
    "plt.setp(ax.collections, alpha=.5, linewidth=.1)\n",
    "plt.xlabel('recording_id')\n",
    "plt.ylabel('number_of_clips')\n",
    "plt.title('Number of clips per recording in the database')\n",
    "plt.show()"
   ]
  },
  {
   "cell_type": "markdown",
   "id": "26e0eb61",
   "metadata": {},
   "source": [
    "One of the recordings contains 38 olive sided flycatcher calls. Let's verify this on wildtrax by taking a listen there. "
   ]
  },
  {
   "cell_type": "code",
   "execution_count": null,
   "id": "b8934ad2",
   "metadata": {},
   "outputs": [],
   "source": [
    "osfl_df[osfl_df.recording_id==218582].url[896079]"
   ]
  },
  {
   "cell_type": "markdown",
   "id": "5d0d9f71",
   "metadata": {},
   "source": [
    "The index 896079 is the index of one of the clips from recording 218582. Inputted here to reveal the full URL rather than truncated list. "
   ]
  },
  {
   "cell_type": "code",
   "execution_count": null,
   "id": "2232d46c",
   "metadata": {},
   "outputs": [],
   "source": [
    "images = Path('../../references/screenshots')\n",
    "display(Image(images/'img1.png'))"
   ]
  },
  {
   "cell_type": "code",
   "execution_count": null,
   "id": "31991c6c",
   "metadata": {},
   "outputs": [],
   "source": [
    "display(Image(images/'clip1.png'))"
   ]
  },
  {
   "cell_type": "markdown",
   "id": "27b0ee03",
   "metadata": {},
   "source": [
    "- This single 60 second recording does indeed contain 38 separate olive sided flycatcher calls. \n",
    "- There are a lot of other bird calls in the background. \n",
    "- Some of the flycatcher calls can be seen in the spectrogram on WildTrax. \n",
    "- Others are so densely populated with calls that it is hard to make out the shape."
   ]
  },
  {
   "cell_type": "markdown",
   "id": "0ac63850",
   "metadata": {},
   "source": [
    "# Building the datasets. \n",
    "### osfl_call\n",
    "We need to build two datasets to train a CNN recognizer. The first needs to be made up of recordings containing an olive sided flycatcher call. These will be easy to obtain, since the tagging method used on WildTrax contains a tag for OSFL. We have access to human labelled data from a variety of projects, and URLs links directly to AWS hosted audio files of pre-cut clips. \n",
    "\n",
    "### no_osfl_call\n",
    "The second datased needs to contain clips of the same duration, and from the same recordings as the first This second dataset will be harder to curate, since there is no specific tag for 'not an olive sided flycatcher' in the database. To curate this dataset will require knowledhe and exploration of the tagging methods used for the different wildtrax projects, and some creativity. \n",
    "\n",
    "Here are two ideas to build the datasets.\n",
    "### Option 1 - From 60s no restrictions tag type:\n",
    "- Obtain full length recordings (not just tags/clips) for recordings which have been tagged using the 60s no restrictions method. Then cut the gaps between OSFL tags and use these as no-call data. \n",
    "\n",
    "The disadvantage of using this technique would be that it can't be used for the projects which just tag the first vocalization of a species in a recording, or in a given time period. \n",
    "\n",
    "### Option 2 - From the portion of the recording before the first tagged call\n",
    "- Obtain full length recordings for recordings which have been tagged using the '1SPT' or '1SPM' task method, and treat the audio before the first tag as audio which does not contain an olive sided flycatcher call. \n",
    "\n",
    "Advantages - we can build a dataset with call and no-call samples from the same audio recording no matter which task method was used.\n",
    "\n",
    "Disadvantages - but for the no-call we can only choose from a potentially short portion of recording before the first vocalization. We can not assume that audio after the first olive sided flycatcher ID is absent of any calls of this species. \n",
    "\n",
    "### mis-labelled clips\n",
    "There will inevitably be some missed or mis-labelled tags, and these will need to be identified during model training. Some amount of manual checks might be necessary. \n",
    "\n",
    "__Using the model's predictions to clean the dataset__:\n",
    "Training an initial model early, then looking at where it confidently predicts the incorrect class can be a quick way of cleaning or re-labeling mis-labelled data from the dataset.\n",
    "\n"
   ]
  },
  {
   "cell_type": "code",
   "execution_count": null,
   "id": "afbfcb94",
   "metadata": {},
   "outputs": [],
   "source": [
    "# clip 896079 project ID\n",
    "osfl_df[osfl_df.recording_id==218582].project[896079]"
   ]
  },
  {
   "cell_type": "markdown",
   "id": "8c7664ff",
   "metadata": {},
   "source": [
    "The screenshot above is taken from a project named _Lebeuf-Taylor - BRCR, RCKI, OSFL, REVI, TEWA, YRWA - BU 2021_ in our .csv file. The sampling method on wildtrax is stated as \"__60s no restrictions__\" which unfortunately hasn't transferred over to the .csv file, which just says \"None\" for this task method."
   ]
  },
  {
   "cell_type": "code",
   "execution_count": null,
   "id": "26cb7713",
   "metadata": {},
   "outputs": [],
   "source": [
    "# Available tagging methods within this .csv file\n",
    "osfl_df.task_method.unique()"
   ]
  },
  {
   "cell_type": "code",
   "execution_count": null,
   "id": "26c83980",
   "metadata": {},
   "outputs": [],
   "source": [
    "# clip 896079 sample method\n",
    "osfl_df[osfl_df.recording_id==218582].clip_url[896079]"
   ]
  },
  {
   "cell_type": "markdown",
   "id": "6c3da65c",
   "metadata": {},
   "source": [
    "# Export the cleaned version of the database"
   ]
  },
  {
   "cell_type": "code",
   "execution_count": null,
   "id": "fb9b3b8e",
   "metadata": {},
   "outputs": [],
   "source": [
    "processed_data_path = Path('../../data/processed/')"
   ]
  },
  {
   "cell_type": "code",
   "execution_count": null,
   "id": "52598f22",
   "metadata": {},
   "outputs": [],
   "source": [
    "meta.to_csv(processed_data_path/'processed_metadata.csv')"
   ]
  },
  {
   "cell_type": "code",
   "execution_count": null,
   "id": "9efdc856",
   "metadata": {},
   "outputs": [],
   "source": [
    "meta.to_pickle(processed_data_path/'processed_metadata.pkl')"
   ]
  },
  {
   "cell_type": "markdown",
   "id": "7e07e62e",
   "metadata": {},
   "source": [
    "# Load data from other sources:\n",
    "### Look at the BU everything forever csv"
   ]
  },
  {
   "cell_type": "code",
   "execution_count": null,
   "id": "afa7dfc8",
   "metadata": {},
   "outputs": [],
   "source": [
    "!ls $data_path/SpeciesRawDownload"
   ]
  },
  {
   "cell_type": "code",
   "execution_count": null,
   "id": "e483ee29",
   "metadata": {},
   "outputs": [],
   "source": [
    "everythingforever = pd.read_csv(data_path/'SpeciesRawDownload/recording_report.csv')"
   ]
  },
  {
   "cell_type": "code",
   "execution_count": null,
   "id": "ac394201",
   "metadata": {},
   "outputs": [],
   "source": [
    "everythingforever.task_url[0]"
   ]
  },
  {
   "cell_type": "code",
   "execution_count": null,
   "id": "1f3193c8",
   "metadata": {},
   "outputs": [],
   "source": []
  }
 ],
 "metadata": {
  "kernelspec": {
   "display_name": "Python 3 (ipykernel)",
   "language": "python",
   "name": "python3"
  },
  "language_info": {
   "codemirror_mode": {
    "name": "ipython",
    "version": 3
   },
   "file_extension": ".py",
   "mimetype": "text/x-python",
   "name": "python",
   "nbconvert_exporter": "python",
   "pygments_lexer": "ipython3",
   "version": "3.10.8"
  }
 },
 "nbformat": 4,
 "nbformat_minor": 5
}
