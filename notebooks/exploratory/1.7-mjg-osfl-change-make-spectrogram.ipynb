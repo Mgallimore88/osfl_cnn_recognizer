{
 "cells": [
  {
   "cell_type": "code",
   "execution_count": 1,
   "id": "ae5830cb",
   "metadata": {},
   "outputs": [],
   "source": [
    "from pathlib import Path\n",
    "from opensoundscape import Audio, Spectrogram\n",
    "import pandas as pd\n",
    "from glob import glob\n",
    "import matplotlib.pyplot as plt\n",
    "import re\n",
    "\n",
    "\n",
    "# Load the processed DataFrame\n",
    "data_path = Path(\"../../data/\")\n",
    "df = pd.read_pickle(Path.joinpath(data_path, \"interim\", \"processed_metadata.pkl\"))\n",
    "\n",
    "\n",
    "# set paths\n",
    "raw_call_audio_path = Path.joinpath(data_path, \"raw\", \"call\", \"audio\")\n",
    "raw_nocall_audio_path = Path.joinpath(data_path, \"raw\", \"nocall\", \"audio\")\n",
    "processed_call_audio_path = Path.joinpath(data_path, \"processed\", \"call\", \"audio\")\n",
    "processed_nocall_audio_path = Path.joinpath(data_path, \"processed\", \"nocall\", \"audio\")\n",
    "call_save_path = Path.joinpath(data_path, \"processed\", \"call\", \"spectrograms\")\n",
    "nocall_save_path = Path.joinpath(data_path, \"processed\", \"nocall\", \"spectrograms\")"
   ]
  },
  {
   "cell_type": "code",
   "execution_count": 2,
   "id": "bf111b94",
   "metadata": {},
   "outputs": [],
   "source": [
    "paths = [\n",
    "    processed_nocall_audio_path,\n",
    "    processed_call_audio_path,\n",
    "    call_save_path,\n",
    "    nocall_save_path,\n",
    "]\n",
    "for path in paths:\n",
    "    if not path.exists():\n",
    "        path.mkdir(parents=True)\n",
    "\n",
    "raw_call_audio_files = glob(str(raw_call_audio_path) + \"/*\")\n",
    "raw_nocall_audio_files = glob(str(raw_nocall_audio_path) + \"/*\")\n",
    "\n",
    "\n",
    "def show_spec_from_audio(file_path):\n",
    "    audio = Audio.from_file(file_path)\n",
    "    spec = Spectrogram.from_audio(audio)\n",
    "    image = spec.to_image(shape=image_shape, invert=True, format=\"jpg\")\n",
    "    return image\n",
    "\n",
    "\n",
    "# Trim a short segment to 3 seconds in length or loop the sample to 3 seconds.\n",
    "def resize_clip(audio_file, clip_length):\n",
    "    audio = Audio.from_file(audio_file)\n",
    "\n",
    "    if audio.duration < clip_length:\n",
    "        audio = audio.loop(clip_length)\n",
    "    elif audio.duration > clip_length:\n",
    "        audio = audio.extend_to(clip_length)\n",
    "    elif audio.duration == clip_length:\n",
    "        pass\n",
    "\n",
    "    return audio"
   ]
  },
  {
   "cell_type": "code",
   "execution_count": 3,
   "id": "ca0b6dd5",
   "metadata": {},
   "outputs": [],
   "source": [
    "def make_uniform_spectrogram(audio_file, clip_length, image_shape):\n",
    "    # make spectrograms from equal duratiuon clips\n",
    "    clip = resize_clip(audio_file, clip_length)\n",
    "    spec = Spectrogram.from_audio(clip)\n",
    "    image = spec.to_image(shape=image_shape, invert=True)\n",
    "    return image"
   ]
  },
  {
   "cell_type": "code",
   "execution_count": 4,
   "id": "420cbc0b",
   "metadata": {},
   "outputs": [],
   "source": [
    "# save multiple spectrograms to disk\n",
    "def make_and_save_specs(audio_files, clip_length, image_shape, image_save_path):\n",
    "    exceptions = 0\n",
    "    skipped = 0\n",
    "    for audio_file in audio_files:\n",
    "        try:\n",
    "            image = make_uniform_spectrogram(audio_file, clip_length, image_shape)\n",
    "        except:\n",
    "            print(f\"could not read file {audio_file}\")\n",
    "            exceptions += 1\n",
    "        else:\n",
    "            # save the spectrogram if it hasn't been saved already.\n",
    "            fname = re.sub(\"\\.[\\w]+\", \".jpg\", (Path(audio_file).name))\n",
    "            if Path.exists(image_save_path.joinpath(fname)):\n",
    "                skipped += 1\n",
    "            else:\n",
    "                image.save(image_save_path.joinpath(fname), format=\"jpeg\")\n",
    "\n",
    "    print(\n",
    "        f\"finished making spectrograms. Skipped {skipped} with {exceptions} exceptions\"\n",
    "    )"
   ]
  },
  {
   "cell_type": "code",
   "execution_count": 10,
   "id": "54f4536b",
   "metadata": {
    "scrolled": false
   },
   "outputs": [
    {
     "name": "stderr",
     "output_type": "stream",
     "text": [
      "/opt/homebrew/lib/python3.10/site-packages/opensoundscape/audio.py:1329: UserWarning: Failed to load metadata: argument of type 'NoneType' is not iterable. Metadata will be None\n",
      "  warnings.warn(f\"Failed to load metadata: {exc}. Metadata will be None\")\n"
     ]
    },
    {
     "name": "stdout",
     "output_type": "stream",
     "text": [
      "could not read file ../../data/raw/call/audio/recording-255625-clip-9014.flac\n"
     ]
    },
    {
     "name": "stderr",
     "output_type": "stream",
     "text": [
      "/opt/homebrew/lib/python3.10/site-packages/opensoundscape/audio.py:1329: UserWarning: Failed to load metadata: argument of type 'NoneType' is not iterable. Metadata will be None\n",
      "  warnings.warn(f\"Failed to load metadata: {exc}. Metadata will be None\")\n"
     ]
    },
    {
     "name": "stdout",
     "output_type": "stream",
     "text": [
      "could not read file ../../data/raw/call/audio/recording-255544-clip-8814.flac\n",
      "finished making spectrograms. Skipped 0 with 2 exceptions\n",
      "finished making spectrograms. Skipped 0 with 0 exceptions\n"
     ]
    }
   ],
   "source": [
    "clip_length = 3.0\n",
    "image_shape = (224, 224)\n",
    "\n",
    "make_and_save_specs(\n",
    "    raw_call_audio_files[:1000], clip_length, image_shape, call_save_path\n",
    ")\n",
    "make_and_save_specs(\n",
    "    raw_nocall_audio_files[:1000], clip_length, image_shape, nocall_save_path\n",
    ")"
   ]
  },
  {
   "cell_type": "code",
   "execution_count": null,
   "id": "f9525dac",
   "metadata": {},
   "outputs": [],
   "source": []
  }
 ],
 "metadata": {
  "kernelspec": {
   "display_name": "Python 3 (ipykernel)",
   "language": "python",
   "name": "python3"
  },
  "language_info": {
   "codemirror_mode": {
    "name": "ipython",
    "version": 3
   },
   "file_extension": ".py",
   "mimetype": "text/x-python",
   "name": "python",
   "nbconvert_exporter": "python",
   "pygments_lexer": "ipython3",
   "version": "3.10.13"
  }
 },
 "nbformat": 4,
 "nbformat_minor": 5
}
