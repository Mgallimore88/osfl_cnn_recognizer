{
 "cells": [
  {
   "cell_type": "markdown",
   "id": "d9eec601",
   "metadata": {},
   "source": [
    "# Make a no_call dataset\n",
    "So far we've made a database from the labelled olive sided flycatcher calls. To make a no-call set, we need a way of downloading audio samples from a segment of audio which doesn't contain olive sided flycatcher calls. These can be taken from two places depending on the tagging method used on wildtrax:\n",
    "\n",
    "### If tagging method is 1TPT (one tag per time interval)\n",
    "- use the audio from before the first tag. This should not contain an olive sided flycatcher call. \n",
    "\n",
    "### If tagging method is 'no restrictions'\n",
    "- Take audio from inbetween the OSFL tags.\n",
    "\n",
    "### What properties does the no_call dataset need to have?\n",
    "- Does not contain a call of the olive sided flycatcher\n",
    "\n",
    "- Has the same pre-processing of audio and spectrograms as the original clips. (note this might mean cutting some of the no_call clips to shorter than 3s and looping to make up to 3s)\n",
    "\n",
    "- Taken from the same audio files as the olive sided flycatcher clips.\n",
    "\n",
    "- Contains other bird, animal and background noise likely to be found in the environment where the recording devices are placed. \n"
   ]
  },
  {
   "cell_type": "code",
   "execution_count": null,
   "id": "251fae40",
   "metadata": {},
   "outputs": [],
   "source": []
  }
 ],
 "metadata": {
  "kernelspec": {
   "display_name": "Python 3 (ipykernel)",
   "language": "python",
   "name": "python3"
  },
  "language_info": {
   "codemirror_mode": {
    "name": "ipython",
    "version": 3
   },
   "file_extension": ".py",
   "mimetype": "text/x-python",
   "name": "python",
   "nbconvert_exporter": "python",
   "pygments_lexer": "ipython3",
   "version": "3.10.8"
  }
 },
 "nbformat": 4,
 "nbformat_minor": 5
}
