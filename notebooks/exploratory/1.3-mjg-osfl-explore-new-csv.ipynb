{
 "cells": [
  {
   "cell_type": "markdown",
   "id": "44655fa3",
   "metadata": {},
   "source": [
    "# Explore newly updated raw data\n",
    "Initial data exploration showed that the original raw database TrainingData_BU&Public_CWS_with_rec_links.csv didn't contain links to longer recordings - only clips. A new .csv file is added to data/raw which includes these links to longer recordings. \n",
    "\n",
    "This notebook aims to explore these recordings to ensure that each unique recording ID corresponds to a unique url, and if not then to document which recordings have missing recording urls."
   ]
  },
  {
   "cell_type": "code",
   "execution_count": 1,
   "id": "1368ba64",
   "metadata": {},
   "outputs": [],
   "source": [
    "import pandas as pd\n",
    "from pathlib import Path\n",
    "data_path = Path('../../data')"
   ]
  },
  {
   "cell_type": "code",
   "execution_count": 2,
   "id": "846708d8",
   "metadata": {
    "scrolled": true
   },
   "outputs": [
    {
     "name": "stdout",
     "output_type": "stream",
     "text": [
      "BU_Location_Codes.zip\r\n",
      "BU_locations_20230920.csv\r\n",
      "\u001b[34mSpeciesRawDownload\u001b[m\u001b[m\r\n",
      "TrainingData_BU&Public_CWS.csv\r\n",
      "TrainingData_BU&Public_CWS_with_rec_links.csv\r\n",
      "\u001b[34mrecordings\u001b[m\u001b[m\r\n",
      "\u001b[34mrenamed\u001b[m\u001b[m\r\n"
     ]
    }
   ],
   "source": [
    "!ls $data_path/raw/"
   ]
  },
  {
   "cell_type": "code",
   "execution_count": 3,
   "id": "58f8d6d4",
   "metadata": {},
   "outputs": [
    {
     "name": "stderr",
     "output_type": "stream",
     "text": [
      "/var/folders/hy/36n7jr6x3h74ddx507dc12_00000gn/T/ipykernel_30735/1464020887.py:1: DtypeWarning: Columns (22) have mixed types. Specify dtype option on import or set low_memory=False.\n",
      "  old_meta = pd.read_csv(data_path/'raw/TrainingData_BU&Public_CWS.csv')\n",
      "/var/folders/hy/36n7jr6x3h74ddx507dc12_00000gn/T/ipykernel_30735/1464020887.py:2: DtypeWarning: Columns (22) have mixed types. Specify dtype option on import or set low_memory=False.\n",
      "  meta = pd.read_csv(data_path/'raw/TrainingData_BU&Public_CWS_with_rec_links.csv')\n"
     ]
    }
   ],
   "source": [
    "old_meta = pd.read_csv(data_path/'raw/TrainingData_BU&Public_CWS.csv')\n",
    "meta = pd.read_csv(data_path/'raw/TrainingData_BU&Public_CWS_with_rec_links.csv')"
   ]
  },
  {
   "cell_type": "code",
   "execution_count": 4,
   "id": "0bf7cc3f",
   "metadata": {},
   "outputs": [
    {
     "data": {
      "text/plain": [
       "((1152840, 64), (1209426, 65))"
      ]
     },
     "execution_count": 4,
     "metadata": {},
     "output_type": "execute_result"
    }
   ],
   "source": [
    "old_meta.shape, meta.shape"
   ]
  },
  {
   "cell_type": "markdown",
   "id": "5c60e3bf",
   "metadata": {},
   "source": [
    "The new database contains another 50,000 or so clips than the old database. There is also one extra column as expected."
   ]
  },
  {
   "cell_type": "code",
   "execution_count": 5,
   "id": "46594ada",
   "metadata": {},
   "outputs": [
    {
     "data": {
      "text/plain": [
       "{'media_url',\n",
       " 'observer_id',\n",
       " 'observer_user_id',\n",
       " 'recording_url',\n",
       " 'spectrogram_url',\n",
       " 'tag_spectrogram_url',\n",
       " 'url',\n",
       " 'verifier_id',\n",
       " 'verifier_user_id'}"
      ]
     },
     "execution_count": 5,
     "metadata": {},
     "output_type": "execute_result"
    }
   ],
   "source": [
    "set(meta.columns.to_list()) ^ set(old_meta.columns.to_list())"
   ]
  },
  {
   "cell_type": "code",
   "execution_count": 18,
   "id": "3ceb54ef",
   "metadata": {},
   "outputs": [
    {
     "data": {
      "text/plain": [
       "Index(['organization', 'project', 'project_id', 'location', 'location_id',\n",
       "       'recording_date_time', 'recording_id', 'task_method', 'task_id',\n",
       "       'aru_task_status', 'species_code', 'species_common_name',\n",
       "       'species_scientific_name', 'species_class', 'detection_time',\n",
       "       'task_duration', 'tag_duration', 'min_tag_freq', 'max_tag_freq',\n",
       "       'tag_id', 'individual_order', 'vocalization', 'abundance', 'tag_rating',\n",
       "       'tag_is_verified', 'clip_channel_used', 'observer', 'observer_id',\n",
       "       'verifier_id', 'left_full_freq_tag_rms_peak_dbfs',\n",
       "       'left_full_freq_tag_rms_trough_dbfs', 'left_full_freq_tag_pk_count',\n",
       "       'left_full_freq_tag_dc_offset', 'left_full_freq_tag_min_level',\n",
       "       'left_full_freq_tag_max_level', 'left_full_freq_tag_peak_level_dbfs',\n",
       "       'left_freq_filter_tag_rms_peak_dbfs',\n",
       "       'left_freq_filter_tag_rms_trough_dbfs', 'left_freq_filter_tag_pk_count',\n",
       "       'left_freq_filter_tag_dc_offset', 'left_freq_filter_tag_min_level',\n",
       "       'left_freq_filter_tag_max_level',\n",
       "       'left_freq_filter_tag_peak_level_dbfs',\n",
       "       'right_full_freq_tag_rms_peak_dbfs',\n",
       "       'right_full_freq_tag_rms_trough_dbfs', 'right_full_freq_tag_pk_count',\n",
       "       'right_full_freq_tag_dc_offset', 'right_full_freq_tag_min_level',\n",
       "       'right_full_freq_tag_max_level', 'right_full_freq_tag_peak_level_dbfs',\n",
       "       'right_freq_filter_tag_rms_peak_dbfs',\n",
       "       'right_freq_filter_tag_rms_trough_dbfs',\n",
       "       'right_freq_filter_tag_pk_count', 'right_freq_filter_tag_dc_offset',\n",
       "       'right_freq_filter_tag_min_level', 'right_freq_filter_tag_max_level',\n",
       "       'right_freq_filter_tag_peak_level_dbfs', 'tagged_in_wildtrax',\n",
       "       'media_url', 'spectrogram_url', 'clip_url', 'sensorId', 'tasks',\n",
       "       'status', 'recording_url'],\n",
       "      dtype='object')"
      ]
     },
     "execution_count": 18,
     "metadata": {},
     "output_type": "execute_result"
    }
   ],
   "source": [
    "meta.columns"
   ]
  },
  {
   "cell_type": "markdown",
   "id": "c37c5217",
   "metadata": {},
   "source": [
    "The intersection of the two column names shows that some of the column names are named differently between the two datasets. \n",
    "\n",
    "These are sufficiently different that the data should be re-generated from this new csv file rather than appending the missing column onto the processed metadata file. "
   ]
  },
  {
   "cell_type": "code",
   "execution_count": 6,
   "id": "e8487732",
   "metadata": {},
   "outputs": [
    {
     "name": "stderr",
     "output_type": "stream",
     "text": [
      "/var/folders/hy/36n7jr6x3h74ddx507dc12_00000gn/T/ipykernel_30735/3686179662.py:1: DtypeWarning: Columns (22) have mixed types. Specify dtype option on import or set low_memory=False.\n",
      "  meta = pd.read_csv(data_path/'raw/TrainingData_BU&Public_CWS_with_rec_links.csv')\n"
     ]
    }
   ],
   "source": [
    "meta = pd.read_csv(data_path/'raw/TrainingData_BU&Public_CWS_with_rec_links.csv')"
   ]
  },
  {
   "cell_type": "code",
   "execution_count": 7,
   "id": "ea0c04a1",
   "metadata": {},
   "outputs": [
    {
     "data": {
      "text/plain": [
       "'https://wildtrax-aru.s3.us-west-2.amazonaws.com/ac531827-1c53-409c-ab4f-fd449d162760/fb1e6315496e4ac9bd03d64fadd90afd.flac'"
      ]
     },
     "execution_count": 7,
     "metadata": {},
     "output_type": "execute_result"
    }
   ],
   "source": [
    "meta.clip_url.iloc[0]"
   ]
  },
  {
   "cell_type": "code",
   "execution_count": 8,
   "id": "495036c9",
   "metadata": {},
   "outputs": [
    {
     "data": {
      "text/plain": [
       "https://wildtrax-aru.s3.us-west-2.amazonaws.com/860f0d98-4a9a-4348-9a78-498908fe6549/211689.mp3    308\n",
       "https://wildtrax-aru.s3.us-west-2.amazonaws.com/a82260a8-3dcf-49d9-999f-85864166a46b/211704.mp3    303\n",
       "https://wildtrax-aru.s3.us-west-2.amazonaws.com/6a0191b2-61e0-4d5e-9805-401776dbbc86/72961.mp3     286\n",
       "https://wildtrax-aru.s3.us-west-2.amazonaws.com/1a960759-3cb6-446e-b491-376d0d4b6b9e/211803.mp3    282\n",
       "https://wildtrax-aru.s3.us-west-2.amazonaws.com/253cded9-393b-446b-be74-02a56ee8b6e4/99174.mp3     275\n",
       "https://wildtrax-aru.s3.us-west-2.amazonaws.com/16db80e8-3181-45cb-ad0f-0de28a8a958f/211686.mp3    267\n",
       "https://wildtrax-aru.s3.us-west-2.amazonaws.com/1dfe4340-0e00-4d49-b500-afd315b5e994/211746.mp3    259\n",
       "https://wildtrax-aru.s3.us-west-2.amazonaws.com/57c37585-d8d3-4067-878e-d07f2760fd48/211632.mp3    255\n",
       "https://wildtrax-aru.s3.us-west-2.amazonaws.com/6505e27a-0bfa-412b-9d06-7d7354bb5dff/211697.mp3    251\n",
       "https://wildtrax-aru.s3.us-west-2.amazonaws.com/56dcc8a2-3c28-49b1-9c7a-c76290405aec/211620.mp3    230\n",
       "https://wildtrax-aru.s3.us-west-2.amazonaws.com/d7ede4f0-7336-462b-9e64-43068e1fbd86/92051.flac    221\n",
       "https://wildtrax-aru.s3.us-west-2.amazonaws.com/2eeab740-4dc9-4448-ba2d-650a5925b9ac/211712.mp3    220\n",
       "https://wildtrax-aru.s3.us-west-2.amazonaws.com/8ac6577c-a6db-4c37-b831-138d5fe17734/103881.mp3    212\n",
       "https://wildtrax-aru.s3.us-west-2.amazonaws.com/957522b2-3269-4bac-b0a2-3c4dc10fadd5/211814.mp3    211\n",
       "https://wildtrax-aru.s3.us-west-2.amazonaws.com/554870a0-cfa6-4f4c-a662-199ce87d5389/211806.mp3    210\n",
       "https://wildtrax-aru.s3.us-west-2.amazonaws.com/6dca9221-05a8-40eb-9b89-51554fee1890/211741.mp3    208\n",
       "https://wildtrax-aru.s3.us-west-2.amazonaws.com/edf3166e-4342-4610-b3f3-458147fc92ce/211758.mp3    207\n",
       "https://wildtrax-aru.s3.us-west-2.amazonaws.com/4ffb164e-e92c-4437-90e9-da2a15aef450/211817.mp3    207\n",
       "https://wildtrax-aru.s3.us-west-2.amazonaws.com/29174fe3-5322-4712-8fad-651debf114e9/211694.mp3    206\n",
       "https://wildtrax-aru.s3.us-west-2.amazonaws.com/1c01b97a-2939-4919-b8c6-19d07abdd880/211738.mp3    202\n",
       "Name: recording_url, dtype: int64"
      ]
     },
     "execution_count": 8,
     "metadata": {},
     "output_type": "execute_result"
    }
   ],
   "source": [
    "meta.recording_url.value_counts()[:20]"
   ]
  },
  {
   "cell_type": "code",
   "execution_count": 9,
   "id": "3f6e75c9",
   "metadata": {},
   "outputs": [
    {
     "data": {
      "text/plain": [
       "104940.0    395\n",
       "104939.0    371\n",
       "104942.0    314\n",
       "211689.0    308\n",
       "211704.0    303\n",
       "           ... \n",
       "453220.0      1\n",
       "453219.0      1\n",
       "609940.0      1\n",
       "453218.0      1\n",
       "211246.0      1\n",
       "Name: recording_id, Length: 99181, dtype: int64"
      ]
     },
     "execution_count": 9,
     "metadata": {},
     "output_type": "execute_result"
    }
   ],
   "source": [
    "meta.recording_id.value_counts()"
   ]
  },
  {
   "cell_type": "markdown",
   "id": "712b1e64",
   "metadata": {},
   "source": [
    "We can see the demo samples don't contain recording URLs."
   ]
  },
  {
   "cell_type": "code",
   "execution_count": 10,
   "id": "746fed2a",
   "metadata": {},
   "outputs": [
    {
     "data": {
      "text/plain": [
       "Index(['organization', 'project', 'project_id', 'location', 'location_id',\n",
       "       'recording_date_time', 'recording_id', 'task_method', 'task_id',\n",
       "       'aru_task_status', 'species_code', 'species_common_name',\n",
       "       'species_scientific_name', 'species_class', 'detection_time',\n",
       "       'task_duration', 'tag_duration', 'min_tag_freq', 'max_tag_freq',\n",
       "       'tag_id', 'individual_order', 'vocalization', 'abundance', 'tag_rating',\n",
       "       'tag_is_verified', 'clip_channel_used', 'observer', 'observer_id',\n",
       "       'verifier_id', 'left_full_freq_tag_rms_peak_dbfs',\n",
       "       'left_full_freq_tag_rms_trough_dbfs', 'left_full_freq_tag_pk_count',\n",
       "       'left_full_freq_tag_dc_offset', 'left_full_freq_tag_min_level',\n",
       "       'left_full_freq_tag_max_level', 'left_full_freq_tag_peak_level_dbfs',\n",
       "       'left_freq_filter_tag_rms_peak_dbfs',\n",
       "       'left_freq_filter_tag_rms_trough_dbfs', 'left_freq_filter_tag_pk_count',\n",
       "       'left_freq_filter_tag_dc_offset', 'left_freq_filter_tag_min_level',\n",
       "       'left_freq_filter_tag_max_level',\n",
       "       'left_freq_filter_tag_peak_level_dbfs',\n",
       "       'right_full_freq_tag_rms_peak_dbfs',\n",
       "       'right_full_freq_tag_rms_trough_dbfs', 'right_full_freq_tag_pk_count',\n",
       "       'right_full_freq_tag_dc_offset', 'right_full_freq_tag_min_level',\n",
       "       'right_full_freq_tag_max_level', 'right_full_freq_tag_peak_level_dbfs',\n",
       "       'right_freq_filter_tag_rms_peak_dbfs',\n",
       "       'right_freq_filter_tag_rms_trough_dbfs',\n",
       "       'right_freq_filter_tag_pk_count', 'right_freq_filter_tag_dc_offset',\n",
       "       'right_freq_filter_tag_min_level', 'right_freq_filter_tag_max_level',\n",
       "       'right_freq_filter_tag_peak_level_dbfs', 'tagged_in_wildtrax',\n",
       "       'media_url', 'spectrogram_url', 'clip_url', 'sensorId', 'tasks',\n",
       "       'status', 'recording_url'],\n",
       "      dtype='object')"
      ]
     },
     "execution_count": 10,
     "metadata": {},
     "output_type": "execute_result"
    }
   ],
   "source": [
    "meta.columns"
   ]
  },
  {
   "cell_type": "code",
   "execution_count": 11,
   "id": "f71d3b8e",
   "metadata": {},
   "outputs": [
    {
     "data": {
      "text/plain": [
       "General Community from Understory Protection                                  25893\n",
       "Natural Disturbance Long-term Monitoring Program 2016                          5263\n",
       "Wildtrax Demo 2020                                                             1370\n",
       "SWTH, TEWA & WTSP - Edge use by roads                                           291\n",
       "Boreal Wetland Community Monitoring                                             241\n",
       "Tharindu-LFWidth-BU 2021                                                        235\n",
       "Old Growth Forest Monitoring                                                    177\n",
       "Big Grids                                                                       114\n",
       "Elk Island Localization 2020                                                     92\n",
       "BATS & LATS                                                                      86\n",
       "Hart(s)-SWTH-NorthVsSouthSongRate-BU 2021                                        58\n",
       "General-Community-CallingLakeFragmentationStudy-2014                             48\n",
       "River Refugia 2018                                                               37\n",
       "General-CommunityFarmEdgeInterior-2014                                           28\n",
       "Re-Visits 2020                                                                   21\n",
       "Lebeuf-Taylor - 2021 RETN                                                        16\n",
       "Lebeuf-Taylor - 2022 RETN                                                        16\n",
       "BU Triangulation - Find Non-Contaminated Sounds                                  16\n",
       "EDGE USE - PIPELINE - OVEN                                                       13\n",
       "Retention                                                                        13\n",
       "Low-frequency species detections - BU - Limited amplitude for coyotes 2021       11\n",
       "Tibbitt to Contwoyto Winter Road CWS Northern Region 2016                         8\n",
       "Time Of Day - Tennessee Warbler (TEWA) and White Throated Sparrow (WTSP)          8\n",
       "Lebeuf-Taylor - 2023 RETN                                                         7\n",
       "Stubbing Pilot 2019                                                               6\n",
       "Elevation Gradients                                                               6\n",
       "Workshop #3 - Tagging fundamentals 2021                                           3\n",
       "Hart-BTNW-BU-2022                                                                 3\n",
       "Tharindu- Edge Effect- BU 2021                                                    2\n",
       "Time Of Day - American Bittern (AMBI)                                             1\n",
       "Lebeuf-Taylor - BRCR, RCKI, OSFL, REVI, TEWA, YRWA - BU 2021                      1\n",
       "SWTH-EastVsWestSideMountains                                                      1\n",
       "Light Pollution 2021                                                              1\n",
       "Lebeuf-Taylor - Top-up RETN                                                       1\n",
       "General-Community-CallingLakeFragmentationStudy-2020                              1\n",
       "Examples of species vocalizations 2022                                            1\n",
       "EDGE USE - SEISMIC - OVEN                                                         1\n",
       "Edge Communities 2021-2022                                                        1\n",
       "Community tagging: EMCLA Pilot Program 2012                                       1\n",
       "Name: project, dtype: int64"
      ]
     },
     "execution_count": 11,
     "metadata": {},
     "output_type": "execute_result"
    }
   ],
   "source": [
    "meta.loc[meta.recording_url.isna()].project.value_counts()"
   ]
  },
  {
   "cell_type": "code",
   "execution_count": 12,
   "id": "4f399b60",
   "metadata": {},
   "outputs": [
    {
     "data": {
      "text/plain": [
       "Boreal Wetland Community Monitoring                                           339149\n",
       "Big Grids                                                                     156492\n",
       "CWS-Ontario Boreal Shield-Lowlands Transition 2022                             57945\n",
       "CWS-Ontario Birds of James Bay Lowlands 2021                                   56029\n",
       "Old Growth Forest Monitoring                                                   55283\n",
       "                                                                               ...  \n",
       "Low-frequency species detections - BU - Limited amplitude for coyotes 2021        11\n",
       "Tibbitt to Contwoyto Winter Road CWS Northern Region 2016                          8\n",
       "Workshop #3 - Tagging fundamentals 2021                                            3\n",
       "Examples of species vocalizations 2022                                             1\n",
       "Community tagging: EMCLA Pilot Program 2012                                        1\n",
       "Name: project, Length: 134, dtype: int64"
      ]
     },
     "execution_count": 12,
     "metadata": {},
     "output_type": "execute_result"
    }
   ],
   "source": [
    "meta.project.value_counts()"
   ]
  },
  {
   "cell_type": "markdown",
   "id": "81e2e983",
   "metadata": {},
   "source": [
    "# check for a one to one mapping between recording ID and clip URL. Output will be True for one to one, or False if there is more than one recording URL per recording ID. "
   ]
  },
  {
   "cell_type": "code",
   "execution_count": 13,
   "id": "8bd03e52",
   "metadata": {},
   "outputs": [
    {
     "data": {
      "text/plain": [
       "True"
      ]
     },
     "execution_count": 13,
     "metadata": {},
     "output_type": "execute_result"
    }
   ],
   "source": [
    "# One to one between recording ID and recording URL?\n",
    "meta.groupby('recording_id').recording_url.nunique().max()==1 "
   ]
  },
  {
   "cell_type": "code",
   "execution_count": 14,
   "id": "6707a84f",
   "metadata": {},
   "outputs": [
    {
     "data": {
      "text/plain": [
       "True"
      ]
     },
     "execution_count": 14,
     "metadata": {},
     "output_type": "execute_result"
    }
   ],
   "source": [
    "# One to one between recording URL and recording ID?\n",
    "meta.groupby('recording_url').recording_id.nunique().max()==1 "
   ]
  },
  {
   "cell_type": "code",
   "execution_count": 15,
   "id": "5b15d536",
   "metadata": {},
   "outputs": [
    {
     "data": {
      "text/plain": [
       "True"
      ]
     },
     "execution_count": 15,
     "metadata": {},
     "output_type": "execute_result"
    }
   ],
   "source": [
    "meta.groupby('recording_url').recording_id.nunique().min()==1"
   ]
  },
  {
   "cell_type": "markdown",
   "id": "810756ab",
   "metadata": {},
   "source": [
    "Good. The recording IDs never point to more than one URL, and each recording URL has exactly one recording ID. "
   ]
  },
  {
   "cell_type": "code",
   "execution_count": 16,
   "id": "829de12c",
   "metadata": {
    "scrolled": true
   },
   "outputs": [
    {
     "data": {
      "text/plain": [
       "0"
      ]
     },
     "execution_count": 16,
     "metadata": {},
     "output_type": "execute_result"
    }
   ],
   "source": [
    "meta.groupby('recording_id').recording_url.nunique().min()"
   ]
  },
  {
   "cell_type": "markdown",
   "id": "386e8d98",
   "metadata": {},
   "source": [
    "However, some of the recording IDs don't have a URL. "
   ]
  },
  {
   "cell_type": "code",
   "execution_count": 17,
   "id": "e646d871",
   "metadata": {},
   "outputs": [
    {
     "data": {
      "text/plain": [
       "1485"
      ]
     },
     "execution_count": 17,
     "metadata": {},
     "output_type": "execute_result"
    }
   ],
   "source": [
    "len(meta.loc[meta.recording_url.isna()].recording_id.unique())"
   ]
  },
  {
   "cell_type": "markdown",
   "id": "c019e04b",
   "metadata": {},
   "source": [
    "There are 1485 recordings which don't have a URL."
   ]
  }
 ],
 "metadata": {
  "kernelspec": {
   "display_name": "Python 3 (ipykernel)",
   "language": "python",
   "name": "python3"
  },
  "language_info": {
   "codemirror_mode": {
    "name": "ipython",
    "version": 3
   },
   "file_extension": ".py",
   "mimetype": "text/x-python",
   "name": "python",
   "nbconvert_exporter": "python",
   "pygments_lexer": "ipython3",
   "version": "3.10.8"
  }
 },
 "nbformat": 4,
 "nbformat_minor": 5
}
