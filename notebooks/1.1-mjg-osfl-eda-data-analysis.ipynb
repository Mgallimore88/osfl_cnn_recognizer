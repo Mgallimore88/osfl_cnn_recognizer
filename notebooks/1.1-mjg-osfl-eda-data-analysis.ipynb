{
 "cells": [
  {
   "cell_type": "markdown",
   "id": "4ab531fa",
   "metadata": {},
   "source": [
    "# Data Analysis:\n",
    "This notebook aims to make an initial description of the data available for training."
   ]
  },
  {
   "cell_type": "code",
   "execution_count": 2,
   "id": "f4396103",
   "metadata": {},
   "outputs": [],
   "source": [
    "import pandas as pd"
   ]
  },
  {
   "cell_type": "code",
   "execution_count": 3,
   "id": "4ab1f26f",
   "metadata": {},
   "outputs": [
    {
     "name": "stderr",
     "output_type": "stream",
     "text": [
      "/var/folders/hy/36n7jr6x3h74ddx507dc12_00000gn/T/ipykernel_36898/1568081312.py:1: DtypeWarning: Columns (22) have mixed types. Specify dtype option on import or set low_memory=False.\n",
      "  meta = pd.read_csv('data/TrainingData_BU&Public_CWS.csv')\n"
     ]
    }
   ],
   "source": [
    "meta = pd.read_csv('data/TrainingData_BU&Public_CWS.csv')"
   ]
  },
  {
   "cell_type": "code",
   "execution_count": 4,
   "id": "895e2233",
   "metadata": {},
   "outputs": [
    {
     "data": {
      "text/plain": [
       "104940.0    394\n",
       "104939.0    370\n",
       "104942.0    314\n",
       "104941.0    290\n",
       "72961.0     286\n",
       "Name: recording_id, dtype: int64"
      ]
     },
     "execution_count": 4,
     "metadata": {},
     "output_type": "execute_result"
    }
   ],
   "source": [
    "meta.recording_id.value_counts().head()"
   ]
  },
  {
   "cell_type": "markdown",
   "id": "66faadad",
   "metadata": {},
   "source": [
    "The recording ids aren't unique, indicating that there are mulitple references to the same recording within the database.  "
   ]
  },
  {
   "cell_type": "code",
   "execution_count": 5,
   "id": "bd132a59",
   "metadata": {},
   "outputs": [
    {
     "data": {
      "text/plain": [
       "114"
      ]
     },
     "execution_count": 5,
     "metadata": {},
     "output_type": "execute_result"
    }
   ],
   "source": [
    "len(meta.project.unique())"
   ]
  },
  {
   "cell_type": "markdown",
   "id": "1636552f",
   "metadata": {},
   "source": [
    "There are 114 projects in the database. "
   ]
  },
  {
   "cell_type": "code",
   "execution_count": 6,
   "id": "8e943703",
   "metadata": {},
   "outputs": [
    {
     "data": {
      "text/plain": [
       "97439"
      ]
     },
     "execution_count": 6,
     "metadata": {},
     "output_type": "execute_result"
    }
   ],
   "source": [
    "len(meta.recording_id.unique())"
   ]
  },
  {
   "cell_type": "markdown",
   "id": "f05d1b83",
   "metadata": {},
   "source": [
    "There are 97439 unique recordings in the database. "
   ]
  },
  {
   "cell_type": "code",
   "execution_count": 7,
   "id": "f7c34683",
   "metadata": {},
   "outputs": [
    {
     "data": {
      "text/plain": [
       "28386"
      ]
     },
     "execution_count": 7,
     "metadata": {},
     "output_type": "execute_result"
    }
   ],
   "source": [
    "len(meta[meta.clip_url.isna()])"
   ]
  },
  {
   "cell_type": "markdown",
   "id": "3d566406",
   "metadata": {},
   "source": [
    "Some of these clips don't have clip_url links to an audio file. There are a total of 28386 un-linked tags out of a total 1152840 tags. "
   ]
  },
  {
   "cell_type": "code",
   "execution_count": null,
   "id": "ba8bd514",
   "metadata": {},
   "outputs": [],
   "source": []
  }
 ],
 "metadata": {
  "kernelspec": {
   "display_name": "Python 3 (ipykernel)",
   "language": "python",
   "name": "python3"
  },
  "language_info": {
   "codemirror_mode": {
    "name": "ipython",
    "version": 3
   },
   "file_extension": ".py",
   "mimetype": "text/x-python",
   "name": "python",
   "nbconvert_exporter": "python",
   "pygments_lexer": "ipython3",
   "version": "3.10.8"
  }
 },
 "nbformat": 4,
 "nbformat_minor": 5
}
