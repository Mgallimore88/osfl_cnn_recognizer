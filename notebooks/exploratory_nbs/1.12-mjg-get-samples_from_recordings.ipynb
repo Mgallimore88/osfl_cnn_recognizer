{
 "cells": [
  {
   "cell_type": "markdown",
   "metadata": {},
   "source": [
    "# This notebook aims to identify sections of audio containing target vocalization, and sections which do not contain the target vocalization. \n",
    "\n",
    "__proxy for target vocalisation:__ \n",
    "- Audio from a section of a recording contianing target vocalizaition, and taken from within the same timestamp as the tag. \n",
    "- Audio from a recording with tagging method 'no restrictions' AND taken from within tag timestamp of the target species. \n",
    "\n",
    "__proxys for NOT target vocalization__\n",
    "- Audio from a recording with tagging method '1SPM' AND there is no target species tag in the recording\n",
    "- Audio from a recording with tagging method '1SPM' AND there is an target species tag in the recording AND the sample is taken from before the start of the target species tag. \n",
    "- Audio from a recording with tagging method 'no restrictions' AND taken from inbetween tags of the target species. "
   ]
  },
  {
   "cell_type": "code",
   "execution_count": 2,
   "metadata": {},
   "outputs": [],
   "source": [
    "import sys\n",
    "from pathlib import Path\n",
    "import pandas as pd\n",
    "BASE_PATH = Path.cwd().parents[1]\n",
    "sys.path.append(str(BASE_PATH / \"src\" / \"data\"))  # for clean_csv and train_test_split\n",
    "sys.path.append(str(BASE_PATH / \"src\"))  # for utils\n",
    "from utils import *"
   ]
  },
  {
   "cell_type": "code",
   "execution_count": 3,
   "metadata": {},
   "outputs": [],
   "source": [
    "%load_ext autoreload\n",
    "%autoreload 2"
   ]
  },
  {
   "cell_type": "code",
   "execution_count": 27,
   "metadata": {},
   "outputs": [],
   "source": [
    "df = pd.read_pickle(BASE_PATH / \"data\"/\"processed\" / \"train_set\" / \"train_set.pkl\")\n",
    "df_lite = df[keep_cols]\n",
    "osfls = df_lite.loc[df.species_code == 'OSFL']"
   ]
  },
  {
   "cell_type": "markdown",
   "metadata": {},
   "source": [
    "### What's the distribution of the different tagging methods?"
   ]
  },
  {
   "cell_type": "code",
   "execution_count": 11,
   "metadata": {},
   "outputs": [
    {
     "data": {
      "text/plain": [
       "task_method\n",
       "1SPT                        201904\n",
       "1SPM                        178249\n",
       "NaN                          50291\n",
       "1SPM Audio/Visual hybrid      2530\n",
       "Name: count, dtype: int64"
      ]
     },
     "execution_count": 11,
     "metadata": {},
     "output_type": "execute_result"
    }
   ],
   "source": [
    "df.task_method.value_counts(dropna=False)"
   ]
  },
  {
   "cell_type": "markdown",
   "metadata": {},
   "source": [
    "## How many recording files are there in the training set?"
   ]
  },
  {
   "cell_type": "code",
   "execution_count": 28,
   "metadata": {},
   "outputs": [
    {
     "name": "stdout",
     "output_type": "stream",
     "text": [
      "(54416,) unique recordings, (2967,) recordings with the target species.\n"
     ]
    }
   ],
   "source": [
    "unique_recordings = df.recording_id.unique()\n",
    "recordings_containing_target_species = osfls.recording_id.unique()\n",
    "print(f\"{unique_recordings.shape} unique recordings, {recordings_containing_target_species.shape} recordings with the target species.\")"
   ]
  },
  {
   "cell_type": "markdown",
   "metadata": {},
   "source": [
    "### Look at how to group df by recording and keep the other info\n",
    "- recording ids and urls are all the same for each tag entry in the database. \n",
    "- It would be nice to have the database indexed by recording ID, and have the species tag, clip start/stop time etc stored as a list per recording. That way we could see the timestamps of all the clips for one recording. \n",
    "\n",
    "- Using an aggregate function, we can pass a dictionary into the groupby function so that different columns are grouped differently. This way we can end up with a list of all the target species start stop times per recording. "
   ]
  },
  {
   "cell_type": "code",
   "execution_count": 80,
   "metadata": {},
   "outputs": [
    {
     "data": {
      "text/html": [
       "<div>\n",
       "<style scoped>\n",
       "    .dataframe tbody tr th:only-of-type {\n",
       "        vertical-align: middle;\n",
       "    }\n",
       "\n",
       "    .dataframe tbody tr th {\n",
       "        vertical-align: top;\n",
       "    }\n",
       "\n",
       "    .dataframe thead th {\n",
       "        text-align: right;\n",
       "    }\n",
       "</style>\n",
       "<table border=\"1\" class=\"dataframe\">\n",
       "  <thead>\n",
       "    <tr style=\"text-align: right;\">\n",
       "      <th></th>\n",
       "      <th>recording_url</th>\n",
       "      <th>detection_time</th>\n",
       "      <th>tag_duration</th>\n",
       "    </tr>\n",
       "    <tr>\n",
       "      <th>recording_id</th>\n",
       "      <th></th>\n",
       "      <th></th>\n",
       "      <th></th>\n",
       "    </tr>\n",
       "  </thead>\n",
       "  <tbody>\n",
       "    <tr>\n",
       "      <th>4396</th>\n",
       "      <td>https://wildtrax-aru.s3.us-west-2.amazonaws.co...</td>\n",
       "      <td>[27.28, 95.9]</td>\n",
       "      <td>[0.83, 1.18]</td>\n",
       "    </tr>\n",
       "    <tr>\n",
       "      <th>4399</th>\n",
       "      <td>https://wildtrax-aru.s3.us-west-2.amazonaws.co...</td>\n",
       "      <td>[32.63, 82.51]</td>\n",
       "      <td>[1.33, 1.11]</td>\n",
       "    </tr>\n",
       "    <tr>\n",
       "      <th>4427</th>\n",
       "      <td>https://wildtrax-aru.s3.us-west-2.amazonaws.co...</td>\n",
       "      <td>[106.56, 122.66]</td>\n",
       "      <td>[1.0, 0.84]</td>\n",
       "    </tr>\n",
       "    <tr>\n",
       "      <th>4429</th>\n",
       "      <td>https://wildtrax-aru.s3.us-west-2.amazonaws.co...</td>\n",
       "      <td>[31.11, 74.7, 139.78]</td>\n",
       "      <td>[1.38, 2.19, 1.29]</td>\n",
       "    </tr>\n",
       "    <tr>\n",
       "      <th>4446</th>\n",
       "      <td>https://wildtrax-aru.s3.us-west-2.amazonaws.co...</td>\n",
       "      <td>[13.63, 74.88, 126.6]</td>\n",
       "      <td>[1.05, 0.89, 0.8]</td>\n",
       "    </tr>\n",
       "    <tr>\n",
       "      <th>...</th>\n",
       "      <td>...</td>\n",
       "      <td>...</td>\n",
       "      <td>...</td>\n",
       "    </tr>\n",
       "    <tr>\n",
       "      <th>826329</th>\n",
       "      <td>https://wildtrax-aru.s3.us-west-2.amazonaws.co...</td>\n",
       "      <td>[15.06]</td>\n",
       "      <td>[0.54]</td>\n",
       "    </tr>\n",
       "    <tr>\n",
       "      <th>826352</th>\n",
       "      <td>https://wildtrax-aru.s3.us-west-2.amazonaws.co...</td>\n",
       "      <td>[6.7]</td>\n",
       "      <td>[0.95]</td>\n",
       "    </tr>\n",
       "    <tr>\n",
       "      <th>826374</th>\n",
       "      <td>https://wildtrax-aru.s3.us-west-2.amazonaws.co...</td>\n",
       "      <td>[4.11, 16.04]</td>\n",
       "      <td>[0.96, 0.88]</td>\n",
       "    </tr>\n",
       "    <tr>\n",
       "      <th>826375</th>\n",
       "      <td>https://wildtrax-aru.s3.us-west-2.amazonaws.co...</td>\n",
       "      <td>[2.16, 48.0]</td>\n",
       "      <td>[0.66, 0.83]</td>\n",
       "    </tr>\n",
       "    <tr>\n",
       "      <th>829015</th>\n",
       "      <td>https://wildtrax-aru.s3.us-west-2.amazonaws.co...</td>\n",
       "      <td>[12.0]</td>\n",
       "      <td>[0.64]</td>\n",
       "    </tr>\n",
       "  </tbody>\n",
       "</table>\n",
       "<p>2967 rows × 3 columns</p>\n",
       "</div>"
      ],
      "text/plain": [
       "                                                  recording_url  \\\n",
       "recording_id                                                      \n",
       "4396          https://wildtrax-aru.s3.us-west-2.amazonaws.co...   \n",
       "4399          https://wildtrax-aru.s3.us-west-2.amazonaws.co...   \n",
       "4427          https://wildtrax-aru.s3.us-west-2.amazonaws.co...   \n",
       "4429          https://wildtrax-aru.s3.us-west-2.amazonaws.co...   \n",
       "4446          https://wildtrax-aru.s3.us-west-2.amazonaws.co...   \n",
       "...                                                         ...   \n",
       "826329        https://wildtrax-aru.s3.us-west-2.amazonaws.co...   \n",
       "826352        https://wildtrax-aru.s3.us-west-2.amazonaws.co...   \n",
       "826374        https://wildtrax-aru.s3.us-west-2.amazonaws.co...   \n",
       "826375        https://wildtrax-aru.s3.us-west-2.amazonaws.co...   \n",
       "829015        https://wildtrax-aru.s3.us-west-2.amazonaws.co...   \n",
       "\n",
       "                     detection_time        tag_duration  \n",
       "recording_id                                             \n",
       "4396                  [27.28, 95.9]        [0.83, 1.18]  \n",
       "4399                 [32.63, 82.51]        [1.33, 1.11]  \n",
       "4427               [106.56, 122.66]         [1.0, 0.84]  \n",
       "4429          [31.11, 74.7, 139.78]  [1.38, 2.19, 1.29]  \n",
       "4446          [13.63, 74.88, 126.6]   [1.05, 0.89, 0.8]  \n",
       "...                             ...                 ...  \n",
       "826329                      [15.06]              [0.54]  \n",
       "826352                        [6.7]              [0.95]  \n",
       "826374                [4.11, 16.04]        [0.96, 0.88]  \n",
       "826375                 [2.16, 48.0]        [0.66, 0.83]  \n",
       "829015                       [12.0]              [0.64]  \n",
       "\n",
       "[2967 rows x 3 columns]"
      ]
     },
     "execution_count": 80,
     "metadata": {},
     "output_type": "execute_result"
    }
   ],
   "source": [
    "target_species = 'OSFL'\n",
    "filtered_df = df.loc[df.species_code == target_species]\n",
    "grouped = filtered_df.groupby('recording_id').agg({'recording_url': 'first', 'detection_time': lambda x: list(x), 'tag_duration': lambda x: list(x)})\n",
    "grouped"
   ]
  },
  {
   "cell_type": "code",
   "execution_count": 72,
   "metadata": {},
   "outputs": [
    {
     "data": {
      "text/plain": [
       "1"
      ]
     },
     "execution_count": 72,
     "metadata": {},
     "output_type": "execute_result"
    }
   ],
   "source": []
  },
  {
   "cell_type": "markdown",
   "metadata": {},
   "source": [
    "# First let's build a dataset by downloading only the recordings which contain the target species"
   ]
  },
  {
   "cell_type": "code",
   "execution_count": 81,
   "metadata": {},
   "outputs": [],
   "source": [
    "import download_recordings"
   ]
  },
  {
   "cell_type": "code",
   "execution_count": 88,
   "metadata": {},
   "outputs": [
    {
     "data": {
      "text/plain": [
       "'organization'"
      ]
     },
     "execution_count": 88,
     "metadata": {},
     "output_type": "execute_result"
    }
   ],
   "source": [
    "df.columns[1]"
   ]
  },
  {
   "cell_type": "markdown",
   "metadata": {},
   "source": [
    "### Choose where to save the downloaded recordings. \n"
   ]
  },
  {
   "cell_type": "code",
   "execution_count": 119,
   "metadata": {},
   "outputs": [
    {
     "data": {
      "text/plain": [
       "pathlib.PosixPath"
      ]
     },
     "execution_count": 119,
     "metadata": {},
     "output_type": "execute_result"
    }
   ],
   "source": [
    "audio_save_path = Path(BASE_PATH / \"data\" / \"raw\" / \"recordings\" / \"OSFL\")\n",
    "audio_save_path.mkdir(parents=True, exist_ok=True)"
   ]
  },
  {
   "cell_type": "code",
   "execution_count": null,
   "metadata": {},
   "outputs": [
    {
     "data": {
      "text/plain": [
       "(432974, 70)"
      ]
     },
     "execution_count": 123,
     "metadata": {},
     "output_type": "execute_result"
    }
   ],
   "source": [
    "df.shape"
   ]
  },
  {
   "cell_type": "code",
   "execution_count": 138,
   "metadata": {},
   "outputs": [
    {
     "name": "stdout",
     "output_type": "stream",
     "text": [
      "downloading 10 clips\n",
      "skipped 10 previously downloaded files\n"
     ]
    }
   ],
   "source": [
    "download_recordings.from_url(df, 'recording_url', audio_save_path, target = 'OSFL', n=10)"
   ]
  },
  {
   "cell_type": "code",
   "execution_count": 135,
   "metadata": {},
   "outputs": [
    {
     "data": {
      "text/plain": [
       "'https://wildtrax-aru.s3.us-west-2.amazonaws.com/d587fac1-ae78-4729-b816-5e6eaf5a5c9e/255412.mp3'"
      ]
     },
     "execution_count": 135,
     "metadata": {},
     "output_type": "execute_result"
    }
   ],
   "source": [
    "osfls['recording_url'].iloc[0]"
   ]
  },
  {
   "cell_type": "code",
   "execution_count": null,
   "metadata": {},
   "outputs": [],
   "source": []
  }
 ],
 "metadata": {
  "kernelspec": {
   "display_name": "osfl2",
   "language": "python",
   "name": "python3"
  },
  "language_info": {
   "codemirror_mode": {
    "name": "ipython",
    "version": 3
   },
   "file_extension": ".py",
   "mimetype": "text/x-python",
   "name": "python",
   "nbconvert_exporter": "python",
   "pygments_lexer": "ipython3",
   "version": "3.10.12"
  }
 },
 "nbformat": 4,
 "nbformat_minor": 2
}
