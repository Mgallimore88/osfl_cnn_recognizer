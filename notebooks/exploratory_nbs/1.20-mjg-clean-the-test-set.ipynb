{
 "cells": [
  {
   "cell_type": "markdown",
   "metadata": {},
   "source": [
    "# Contents of a good test set\n",
    "\n",
    "- The test set should represent the situation at inference as closely as possible\n",
    "- The model needs to output a lower score for quieter calls - this is to enable density estimation and other downstream statistical applications. \n",
    "- To enable this, the test set will contain focal samples. \n",
    "- To test this behaviour, the test set will need to contain some quieter samples.\n",
    "\n",
    "\n",
    "### Cleaning samples from the test set introduces another level of subjectivity \n",
    "The clarity of the samples left in the test set will directly affect the performance metric of a model tested on this test set. \n",
    "\n",
    "Proposal:\n",
    "1. To clean out and discard definite errors\n",
    "2. To label uncertain sections of audio with a flag\n",
    "3. To keep the focal examples in the test.\n",
    "\n",
    "Optional:\n",
    "use postprocessing to augment the test set with decreasing volume samples. "
   ]
  },
  {
   "cell_type": "markdown",
   "metadata": {},
   "source": [
    "# Mark the test set audio as focal, mistake, or uncertain"
   ]
  },
  {
   "cell_type": "markdown",
   "metadata": {},
   "source": []
  }
 ],
 "metadata": {
  "language_info": {
   "name": "python"
  }
 },
 "nbformat": 4,
 "nbformat_minor": 2
}
