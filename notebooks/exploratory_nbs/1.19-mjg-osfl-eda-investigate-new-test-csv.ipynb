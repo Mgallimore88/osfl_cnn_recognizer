{
 "cells": [
  {
   "cell_type": "markdown",
   "metadata": {},
   "source": [
    "# Investigate the contents of new test data database\n",
    "\n",
    "A new test set has been made available. Investigate the contents of this test data to make sure it doesn't contain the same data as the training set. If it does, these data will need remnoving from the training set. "
   ]
  },
  {
   "cell_type": "code",
   "execution_count": 42,
   "metadata": {},
   "outputs": [],
   "source": [
    "from pathlib import Path\n",
    "BASE_PATH = Path.cwd().parent.parent\n",
    "data_path = BASE_PATH / 'data'\n",
    "\n",
    "import pandas as pd\n",
    "import sys\n",
    "sys.path.append(str(BASE_PATH))\n",
    "from src import utils\n"
   ]
  },
  {
   "cell_type": "code",
   "execution_count": 43,
   "metadata": {},
   "outputs": [
    {
     "data": {
      "text/plain": [
       "Index(['organization', 'project_id', 'location', 'location_id',\n",
       "       'location_buffer_m', 'longitude', 'latitude', 'equipment_make',\n",
       "       'equipment_model', 'recording_id', 'recording_date_time', 'task_id',\n",
       "       'aru_task_status', 'task_duration', 'task_method', 'species_code',\n",
       "       'species_common_name', 'species_scientific_name', 'individual_order',\n",
       "       'tag_id', 'individual_count', 'vocalization', 'detection_time',\n",
       "       'tag_duration', 'rms_peak_dbfs', 'tag_is_verified', 'tag_rating',\n",
       "       'observer', 'observer_id', 'species_individual_comments',\n",
       "       'task_comments', 'wildtrax_url', 'recording_url', 'target'],\n",
       "      dtype='object')"
      ]
     },
     "execution_count": 43,
     "metadata": {},
     "output_type": "execute_result"
    }
   ],
   "source": [
    "test_csv = pd.read_csv(data_path / 'raw' / 'SingleSpecies_all.csv', low_memory=False)\n",
    "test_csv.columns"
   ]
  },
  {
   "cell_type": "code",
   "execution_count": 44,
   "metadata": {},
   "outputs": [
    {
     "data": {
      "text/plain": [
       "vocalization\n",
       "Song         25222\n",
       "Non-vocal     5326\n",
       "Call           226\n",
       "Name: count, dtype: int64"
      ]
     },
     "execution_count": 44,
     "metadata": {},
     "output_type": "execute_result"
    }
   ],
   "source": [
    "test_csv.vocalization.value_counts()"
   ]
  },
  {
   "cell_type": "code",
   "execution_count": 45,
   "metadata": {},
   "outputs": [
    {
     "data": {
      "text/plain": [
       "vocalization\n",
       "Song    301\n",
       "Call    110\n",
       "Name: count, dtype: int64"
      ]
     },
     "execution_count": 45,
     "metadata": {},
     "output_type": "execute_result"
    }
   ],
   "source": [
    "osfls = test_csv.loc[test_csv.species_code == 'OSFL']\n",
    "osfls.vocalization.value_counts()"
   ]
  },
  {
   "cell_type": "code",
   "execution_count": 46,
   "metadata": {},
   "outputs": [],
   "source": [
    "osfl_songs = osfls.loc[osfls.vocalization == 'Song']"
   ]
  },
  {
   "cell_type": "code",
   "execution_count": 47,
   "metadata": {},
   "outputs": [
    {
     "data": {
      "text/plain": [
       "['organization',\n",
       " 'project_id',\n",
       " 'location_id',\n",
       " 'recording_id',\n",
       " 'recording_date_time',\n",
       " 'species_code',\n",
       " 'species_common_name',\n",
       " 'detection_time',\n",
       " 'task_duration',\n",
       " 'tag_duration',\n",
       " 'tag_id',\n",
       " 'recording_url',\n",
       " 'task_method',\n",
       " 'latitude',\n",
       " 'longitude',\n",
       " 'individual_order']"
      ]
     },
     "execution_count": 47,
     "metadata": {},
     "output_type": "execute_result"
    }
   ],
   "source": [
    "utils.keep_cols"
   ]
  },
  {
   "cell_type": "code",
   "execution_count": 51,
   "metadata": {},
   "outputs": [
    {
     "ename": "ValueError",
     "evalue": "list.remove(x): x not in list",
     "output_type": "error",
     "traceback": [
      "\u001b[0;31m---------------------------------------------------------------------------\u001b[0m",
      "\u001b[0;31mValueError\u001b[0m                                Traceback (most recent call last)",
      "Cell \u001b[0;32mIn[51], line 4\u001b[0m\n\u001b[1;32m      2\u001b[0m remove_cols \u001b[38;5;241m=\u001b[39m [\u001b[38;5;124m'\u001b[39m\u001b[38;5;124mfile_type\u001b[39m\u001b[38;5;124m'\u001b[39m, \u001b[38;5;124m'\u001b[39m\u001b[38;5;124mproject\u001b[39m\u001b[38;5;124m'\u001b[39m, \u001b[38;5;124m'\u001b[39m\u001b[38;5;124mclip_url\u001b[39m\u001b[38;5;124m'\u001b[39m, \u001b[38;5;124m'\u001b[39m\u001b[38;5;124mmedia_url\u001b[39m\u001b[38;5;124m'\u001b[39m]\n\u001b[1;32m      3\u001b[0m \u001b[38;5;28;01mfor\u001b[39;00m i \u001b[38;5;129;01min\u001b[39;00m remove_cols:\n\u001b[0;32m----> 4\u001b[0m     \u001b[43mkeep_cols\u001b[49m\u001b[38;5;241;43m.\u001b[39;49m\u001b[43mremove\u001b[49m\u001b[43m(\u001b[49m\u001b[43mi\u001b[49m\u001b[43m)\u001b[49m\n",
      "\u001b[0;31mValueError\u001b[0m: list.remove(x): x not in list"
     ]
    }
   ],
   "source": [
    "keep_cols = utils.keep_cols\n",
    "remove_cols = ['file_type', 'project', 'clip_url', 'media_url']\n",
    "for i in remove_cols:\n",
    "    keep_cols.remove(i)"
   ]
  },
  {
   "cell_type": "code",
   "execution_count": 52,
   "metadata": {},
   "outputs": [
    {
     "data": {
      "text/html": [
       "<div>\n",
       "<style scoped>\n",
       "    .dataframe tbody tr th:only-of-type {\n",
       "        vertical-align: middle;\n",
       "    }\n",
       "\n",
       "    .dataframe tbody tr th {\n",
       "        vertical-align: top;\n",
       "    }\n",
       "\n",
       "    .dataframe thead th {\n",
       "        text-align: right;\n",
       "    }\n",
       "</style>\n",
       "<table border=\"1\" class=\"dataframe\">\n",
       "  <thead>\n",
       "    <tr style=\"text-align: right;\">\n",
       "      <th></th>\n",
       "      <th>organization</th>\n",
       "      <th>project_id</th>\n",
       "      <th>location_id</th>\n",
       "      <th>recording_id</th>\n",
       "      <th>recording_date_time</th>\n",
       "      <th>species_code</th>\n",
       "      <th>species_common_name</th>\n",
       "      <th>detection_time</th>\n",
       "      <th>task_duration</th>\n",
       "      <th>tag_duration</th>\n",
       "      <th>tag_id</th>\n",
       "      <th>recording_url</th>\n",
       "      <th>task_method</th>\n",
       "      <th>latitude</th>\n",
       "      <th>longitude</th>\n",
       "      <th>individual_order</th>\n",
       "    </tr>\n",
       "  </thead>\n",
       "  <tbody>\n",
       "    <tr>\n",
       "      <th>9789</th>\n",
       "      <td>BU</td>\n",
       "      <td>787</td>\n",
       "      <td>98510</td>\n",
       "      <td>255472</td>\n",
       "      <td>2016-06-16 04:12:00</td>\n",
       "      <td>OSFL</td>\n",
       "      <td>Olive-sided Flycatcher</td>\n",
       "      <td>25.46</td>\n",
       "      <td>60s</td>\n",
       "      <td>1.25</td>\n",
       "      <td>2269294.0</td>\n",
       "      <td>https://wildtrax-aru.s3.us-west-2.amazonaws.co...</td>\n",
       "      <td>NaN</td>\n",
       "      <td>57.443536</td>\n",
       "      <td>-111.496876</td>\n",
       "      <td>1.0</td>\n",
       "    </tr>\n",
       "    <tr>\n",
       "      <th>9798</th>\n",
       "      <td>BU</td>\n",
       "      <td>787</td>\n",
       "      <td>98531</td>\n",
       "      <td>255412</td>\n",
       "      <td>2016-07-01 04:57:55</td>\n",
       "      <td>OSFL</td>\n",
       "      <td>Olive-sided Flycatcher</td>\n",
       "      <td>30.03</td>\n",
       "      <td>60s</td>\n",
       "      <td>1.04</td>\n",
       "      <td>2265662.0</td>\n",
       "      <td>https://wildtrax-aru.s3.us-west-2.amazonaws.co...</td>\n",
       "      <td>NaN</td>\n",
       "      <td>57.523776</td>\n",
       "      <td>-111.418890</td>\n",
       "      <td>1.0</td>\n",
       "    </tr>\n",
       "    <tr>\n",
       "      <th>9824</th>\n",
       "      <td>BU</td>\n",
       "      <td>787</td>\n",
       "      <td>98505</td>\n",
       "      <td>255913</td>\n",
       "      <td>2017-06-28 04:00:00</td>\n",
       "      <td>OSFL</td>\n",
       "      <td>Olive-sided Flycatcher</td>\n",
       "      <td>3.41</td>\n",
       "      <td>60s</td>\n",
       "      <td>1.56</td>\n",
       "      <td>2294310.0</td>\n",
       "      <td>https://wildtrax-aru.s3.us-west-2.amazonaws.co...</td>\n",
       "      <td>NaN</td>\n",
       "      <td>57.522751</td>\n",
       "      <td>-111.405270</td>\n",
       "      <td>1.0</td>\n",
       "    </tr>\n",
       "    <tr>\n",
       "      <th>9825</th>\n",
       "      <td>BU</td>\n",
       "      <td>787</td>\n",
       "      <td>98505</td>\n",
       "      <td>255913</td>\n",
       "      <td>2017-06-28 04:00:00</td>\n",
       "      <td>OSFL</td>\n",
       "      <td>Olive-sided Flycatcher</td>\n",
       "      <td>19.29</td>\n",
       "      <td>60s</td>\n",
       "      <td>1.40</td>\n",
       "      <td>2294316.0</td>\n",
       "      <td>https://wildtrax-aru.s3.us-west-2.amazonaws.co...</td>\n",
       "      <td>NaN</td>\n",
       "      <td>57.522751</td>\n",
       "      <td>-111.405270</td>\n",
       "      <td>1.0</td>\n",
       "    </tr>\n",
       "    <tr>\n",
       "      <th>9826</th>\n",
       "      <td>BU</td>\n",
       "      <td>787</td>\n",
       "      <td>98505</td>\n",
       "      <td>255913</td>\n",
       "      <td>2017-06-28 04:00:00</td>\n",
       "      <td>OSFL</td>\n",
       "      <td>Olive-sided Flycatcher</td>\n",
       "      <td>25.90</td>\n",
       "      <td>60s</td>\n",
       "      <td>1.33</td>\n",
       "      <td>2294318.0</td>\n",
       "      <td>https://wildtrax-aru.s3.us-west-2.amazonaws.co...</td>\n",
       "      <td>NaN</td>\n",
       "      <td>57.522751</td>\n",
       "      <td>-111.405270</td>\n",
       "      <td>1.0</td>\n",
       "    </tr>\n",
       "  </tbody>\n",
       "</table>\n",
       "</div>"
      ],
      "text/plain": [
       "     organization  project_id  location_id  recording_id  recording_date_time  \\\n",
       "9789           BU         787        98510        255472  2016-06-16 04:12:00   \n",
       "9798           BU         787        98531        255412  2016-07-01 04:57:55   \n",
       "9824           BU         787        98505        255913  2017-06-28 04:00:00   \n",
       "9825           BU         787        98505        255913  2017-06-28 04:00:00   \n",
       "9826           BU         787        98505        255913  2017-06-28 04:00:00   \n",
       "\n",
       "     species_code     species_common_name  detection_time task_duration  \\\n",
       "9789         OSFL  Olive-sided Flycatcher           25.46           60s   \n",
       "9798         OSFL  Olive-sided Flycatcher           30.03           60s   \n",
       "9824         OSFL  Olive-sided Flycatcher            3.41           60s   \n",
       "9825         OSFL  Olive-sided Flycatcher           19.29           60s   \n",
       "9826         OSFL  Olive-sided Flycatcher           25.90           60s   \n",
       "\n",
       "      tag_duration     tag_id  \\\n",
       "9789          1.25  2269294.0   \n",
       "9798          1.04  2265662.0   \n",
       "9824          1.56  2294310.0   \n",
       "9825          1.40  2294316.0   \n",
       "9826          1.33  2294318.0   \n",
       "\n",
       "                                          recording_url task_method  \\\n",
       "9789  https://wildtrax-aru.s3.us-west-2.amazonaws.co...         NaN   \n",
       "9798  https://wildtrax-aru.s3.us-west-2.amazonaws.co...         NaN   \n",
       "9824  https://wildtrax-aru.s3.us-west-2.amazonaws.co...         NaN   \n",
       "9825  https://wildtrax-aru.s3.us-west-2.amazonaws.co...         NaN   \n",
       "9826  https://wildtrax-aru.s3.us-west-2.amazonaws.co...         NaN   \n",
       "\n",
       "       latitude   longitude  individual_order  \n",
       "9789  57.443536 -111.496876               1.0  \n",
       "9798  57.523776 -111.418890               1.0  \n",
       "9824  57.522751 -111.405270               1.0  \n",
       "9825  57.522751 -111.405270               1.0  \n",
       "9826  57.522751 -111.405270               1.0  "
      ]
     },
     "execution_count": 52,
     "metadata": {},
     "output_type": "execute_result"
    }
   ],
   "source": [
    "osfls[keep_cols].head()"
   ]
  },
  {
   "cell_type": "code",
   "execution_count": 53,
   "metadata": {},
   "outputs": [
    {
     "data": {
      "text/plain": [
       "39"
      ]
     },
     "execution_count": 53,
     "metadata": {},
     "output_type": "execute_result"
    }
   ],
   "source": [
    "osfl_ids = osfl_songs.recording_id.unique()\n",
    "len(osfl_ids)"
   ]
  },
  {
   "cell_type": "code",
   "execution_count": 54,
   "metadata": {},
   "outputs": [
    {
     "name": "stderr",
     "output_type": "stream",
     "text": [
      "/var/folders/hy/36n7jr6x3h74ddx507dc12_00000gn/T/ipykernel_6337/773638745.py:1: DtypeWarning: Columns (7,22) have mixed types. Specify dtype option on import or set low_memory=False.\n",
      "  df_raw = pd.read_csv(data_path / 'raw' / 'TrainingData_BU&Public_CWS_with_rec_links.csv')\n"
     ]
    },
    {
     "data": {
      "text/plain": [
       "Index(['organization', 'project', 'project_id', 'location', 'location_id',\n",
       "       'recording_date_time', 'recording_id', 'task_method', 'task_id',\n",
       "       'aru_task_status', 'species_code', 'species_common_name',\n",
       "       'species_scientific_name', 'species_class', 'detection_time',\n",
       "       'task_duration', 'tag_duration', 'min_tag_freq', 'max_tag_freq',\n",
       "       'tag_id', 'individual_order', 'vocalization', 'abundance', 'tag_rating',\n",
       "       'tag_is_verified', 'clip_channel_used', 'observer', 'observer_id',\n",
       "       'verifier_id', 'left_full_freq_tag_rms_peak_dbfs',\n",
       "       'left_full_freq_tag_rms_trough_dbfs', 'left_full_freq_tag_pk_count',\n",
       "       'left_full_freq_tag_dc_offset', 'left_full_freq_tag_min_level',\n",
       "       'left_full_freq_tag_max_level', 'left_full_freq_tag_peak_level_dbfs',\n",
       "       'left_freq_filter_tag_rms_peak_dbfs',\n",
       "       'left_freq_filter_tag_rms_trough_dbfs', 'left_freq_filter_tag_pk_count',\n",
       "       'left_freq_filter_tag_dc_offset', 'left_freq_filter_tag_min_level',\n",
       "       'left_freq_filter_tag_max_level',\n",
       "       'left_freq_filter_tag_peak_level_dbfs',\n",
       "       'right_full_freq_tag_rms_peak_dbfs',\n",
       "       'right_full_freq_tag_rms_trough_dbfs', 'right_full_freq_tag_pk_count',\n",
       "       'right_full_freq_tag_dc_offset', 'right_full_freq_tag_min_level',\n",
       "       'right_full_freq_tag_max_level', 'right_full_freq_tag_peak_level_dbfs',\n",
       "       'right_freq_filter_tag_rms_peak_dbfs',\n",
       "       'right_freq_filter_tag_rms_trough_dbfs',\n",
       "       'right_freq_filter_tag_pk_count', 'right_freq_filter_tag_dc_offset',\n",
       "       'right_freq_filter_tag_min_level', 'right_freq_filter_tag_max_level',\n",
       "       'right_freq_filter_tag_peak_level_dbfs', 'tagged_in_wildtrax',\n",
       "       'media_url', 'spectrogram_url', 'clip_url', 'sensorId', 'tasks',\n",
       "       'status', 'recording_url', 'latitude', 'longitude',\n",
       "       'location_buffer_m'],\n",
       "      dtype='object')"
      ]
     },
     "execution_count": 54,
     "metadata": {},
     "output_type": "execute_result"
    }
   ],
   "source": [
    "df_raw = pd.read_csv(data_path / 'raw' / 'TrainingData_BU&Public_CWS_with_rec_links.csv')\n",
    "df_raw.columns"
   ]
  },
  {
   "cell_type": "code",
   "execution_count": 60,
   "metadata": {},
   "outputs": [],
   "source": [
    "df_raw_ids = df_raw.recording_id.unique()"
   ]
  },
  {
   "cell_type": "code",
   "execution_count": 56,
   "metadata": {},
   "outputs": [],
   "source": [
    "# find the intersection of the two sets\n",
    "common_ids = set(osfl_ids).intersection(set(df_raw_ids))"
   ]
  },
  {
   "cell_type": "code",
   "execution_count": 61,
   "metadata": {},
   "outputs": [
    {
     "data": {
      "text/plain": [
       "(39, 39)"
      ]
     },
     "execution_count": 61,
     "metadata": {},
     "output_type": "execute_result"
    }
   ],
   "source": [
    "len(common_ids), len(set(osfl_ids))"
   ]
  },
  {
   "cell_type": "code",
   "execution_count": 62,
   "metadata": {},
   "outputs": [
    {
     "data": {
      "text/plain": [
       "Index(['organization', 'project_id', 'location', 'location_id',\n",
       "       'location_buffer_m', 'longitude', 'latitude', 'equipment_make',\n",
       "       'equipment_model', 'recording_id', 'recording_date_time', 'task_id',\n",
       "       'aru_task_status', 'task_duration', 'task_method', 'species_code',\n",
       "       'species_common_name', 'species_scientific_name', 'individual_order',\n",
       "       'tag_id', 'individual_count', 'vocalization', 'detection_time',\n",
       "       'tag_duration', 'rms_peak_dbfs', 'tag_is_verified', 'tag_rating',\n",
       "       'observer', 'observer_id', 'species_individual_comments',\n",
       "       'task_comments', 'wildtrax_url', 'recording_url', 'target'],\n",
       "      dtype='object')"
      ]
     },
     "execution_count": 62,
     "metadata": {},
     "output_type": "execute_result"
    }
   ],
   "source": [
    "osfls.columns"
   ]
  },
  {
   "cell_type": "markdown",
   "metadata": {},
   "source": [
    "# Re-group the test dataframe by recording id and aggregate the detection times"
   ]
  },
  {
   "cell_type": "code",
   "execution_count": 63,
   "metadata": {},
   "outputs": [
    {
     "data": {
      "text/html": [
       "<div>\n",
       "<style scoped>\n",
       "    .dataframe tbody tr th:only-of-type {\n",
       "        vertical-align: middle;\n",
       "    }\n",
       "\n",
       "    .dataframe tbody tr th {\n",
       "        vertical-align: top;\n",
       "    }\n",
       "\n",
       "    .dataframe thead th {\n",
       "        text-align: right;\n",
       "    }\n",
       "</style>\n",
       "<table border=\"1\" class=\"dataframe\">\n",
       "  <thead>\n",
       "    <tr style=\"text-align: right;\">\n",
       "      <th></th>\n",
       "      <th>detection_time</th>\n",
       "      <th>tag_duration</th>\n",
       "    </tr>\n",
       "    <tr>\n",
       "      <th>recording_id</th>\n",
       "      <th></th>\n",
       "      <th></th>\n",
       "    </tr>\n",
       "  </thead>\n",
       "  <tbody>\n",
       "    <tr>\n",
       "      <th>255412</th>\n",
       "      <td>[30.03]</td>\n",
       "      <td>[1.04]</td>\n",
       "    </tr>\n",
       "    <tr>\n",
       "      <th>255419</th>\n",
       "      <td>[58.31, 41.78]</td>\n",
       "      <td>[1.29, 1.14]</td>\n",
       "    </tr>\n",
       "    <tr>\n",
       "      <th>255420</th>\n",
       "      <td>[17.21]</td>\n",
       "      <td>[0.83]</td>\n",
       "    </tr>\n",
       "    <tr>\n",
       "      <th>255421</th>\n",
       "      <td>[54.48, 40.61, 11.75, 31.54]</td>\n",
       "      <td>[1.34, 1.61, 0.98, 1.28]</td>\n",
       "    </tr>\n",
       "    <tr>\n",
       "      <th>255431</th>\n",
       "      <td>[55.16, 17.14]</td>\n",
       "      <td>[0.86, 0.78]</td>\n",
       "    </tr>\n",
       "    <tr>\n",
       "      <th>255432</th>\n",
       "      <td>[0.21, 30.76, 12.28]</td>\n",
       "      <td>[1.69, 0.95, 1.71]</td>\n",
       "    </tr>\n",
       "    <tr>\n",
       "      <th>255433</th>\n",
       "      <td>[24.33, 4.36]</td>\n",
       "      <td>[1.08, 1.5]</td>\n",
       "    </tr>\n",
       "    <tr>\n",
       "      <th>255449</th>\n",
       "      <td>[30.21, 17.39, 58.85, 6.19, 40.53]</td>\n",
       "      <td>[1.1, 1.09, 1.14, 1.46, 1.19]</td>\n",
       "    </tr>\n",
       "    <tr>\n",
       "      <th>255454</th>\n",
       "      <td>[58.58, 11.33, 18.9, 26.44, 25.25, 30.2, 34.08...</td>\n",
       "      <td>[0.91, 1.15, 1.09, 1.05, 1.09, 1.09, 1.04, 1.2...</td>\n",
       "    </tr>\n",
       "    <tr>\n",
       "      <th>255456</th>\n",
       "      <td>[2.81]</td>\n",
       "      <td>[0.88]</td>\n",
       "    </tr>\n",
       "    <tr>\n",
       "      <th>255457</th>\n",
       "      <td>[1.0, 57.73, 44.34, 35.93, 27.14, 53.58, 49.13...</td>\n",
       "      <td>[0.81, 1.55, 1.6, 1.83, 1.7, 1.4, 1.61, 1.64, ...</td>\n",
       "    </tr>\n",
       "    <tr>\n",
       "      <th>255461</th>\n",
       "      <td>[5.84]</td>\n",
       "      <td>[0.95]</td>\n",
       "    </tr>\n",
       "    <tr>\n",
       "      <th>255465</th>\n",
       "      <td>[47.66, 13.81, 27.09]</td>\n",
       "      <td>[1.49, 1.78, 1.6]</td>\n",
       "    </tr>\n",
       "    <tr>\n",
       "      <th>255472</th>\n",
       "      <td>[25.46]</td>\n",
       "      <td>[1.25]</td>\n",
       "    </tr>\n",
       "    <tr>\n",
       "      <th>255497</th>\n",
       "      <td>[55.88, 19.15]</td>\n",
       "      <td>[1.4, 1.41]</td>\n",
       "    </tr>\n",
       "    <tr>\n",
       "      <th>255513</th>\n",
       "      <td>[9.16, 42.38, 1.8]</td>\n",
       "      <td>[1.24, 1.48, 1.49]</td>\n",
       "    </tr>\n",
       "    <tr>\n",
       "      <th>255518</th>\n",
       "      <td>[48.58, 38.0, 25.21, 17.09]</td>\n",
       "      <td>[1.59, 1.28, 1.29, 1.28]</td>\n",
       "    </tr>\n",
       "    <tr>\n",
       "      <th>255526</th>\n",
       "      <td>[18.74]</td>\n",
       "      <td>[1.58]</td>\n",
       "    </tr>\n",
       "    <tr>\n",
       "      <th>255539</th>\n",
       "      <td>[55.99, 49.03, 23.83, 28.79, 36.93, 13.56, 12....</td>\n",
       "      <td>[1.2, 1.45, 1.44, 1.35, 1.51, 1.36, 0.78, 1.33]</td>\n",
       "    </tr>\n",
       "    <tr>\n",
       "      <th>255544</th>\n",
       "      <td>[59.18, 50.95, 42.64, 38.58, 35.16, 19.05, 11....</td>\n",
       "      <td>[0.8, 1.65, 1.95, 1.86, 1.61, 1.88, 1.93, 1.66...</td>\n",
       "    </tr>\n",
       "    <tr>\n",
       "      <th>255580</th>\n",
       "      <td>[54.85]</td>\n",
       "      <td>[0.98]</td>\n",
       "    </tr>\n",
       "    <tr>\n",
       "      <th>255581</th>\n",
       "      <td>[47.59, 55.8, 2.11, 6.49, 26.04, 29.6, 39.83, ...</td>\n",
       "      <td>[1.19, 1.46, 1.38, 0.99, 1.33, 1.35, 1.28, 1.3...</td>\n",
       "    </tr>\n",
       "    <tr>\n",
       "      <th>255582</th>\n",
       "      <td>[13.5, 48.79, 54.69, 29.93, 2.55, 25.45, 9.68,...</td>\n",
       "      <td>[1.39, 1.41, 1.51, 1.35, 1.45, 1.29, 1.41, 1.4...</td>\n",
       "    </tr>\n",
       "    <tr>\n",
       "      <th>255607</th>\n",
       "      <td>[33.41]</td>\n",
       "      <td>[0.94]</td>\n",
       "    </tr>\n",
       "    <tr>\n",
       "      <th>255623</th>\n",
       "      <td>[29.6, 24.55, 10.99, 5.66, 20.84, 40.41, 1.38,...</td>\n",
       "      <td>[1.59, 1.46, 1.66, 1.73, 1.48, 1.49, 1.49, 1.38]</td>\n",
       "    </tr>\n",
       "    <tr>\n",
       "      <th>255624</th>\n",
       "      <td>[42.54, 2.9, 6.7, 19.18, 26.1, 52.34, 56.25, 3...</td>\n",
       "      <td>[1.45, 1.35, 1.44, 1.5, 1.58, 1.18, 0.84, 1.55...</td>\n",
       "    </tr>\n",
       "    <tr>\n",
       "      <th>255625</th>\n",
       "      <td>[23.13, 7.3, 10.86, 16.95, 20.25, 29.9, 46.08,...</td>\n",
       "      <td>[1.58, 1.43, 1.54, 1.4, 1.48, 1.74, 1.49, 1.16...</td>\n",
       "    </tr>\n",
       "    <tr>\n",
       "      <th>255649</th>\n",
       "      <td>[9.59, 27.58]</td>\n",
       "      <td>[1.34, 1.19]</td>\n",
       "    </tr>\n",
       "    <tr>\n",
       "      <th>255665</th>\n",
       "      <td>[8.44, 43.71, 0.01, 49.01, 32.16]</td>\n",
       "      <td>[1.44, 1.45, 1.21, 1.46, 1.48]</td>\n",
       "    </tr>\n",
       "    <tr>\n",
       "      <th>255913</th>\n",
       "      <td>[3.41, 19.29, 25.9, 9.43, 6.5, 58.28, 12.68, 1...</td>\n",
       "      <td>[1.56, 1.4, 1.33, 1.4, 1.36, 1.16, 1.21, 1.75,...</td>\n",
       "    </tr>\n",
       "    <tr>\n",
       "      <th>255938</th>\n",
       "      <td>[45.66, 25.99, 33.95, 51.43, 3.26, 11.1]</td>\n",
       "      <td>[1.31, 1.23, 1.49, 1.45, 1.19, 1.24]</td>\n",
       "    </tr>\n",
       "    <tr>\n",
       "      <th>255940</th>\n",
       "      <td>[21.79]</td>\n",
       "      <td>[1.66]</td>\n",
       "    </tr>\n",
       "    <tr>\n",
       "      <th>255949</th>\n",
       "      <td>[14.56, 46.06]</td>\n",
       "      <td>[1.45, 1.14]</td>\n",
       "    </tr>\n",
       "    <tr>\n",
       "      <th>255967</th>\n",
       "      <td>[12.23, 52.6, 49.34, 46.24, 36.49, 33.0, 15.49...</td>\n",
       "      <td>[1.16, 1.03, 1.45, 1.24, 1.01, 1.2, 1.08, 1.09...</td>\n",
       "    </tr>\n",
       "    <tr>\n",
       "      <th>255980</th>\n",
       "      <td>[10.8, 20.21, 44.49, 27.7, 14.54]</td>\n",
       "      <td>[1.04, 1.36, 1.55, 1.3, 1.08]</td>\n",
       "    </tr>\n",
       "    <tr>\n",
       "      <th>256033</th>\n",
       "      <td>[57.04]</td>\n",
       "      <td>[1.41]</td>\n",
       "    </tr>\n",
       "    <tr>\n",
       "      <th>256035</th>\n",
       "      <td>[49.88, 39.44, 53.01, 34.25, 59.21, 40.19, 42....</td>\n",
       "      <td>[1.26, 0.9, 1.03, 1.11, 0.74, 1.1, 0.89, 0.96,...</td>\n",
       "    </tr>\n",
       "    <tr>\n",
       "      <th>256053</th>\n",
       "      <td>[20.5, 16.06]</td>\n",
       "      <td>[1.53, 1.33]</td>\n",
       "    </tr>\n",
       "    <tr>\n",
       "      <th>256055</th>\n",
       "      <td>[13.61, 1.29, 5.08, 17.31, 26.14, 47.6, 55.45,...</td>\n",
       "      <td>[1.71, 1.65, 1.43, 2.1, 1.54, 1.53, 1.7, 1.74,...</td>\n",
       "    </tr>\n",
       "  </tbody>\n",
       "</table>\n",
       "</div>"
      ],
      "text/plain": [
       "                                                 detection_time  \\\n",
       "recording_id                                                      \n",
       "255412                                                  [30.03]   \n",
       "255419                                           [58.31, 41.78]   \n",
       "255420                                                  [17.21]   \n",
       "255421                             [54.48, 40.61, 11.75, 31.54]   \n",
       "255431                                           [55.16, 17.14]   \n",
       "255432                                     [0.21, 30.76, 12.28]   \n",
       "255433                                            [24.33, 4.36]   \n",
       "255449                       [30.21, 17.39, 58.85, 6.19, 40.53]   \n",
       "255454        [58.58, 11.33, 18.9, 26.44, 25.25, 30.2, 34.08...   \n",
       "255456                                                   [2.81]   \n",
       "255457        [1.0, 57.73, 44.34, 35.93, 27.14, 53.58, 49.13...   \n",
       "255461                                                   [5.84]   \n",
       "255465                                    [47.66, 13.81, 27.09]   \n",
       "255472                                                  [25.46]   \n",
       "255497                                           [55.88, 19.15]   \n",
       "255513                                       [9.16, 42.38, 1.8]   \n",
       "255518                              [48.58, 38.0, 25.21, 17.09]   \n",
       "255526                                                  [18.74]   \n",
       "255539        [55.99, 49.03, 23.83, 28.79, 36.93, 13.56, 12....   \n",
       "255544        [59.18, 50.95, 42.64, 38.58, 35.16, 19.05, 11....   \n",
       "255580                                                  [54.85]   \n",
       "255581        [47.59, 55.8, 2.11, 6.49, 26.04, 29.6, 39.83, ...   \n",
       "255582        [13.5, 48.79, 54.69, 29.93, 2.55, 25.45, 9.68,...   \n",
       "255607                                                  [33.41]   \n",
       "255623        [29.6, 24.55, 10.99, 5.66, 20.84, 40.41, 1.38,...   \n",
       "255624        [42.54, 2.9, 6.7, 19.18, 26.1, 52.34, 56.25, 3...   \n",
       "255625        [23.13, 7.3, 10.86, 16.95, 20.25, 29.9, 46.08,...   \n",
       "255649                                            [9.59, 27.58]   \n",
       "255665                        [8.44, 43.71, 0.01, 49.01, 32.16]   \n",
       "255913        [3.41, 19.29, 25.9, 9.43, 6.5, 58.28, 12.68, 1...   \n",
       "255938                 [45.66, 25.99, 33.95, 51.43, 3.26, 11.1]   \n",
       "255940                                                  [21.79]   \n",
       "255949                                           [14.56, 46.06]   \n",
       "255967        [12.23, 52.6, 49.34, 46.24, 36.49, 33.0, 15.49...   \n",
       "255980                        [10.8, 20.21, 44.49, 27.7, 14.54]   \n",
       "256033                                                  [57.04]   \n",
       "256035        [49.88, 39.44, 53.01, 34.25, 59.21, 40.19, 42....   \n",
       "256053                                            [20.5, 16.06]   \n",
       "256055        [13.61, 1.29, 5.08, 17.31, 26.14, 47.6, 55.45,...   \n",
       "\n",
       "                                                   tag_duration  \n",
       "recording_id                                                     \n",
       "255412                                                   [1.04]  \n",
       "255419                                             [1.29, 1.14]  \n",
       "255420                                                   [0.83]  \n",
       "255421                                 [1.34, 1.61, 0.98, 1.28]  \n",
       "255431                                             [0.86, 0.78]  \n",
       "255432                                       [1.69, 0.95, 1.71]  \n",
       "255433                                              [1.08, 1.5]  \n",
       "255449                            [1.1, 1.09, 1.14, 1.46, 1.19]  \n",
       "255454        [0.91, 1.15, 1.09, 1.05, 1.09, 1.09, 1.04, 1.2...  \n",
       "255456                                                   [0.88]  \n",
       "255457        [0.81, 1.55, 1.6, 1.83, 1.7, 1.4, 1.61, 1.64, ...  \n",
       "255461                                                   [0.95]  \n",
       "255465                                        [1.49, 1.78, 1.6]  \n",
       "255472                                                   [1.25]  \n",
       "255497                                              [1.4, 1.41]  \n",
       "255513                                       [1.24, 1.48, 1.49]  \n",
       "255518                                 [1.59, 1.28, 1.29, 1.28]  \n",
       "255526                                                   [1.58]  \n",
       "255539          [1.2, 1.45, 1.44, 1.35, 1.51, 1.36, 0.78, 1.33]  \n",
       "255544        [0.8, 1.65, 1.95, 1.86, 1.61, 1.88, 1.93, 1.66...  \n",
       "255580                                                   [0.98]  \n",
       "255581        [1.19, 1.46, 1.38, 0.99, 1.33, 1.35, 1.28, 1.3...  \n",
       "255582        [1.39, 1.41, 1.51, 1.35, 1.45, 1.29, 1.41, 1.4...  \n",
       "255607                                                   [0.94]  \n",
       "255623         [1.59, 1.46, 1.66, 1.73, 1.48, 1.49, 1.49, 1.38]  \n",
       "255624        [1.45, 1.35, 1.44, 1.5, 1.58, 1.18, 0.84, 1.55...  \n",
       "255625        [1.58, 1.43, 1.54, 1.4, 1.48, 1.74, 1.49, 1.16...  \n",
       "255649                                             [1.34, 1.19]  \n",
       "255665                           [1.44, 1.45, 1.21, 1.46, 1.48]  \n",
       "255913        [1.56, 1.4, 1.33, 1.4, 1.36, 1.16, 1.21, 1.75,...  \n",
       "255938                     [1.31, 1.23, 1.49, 1.45, 1.19, 1.24]  \n",
       "255940                                                   [1.66]  \n",
       "255949                                             [1.45, 1.14]  \n",
       "255967        [1.16, 1.03, 1.45, 1.24, 1.01, 1.2, 1.08, 1.09...  \n",
       "255980                            [1.04, 1.36, 1.55, 1.3, 1.08]  \n",
       "256033                                                   [1.41]  \n",
       "256035        [1.26, 0.9, 1.03, 1.11, 0.74, 1.1, 0.89, 0.96,...  \n",
       "256053                                             [1.53, 1.33]  \n",
       "256055        [1.71, 1.65, 1.43, 2.1, 1.54, 1.53, 1.7, 1.74,...  "
      ]
     },
     "execution_count": 63,
     "metadata": {},
     "output_type": "execute_result"
    }
   ],
   "source": [
    "osfl_songs.groupby('recording_id').agg({'detection_time': lambda x: list(x), 'tag_duration': lambda x: list(x) })"
   ]
  },
  {
   "cell_type": "markdown",
   "metadata": {},
   "source": [
    "Conclusion: \n",
    "\n",
    "The test set contains recordings from the training data, so these will need to be removed if this data is used for training - otherwise the model will be tested on examples it has already been trained on and we won't see how the model generalises to new data.\n",
    "\n",
    "It looks as though this is a fully annotated set of recordings - but I'll need to check this. "
   ]
  }
 ],
 "metadata": {
  "kernelspec": {
   "display_name": "osfl2",
   "language": "python",
   "name": "python3"
  },
  "language_info": {
   "codemirror_mode": {
    "name": "ipython",
    "version": 3
   },
   "file_extension": ".py",
   "mimetype": "text/x-python",
   "name": "python",
   "nbconvert_exporter": "python",
   "pygments_lexer": "ipython3",
   "version": "3.10.12"
  }
 },
 "nbformat": 4,
 "nbformat_minor": 2
}
