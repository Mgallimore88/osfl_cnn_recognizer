{
 "cells": [
  {
   "cell_type": "markdown",
   "metadata": {},
   "source": [
    "# Evaluate hawkears classifications on the train split of the dataset. \n",
    "The database was split into test and training sets - this was done by ARU location. I ran the HawkEars model on all the recordings in the training split and saved the results in order to do model comparision. "
   ]
  },
  {
   "cell_type": "markdown",
   "metadata": {},
   "source": []
  },
  {
   "cell_type": "markdown",
   "metadata": {},
   "source": [
    "The hawkears output is in files corresponding to recording file. The input files are numbered and this number is used by HawkEars to name the output files, so we can match the HawkEars prediction files with the audio clips. "
   ]
  },
  {
   "cell_type": "code",
   "execution_count": 21,
   "metadata": {},
   "outputs": [],
   "source": [
    "# imports\n",
    "import glob\n",
    "from pathlib import Path\n",
    "import pandas as pd\n",
    "\n",
    "# for utils\n",
    "from pathlib import Path\n",
    "import sys\n",
    "BASE_PATH = Path.cwd().parent.parent\n",
    "sys.path.append(str(BASE_PATH))\n",
    "from src.utils import display_all, keep_cols, clean_confidence_cats\n",
    "import src.utils as utils\n",
    "import sklearn\n",
    "from sklearn.metrics import f1_score, accuracy_score, precision_score, recall_score, average_precision_score, roc_auc_score, precision_recall_curve\n",
    "\n",
    "import matplotlib.pyplot as plt\n",
    "import torch"
   ]
  },
  {
   "cell_type": "code",
   "execution_count": 24,
   "metadata": {},
   "outputs": [],
   "source": [
    "data_path = Path.cwd().parent.parent / 'data'\n",
    "hawkears_output_path = Path(data_path / 'processed' / 'hawkears_predictions')\n",
    "valid_df = pd.read_pickle(data_path / 'interim' / 'valid_set' / 'valid_df_verified.pkl')\n",
    "valid_df = clean_confidence_cats(valid_df)\n",
    "valid_df = valid_df[['target_presence']]"
   ]
  },
  {
   "cell_type": "code",
   "execution_count": 27,
   "metadata": {},
   "outputs": [
    {
     "data": {
      "text/plain": [
       "MultiIndex([(   ../../data/raw/recordings/OSFL/recording-4478.mp3,  0.0,  3.0),\n",
       "            (   ../../data/raw/recordings/OSFL/recording-4478.mp3,  1.5,  4.5),\n",
       "            (   ../../data/raw/recordings/OSFL/recording-4478.mp3,  3.0,  6.0),\n",
       "            (   ../../data/raw/recordings/OSFL/recording-4478.mp3,  4.5,  7.5),\n",
       "            (   ../../data/raw/recordings/OSFL/recording-4478.mp3,  6.0,  9.0),\n",
       "            (   ../../data/raw/recordings/OSFL/recording-4478.mp3,  7.5, 10.5),\n",
       "            (   ../../data/raw/recordings/OSFL/recording-4478.mp3,  9.0, 12.0),\n",
       "            (   ../../data/raw/recordings/OSFL/recording-4478.mp3, 10.5, 13.5),\n",
       "            (   ../../data/raw/recordings/OSFL/recording-4478.mp3, 12.0, 15.0),\n",
       "            (   ../../data/raw/recordings/OSFL/recording-4478.mp3, 13.5, 16.5),\n",
       "            ...\n",
       "            (../../data/raw/recordings/OSFL/recording-816752.flac, 24.0, 27.0),\n",
       "            (../../data/raw/recordings/OSFL/recording-816752.flac, 25.5, 28.5),\n",
       "            (../../data/raw/recordings/OSFL/recording-816752.flac, 27.0, 30.0),\n",
       "            (../../data/raw/recordings/OSFL/recording-816752.flac, 28.5, 31.5),\n",
       "            (../../data/raw/recordings/OSFL/recording-816752.flac, 30.0, 33.0),\n",
       "            (../../data/raw/recordings/OSFL/recording-816752.flac, 31.5, 34.5),\n",
       "            (../../data/raw/recordings/OSFL/recording-816752.flac, 33.0, 36.0),\n",
       "            (../../data/raw/recordings/OSFL/recording-816752.flac, 34.5, 37.5),\n",
       "            (../../data/raw/recordings/OSFL/recording-816752.flac, 36.0, 39.0),\n",
       "            (../../data/raw/recordings/OSFL/recording-816752.flac, 37.5, 40.5)],\n",
       "           names=['file', 'start_time', 'end_time'], length=10334)"
      ]
     },
     "execution_count": 27,
     "metadata": {},
     "output_type": "execute_result"
    }
   ],
   "source": [
    "valid_df.index"
   ]
  },
  {
   "cell_type": "code",
   "execution_count": 3,
   "metadata": {},
   "outputs": [
    {
     "data": {
      "text/plain": [
       "'/Users/mikeg/code/machine_learning/osfl_cnn_recognizer/data/processed/hawkears_predictions/555135_HawkEars.txt'"
      ]
     },
     "execution_count": 3,
     "metadata": {},
     "output_type": "execute_result"
    }
   ],
   "source": [
    "hawkears_output = glob.glob(str(hawkears_output_path / '*.txt'))\n",
    "hawkears_output[0]"
   ]
  },
  {
   "cell_type": "code",
   "execution_count": 4,
   "metadata": {},
   "outputs": [],
   "source": [
    "def get_df_from_3s_clips(hawkears_outputs, label):\n",
    "    results = []\n",
    "    # Read and parse the file contents\n",
    "    for file_path in hawkears_outputs:\n",
    "        with open(file_path, 'r') as f:\n",
    "            file_content = f.read().strip().split('\\n')\n",
    "            file_id = file_path.split('/')[-1].split('-')[0]\n",
    "            file_id = file_id.split('_')[0]\n",
    "            for detection in file_content:\n",
    "                if detection:\n",
    "                    line = [file_id] + detection.split('\\t')\n",
    "                else:\n",
    "                    line=[file_id]\n",
    "                results.append(line)     \n",
    "\n",
    "    # Convert the results to a pandas DataFrame\n",
    "    df = pd.DataFrame(results, columns=['file_id', 'start_time', 'end_time', 'species;confidence'])\n",
    "    df.file_id = df.file_id.astype(int)\n",
    "    df.sort_values(by=['file_id'], inplace=True)\n",
    "    df[['species', 'confidence']] = df['species;confidence'].str.split(';', expand=True)\n",
    "    df.drop(columns=['species;confidence'], inplace=True)\n",
    "    df.confidence = df.confidence.astype(float)\n",
    "    return df.reset_index(drop=True)"
   ]
  },
  {
   "cell_type": "code",
   "execution_count": 5,
   "metadata": {},
   "outputs": [],
   "source": [
    "df = get_df_from_3s_clips(hawkears_output, 1)\n"
   ]
  },
  {
   "cell_type": "code",
   "execution_count": null,
   "metadata": {},
   "outputs": [],
   "source": []
  },
  {
   "cell_type": "code",
   "execution_count": 6,
   "metadata": {},
   "outputs": [],
   "source": [
    "df.to_pickle(data_path / 'processed' / 'hawkears_predictions.pkl')\n"
   ]
  },
  {
   "cell_type": "code",
   "execution_count": 28,
   "metadata": {},
   "outputs": [
    {
     "data": {
      "text/html": [
       "<div>\n",
       "<style scoped>\n",
       "    .dataframe tbody tr th:only-of-type {\n",
       "        vertical-align: middle;\n",
       "    }\n",
       "\n",
       "    .dataframe tbody tr th {\n",
       "        vertical-align: top;\n",
       "    }\n",
       "\n",
       "    .dataframe thead th {\n",
       "        text-align: right;\n",
       "    }\n",
       "</style>\n",
       "<table border=\"1\" class=\"dataframe\">\n",
       "  <thead>\n",
       "    <tr style=\"text-align: right;\">\n",
       "      <th></th>\n",
       "      <th>file_id</th>\n",
       "      <th>start_time</th>\n",
       "      <th>end_time</th>\n",
       "      <th>species</th>\n",
       "      <th>confidence</th>\n",
       "      <th>label</th>\n",
       "    </tr>\n",
       "  </thead>\n",
       "  <tbody>\n",
       "    <tr>\n",
       "      <th>0</th>\n",
       "      <td>4429</td>\n",
       "      <td>175.50</td>\n",
       "      <td>178.50</td>\n",
       "      <td>YTWA</td>\n",
       "      <td>0.01</td>\n",
       "      <td>1</td>\n",
       "    </tr>\n",
       "    <tr>\n",
       "      <th>1</th>\n",
       "      <td>4429</td>\n",
       "      <td>12.00</td>\n",
       "      <td>15.00</td>\n",
       "      <td>PISI</td>\n",
       "      <td>0.01</td>\n",
       "      <td>1</td>\n",
       "    </tr>\n",
       "    <tr>\n",
       "      <th>2</th>\n",
       "      <td>4429</td>\n",
       "      <td>10.50</td>\n",
       "      <td>13.50</td>\n",
       "      <td>PISI</td>\n",
       "      <td>0.01</td>\n",
       "      <td>1</td>\n",
       "    </tr>\n",
       "    <tr>\n",
       "      <th>3</th>\n",
       "      <td>4429</td>\n",
       "      <td>9.00</td>\n",
       "      <td>12.00</td>\n",
       "      <td>PISI</td>\n",
       "      <td>0.01</td>\n",
       "      <td>1</td>\n",
       "    </tr>\n",
       "    <tr>\n",
       "      <th>4</th>\n",
       "      <td>4429</td>\n",
       "      <td>7.50</td>\n",
       "      <td>10.50</td>\n",
       "      <td>PISI</td>\n",
       "      <td>0.01</td>\n",
       "      <td>1</td>\n",
       "    </tr>\n",
       "  </tbody>\n",
       "</table>\n",
       "</div>"
      ],
      "text/plain": [
       "   file_id start_time end_time species  confidence  label\n",
       "0     4429     175.50   178.50    YTWA        0.01      1\n",
       "1     4429      12.00    15.00    PISI        0.01      1\n",
       "2     4429      10.50    13.50    PISI        0.01      1\n",
       "3     4429       9.00    12.00    PISI        0.01      1\n",
       "4     4429       7.50    10.50    PISI        0.01      1"
      ]
     },
     "execution_count": 28,
     "metadata": {},
     "output_type": "execute_result"
    }
   ],
   "source": [
    "df.head()"
   ]
  },
  {
   "cell_type": "markdown",
   "metadata": {},
   "source": [
    "With the threshold set to 0 in HawkEars, the model should output a confidence for each of the 306 birds, for each of the 3s clips. We can choose a threshold then try out the accuracy metric in sklearn."
   ]
  },
  {
   "cell_type": "code",
   "execution_count": 121,
   "metadata": {},
   "outputs": [
    {
     "data": {
      "text/plain": [
       "1579"
      ]
     },
     "execution_count": 121,
     "metadata": {},
     "output_type": "execute_result"
    }
   ],
   "source": [
    "df.species.nunique()\n",
    "df.file_id.nunique()"
   ]
  },
  {
   "cell_type": "markdown",
   "metadata": {},
   "source": [
    "# This section attempts to filter the predictions down to the exact files in the validation set"
   ]
  },
  {
   "cell_type": "code",
   "execution_count": 40,
   "metadata": {},
   "outputs": [
    {
     "data": {
      "text/plain": [
       "179283"
      ]
     },
     "execution_count": 40,
     "metadata": {},
     "output_type": "execute_result"
    }
   ],
   "source": [
    "osfls = df.loc[df['species'] == \"OSFL\"].copy()\n",
    "len(osfls)"
   ]
  },
  {
   "cell_type": "code",
   "execution_count": 104,
   "metadata": {},
   "outputs": [],
   "source": [
    "# Get the numeric part of the validation set files\n",
    "valid_df_file_ids = valid_df.index.get_level_values('file')\n",
    "valid_df_file_ids = [str(x) for x in valid_df_file_ids]\n",
    "valid_df_file_ids = [x.split('.')[-2].split('-')[-1] for x in valid_df_file_ids]\n",
    "valid_df_file_ids = [float(x) for x in valid_df_file_ids]"
   ]
  },
  {
   "cell_type": "code",
   "execution_count": 119,
   "metadata": {},
   "outputs": [],
   "source": [
    "valid_df_osfls = osfls.loc[osfls['file_id'].isin(valid_df_file_ids)]"
   ]
  },
  {
   "cell_type": "code",
   "execution_count": 117,
   "metadata": {},
   "outputs": [
    {
     "data": {
      "text/plain": [
       "(10334, 27703)"
      ]
     },
     "execution_count": 117,
     "metadata": {},
     "output_type": "execute_result"
    }
   ],
   "source": [
    "osfls = valid_df_osfls\n",
    "len(valid_df), len(osfls)"
   ]
  },
  {
   "cell_type": "markdown",
   "metadata": {},
   "source": [
    "#### Predictions are actually already made. We're just filtering them since the threshold is 0."
   ]
  },
  {
   "cell_type": "code",
   "execution_count": 110,
   "metadata": {},
   "outputs": [
    {
     "name": "stderr",
     "output_type": "stream",
     "text": [
      "/var/folders/hy/36n7jr6x3h74ddx507dc12_00000gn/T/ipykernel_45121/1300551645.py:2: SettingWithCopyWarning: \n",
      "A value is trying to be set on a copy of a slice from a DataFrame.\n",
      "Try using .loc[row_indexer,col_indexer] = value instead\n",
      "\n",
      "See the caveats in the documentation: https://pandas.pydata.org/pandas-docs/stable/user_guide/indexing.html#returning-a-view-versus-a-copy\n",
      "  df[\"prediction\"] = df.apply(lambda x: 1 if x[\"confidence\"] > threshold else 0, axis=1)\n"
     ]
    },
    {
     "data": {
      "text/html": [
       "<div>\n",
       "<style scoped>\n",
       "    .dataframe tbody tr th:only-of-type {\n",
       "        vertical-align: middle;\n",
       "    }\n",
       "\n",
       "    .dataframe tbody tr th {\n",
       "        vertical-align: top;\n",
       "    }\n",
       "\n",
       "    .dataframe thead th {\n",
       "        text-align: right;\n",
       "    }\n",
       "</style>\n",
       "<table border=\"1\" class=\"dataframe\">\n",
       "  <thead>\n",
       "    <tr style=\"text-align: right;\">\n",
       "      <th></th>\n",
       "      <th>file_id</th>\n",
       "      <th>start_time</th>\n",
       "      <th>end_time</th>\n",
       "      <th>species</th>\n",
       "      <th>confidence</th>\n",
       "      <th>label</th>\n",
       "      <th>prediction</th>\n",
       "    </tr>\n",
       "  </thead>\n",
       "  <tbody>\n",
       "    <tr>\n",
       "      <th>154123</th>\n",
       "      <td>4504</td>\n",
       "      <td>145.50</td>\n",
       "      <td>148.50</td>\n",
       "      <td>OSFL</td>\n",
       "      <td>0.01</td>\n",
       "      <td>1</td>\n",
       "      <td>0</td>\n",
       "    </tr>\n",
       "    <tr>\n",
       "      <th>154124</th>\n",
       "      <td>4504</td>\n",
       "      <td>144.00</td>\n",
       "      <td>147.00</td>\n",
       "      <td>OSFL</td>\n",
       "      <td>0.01</td>\n",
       "      <td>1</td>\n",
       "      <td>0</td>\n",
       "    </tr>\n",
       "    <tr>\n",
       "      <th>154125</th>\n",
       "      <td>4504</td>\n",
       "      <td>142.50</td>\n",
       "      <td>145.50</td>\n",
       "      <td>OSFL</td>\n",
       "      <td>0.01</td>\n",
       "      <td>1</td>\n",
       "      <td>0</td>\n",
       "    </tr>\n",
       "    <tr>\n",
       "      <th>154126</th>\n",
       "      <td>4504</td>\n",
       "      <td>141.00</td>\n",
       "      <td>144.00</td>\n",
       "      <td>OSFL</td>\n",
       "      <td>0.01</td>\n",
       "      <td>1</td>\n",
       "      <td>0</td>\n",
       "    </tr>\n",
       "    <tr>\n",
       "      <th>154127</th>\n",
       "      <td>4504</td>\n",
       "      <td>139.50</td>\n",
       "      <td>142.50</td>\n",
       "      <td>OSFL</td>\n",
       "      <td>0.02</td>\n",
       "      <td>1</td>\n",
       "      <td>0</td>\n",
       "    </tr>\n",
       "  </tbody>\n",
       "</table>\n",
       "</div>"
      ],
      "text/plain": [
       "        file_id start_time end_time species  confidence  label  prediction\n",
       "154123     4504     145.50   148.50    OSFL        0.01      1           0\n",
       "154124     4504     144.00   147.00    OSFL        0.01      1           0\n",
       "154125     4504     142.50   145.50    OSFL        0.01      1           0\n",
       "154126     4504     141.00   144.00    OSFL        0.01      1           0\n",
       "154127     4504     139.50   142.50    OSFL        0.02      1           0"
      ]
     },
     "execution_count": 110,
     "metadata": {},
     "output_type": "execute_result"
    }
   ],
   "source": [
    "def make_predictions(df, threshold):\n",
    "    df[\"prediction\"] = df.apply(lambda x: 1 if x[\"confidence\"] > threshold else 0, axis=1)\n",
    "    return df\n",
    "\n",
    "osfls = make_predictions(osfls, 0.7)\n",
    "osfls.head()"
   ]
  },
  {
   "cell_type": "markdown",
   "metadata": {},
   "source": [
    "# Calculate the accuracy of the model with various thresholds"
   ]
  },
  {
   "cell_type": "markdown",
   "metadata": {},
   "source": [
    "The label column isn't defined and needs filling in by loading these values out of the validation set."
   ]
  },
  {
   "cell_type": "code",
   "execution_count": 111,
   "metadata": {},
   "outputs": [
    {
     "data": {
      "text/plain": [
       "0.04331660830956936"
      ]
     },
     "execution_count": 111,
     "metadata": {},
     "output_type": "execute_result"
    }
   ],
   "source": [
    "accuracy_score(osfls.label, osfls.prediction)"
   ]
  },
  {
   "cell_type": "code",
   "execution_count": 112,
   "metadata": {},
   "outputs": [
    {
     "name": "stderr",
     "output_type": "stream",
     "text": [
      "/var/folders/hy/36n7jr6x3h74ddx507dc12_00000gn/T/ipykernel_45121/1300551645.py:2: SettingWithCopyWarning: \n",
      "A value is trying to be set on a copy of a slice from a DataFrame.\n",
      "Try using .loc[row_indexer,col_indexer] = value instead\n",
      "\n",
      "See the caveats in the documentation: https://pandas.pydata.org/pandas-docs/stable/user_guide/indexing.html#returning-a-view-versus-a-copy\n",
      "  df[\"prediction\"] = df.apply(lambda x: 1 if x[\"confidence\"] > threshold else 0, axis=1)\n",
      "/var/folders/hy/36n7jr6x3h74ddx507dc12_00000gn/T/ipykernel_45121/1300551645.py:2: SettingWithCopyWarning: \n",
      "A value is trying to be set on a copy of a slice from a DataFrame.\n",
      "Try using .loc[row_indexer,col_indexer] = value instead\n",
      "\n",
      "See the caveats in the documentation: https://pandas.pydata.org/pandas-docs/stable/user_guide/indexing.html#returning-a-view-versus-a-copy\n",
      "  df[\"prediction\"] = df.apply(lambda x: 1 if x[\"confidence\"] > threshold else 0, axis=1)\n",
      "/var/folders/hy/36n7jr6x3h74ddx507dc12_00000gn/T/ipykernel_45121/1300551645.py:2: SettingWithCopyWarning: \n",
      "A value is trying to be set on a copy of a slice from a DataFrame.\n",
      "Try using .loc[row_indexer,col_indexer] = value instead\n",
      "\n",
      "See the caveats in the documentation: https://pandas.pydata.org/pandas-docs/stable/user_guide/indexing.html#returning-a-view-versus-a-copy\n",
      "  df[\"prediction\"] = df.apply(lambda x: 1 if x[\"confidence\"] > threshold else 0, axis=1)\n",
      "/var/folders/hy/36n7jr6x3h74ddx507dc12_00000gn/T/ipykernel_45121/1300551645.py:2: SettingWithCopyWarning: \n",
      "A value is trying to be set on a copy of a slice from a DataFrame.\n",
      "Try using .loc[row_indexer,col_indexer] = value instead\n",
      "\n",
      "See the caveats in the documentation: https://pandas.pydata.org/pandas-docs/stable/user_guide/indexing.html#returning-a-view-versus-a-copy\n",
      "  df[\"prediction\"] = df.apply(lambda x: 1 if x[\"confidence\"] > threshold else 0, axis=1)\n",
      "/var/folders/hy/36n7jr6x3h74ddx507dc12_00000gn/T/ipykernel_45121/1300551645.py:2: SettingWithCopyWarning: \n",
      "A value is trying to be set on a copy of a slice from a DataFrame.\n",
      "Try using .loc[row_indexer,col_indexer] = value instead\n",
      "\n",
      "See the caveats in the documentation: https://pandas.pydata.org/pandas-docs/stable/user_guide/indexing.html#returning-a-view-versus-a-copy\n",
      "  df[\"prediction\"] = df.apply(lambda x: 1 if x[\"confidence\"] > threshold else 0, axis=1)\n",
      "/var/folders/hy/36n7jr6x3h74ddx507dc12_00000gn/T/ipykernel_45121/1300551645.py:2: SettingWithCopyWarning: \n",
      "A value is trying to be set on a copy of a slice from a DataFrame.\n",
      "Try using .loc[row_indexer,col_indexer] = value instead\n",
      "\n",
      "See the caveats in the documentation: https://pandas.pydata.org/pandas-docs/stable/user_guide/indexing.html#returning-a-view-versus-a-copy\n",
      "  df[\"prediction\"] = df.apply(lambda x: 1 if x[\"confidence\"] > threshold else 0, axis=1)\n",
      "/var/folders/hy/36n7jr6x3h74ddx507dc12_00000gn/T/ipykernel_45121/1300551645.py:2: SettingWithCopyWarning: \n",
      "A value is trying to be set on a copy of a slice from a DataFrame.\n",
      "Try using .loc[row_indexer,col_indexer] = value instead\n",
      "\n",
      "See the caveats in the documentation: https://pandas.pydata.org/pandas-docs/stable/user_guide/indexing.html#returning-a-view-versus-a-copy\n",
      "  df[\"prediction\"] = df.apply(lambda x: 1 if x[\"confidence\"] > threshold else 0, axis=1)\n",
      "/var/folders/hy/36n7jr6x3h74ddx507dc12_00000gn/T/ipykernel_45121/1300551645.py:2: SettingWithCopyWarning: \n",
      "A value is trying to be set on a copy of a slice from a DataFrame.\n",
      "Try using .loc[row_indexer,col_indexer] = value instead\n",
      "\n",
      "See the caveats in the documentation: https://pandas.pydata.org/pandas-docs/stable/user_guide/indexing.html#returning-a-view-versus-a-copy\n",
      "  df[\"prediction\"] = df.apply(lambda x: 1 if x[\"confidence\"] > threshold else 0, axis=1)\n",
      "/var/folders/hy/36n7jr6x3h74ddx507dc12_00000gn/T/ipykernel_45121/1300551645.py:2: SettingWithCopyWarning: \n",
      "A value is trying to be set on a copy of a slice from a DataFrame.\n",
      "Try using .loc[row_indexer,col_indexer] = value instead\n",
      "\n",
      "See the caveats in the documentation: https://pandas.pydata.org/pandas-docs/stable/user_guide/indexing.html#returning-a-view-versus-a-copy\n",
      "  df[\"prediction\"] = df.apply(lambda x: 1 if x[\"confidence\"] > threshold else 0, axis=1)\n",
      "/var/folders/hy/36n7jr6x3h74ddx507dc12_00000gn/T/ipykernel_45121/1300551645.py:2: SettingWithCopyWarning: \n",
      "A value is trying to be set on a copy of a slice from a DataFrame.\n",
      "Try using .loc[row_indexer,col_indexer] = value instead\n",
      "\n",
      "See the caveats in the documentation: https://pandas.pydata.org/pandas-docs/stable/user_guide/indexing.html#returning-a-view-versus-a-copy\n",
      "  df[\"prediction\"] = df.apply(lambda x: 1 if x[\"confidence\"] > threshold else 0, axis=1)\n",
      "/var/folders/hy/36n7jr6x3h74ddx507dc12_00000gn/T/ipykernel_45121/1300551645.py:2: SettingWithCopyWarning: \n",
      "A value is trying to be set on a copy of a slice from a DataFrame.\n",
      "Try using .loc[row_indexer,col_indexer] = value instead\n",
      "\n",
      "See the caveats in the documentation: https://pandas.pydata.org/pandas-docs/stable/user_guide/indexing.html#returning-a-view-versus-a-copy\n",
      "  df[\"prediction\"] = df.apply(lambda x: 1 if x[\"confidence\"] > threshold else 0, axis=1)\n",
      "/var/folders/hy/36n7jr6x3h74ddx507dc12_00000gn/T/ipykernel_45121/1300551645.py:2: SettingWithCopyWarning: \n",
      "A value is trying to be set on a copy of a slice from a DataFrame.\n",
      "Try using .loc[row_indexer,col_indexer] = value instead\n",
      "\n",
      "See the caveats in the documentation: https://pandas.pydata.org/pandas-docs/stable/user_guide/indexing.html#returning-a-view-versus-a-copy\n",
      "  df[\"prediction\"] = df.apply(lambda x: 1 if x[\"confidence\"] > threshold else 0, axis=1)\n",
      "/var/folders/hy/36n7jr6x3h74ddx507dc12_00000gn/T/ipykernel_45121/1300551645.py:2: SettingWithCopyWarning: \n",
      "A value is trying to be set on a copy of a slice from a DataFrame.\n",
      "Try using .loc[row_indexer,col_indexer] = value instead\n",
      "\n",
      "See the caveats in the documentation: https://pandas.pydata.org/pandas-docs/stable/user_guide/indexing.html#returning-a-view-versus-a-copy\n",
      "  df[\"prediction\"] = df.apply(lambda x: 1 if x[\"confidence\"] > threshold else 0, axis=1)\n",
      "/var/folders/hy/36n7jr6x3h74ddx507dc12_00000gn/T/ipykernel_45121/1300551645.py:2: SettingWithCopyWarning: \n",
      "A value is trying to be set on a copy of a slice from a DataFrame.\n",
      "Try using .loc[row_indexer,col_indexer] = value instead\n",
      "\n",
      "See the caveats in the documentation: https://pandas.pydata.org/pandas-docs/stable/user_guide/indexing.html#returning-a-view-versus-a-copy\n",
      "  df[\"prediction\"] = df.apply(lambda x: 1 if x[\"confidence\"] > threshold else 0, axis=1)\n",
      "/var/folders/hy/36n7jr6x3h74ddx507dc12_00000gn/T/ipykernel_45121/1300551645.py:2: SettingWithCopyWarning: \n",
      "A value is trying to be set on a copy of a slice from a DataFrame.\n",
      "Try using .loc[row_indexer,col_indexer] = value instead\n",
      "\n",
      "See the caveats in the documentation: https://pandas.pydata.org/pandas-docs/stable/user_guide/indexing.html#returning-a-view-versus-a-copy\n",
      "  df[\"prediction\"] = df.apply(lambda x: 1 if x[\"confidence\"] > threshold else 0, axis=1)\n",
      "/var/folders/hy/36n7jr6x3h74ddx507dc12_00000gn/T/ipykernel_45121/1300551645.py:2: SettingWithCopyWarning: \n",
      "A value is trying to be set on a copy of a slice from a DataFrame.\n",
      "Try using .loc[row_indexer,col_indexer] = value instead\n",
      "\n",
      "See the caveats in the documentation: https://pandas.pydata.org/pandas-docs/stable/user_guide/indexing.html#returning-a-view-versus-a-copy\n",
      "  df[\"prediction\"] = df.apply(lambda x: 1 if x[\"confidence\"] > threshold else 0, axis=1)\n",
      "/var/folders/hy/36n7jr6x3h74ddx507dc12_00000gn/T/ipykernel_45121/1300551645.py:2: SettingWithCopyWarning: \n",
      "A value is trying to be set on a copy of a slice from a DataFrame.\n",
      "Try using .loc[row_indexer,col_indexer] = value instead\n",
      "\n",
      "See the caveats in the documentation: https://pandas.pydata.org/pandas-docs/stable/user_guide/indexing.html#returning-a-view-versus-a-copy\n",
      "  df[\"prediction\"] = df.apply(lambda x: 1 if x[\"confidence\"] > threshold else 0, axis=1)\n",
      "/var/folders/hy/36n7jr6x3h74ddx507dc12_00000gn/T/ipykernel_45121/1300551645.py:2: SettingWithCopyWarning: \n",
      "A value is trying to be set on a copy of a slice from a DataFrame.\n",
      "Try using .loc[row_indexer,col_indexer] = value instead\n",
      "\n",
      "See the caveats in the documentation: https://pandas.pydata.org/pandas-docs/stable/user_guide/indexing.html#returning-a-view-versus-a-copy\n",
      "  df[\"prediction\"] = df.apply(lambda x: 1 if x[\"confidence\"] > threshold else 0, axis=1)\n",
      "/var/folders/hy/36n7jr6x3h74ddx507dc12_00000gn/T/ipykernel_45121/1300551645.py:2: SettingWithCopyWarning: \n",
      "A value is trying to be set on a copy of a slice from a DataFrame.\n",
      "Try using .loc[row_indexer,col_indexer] = value instead\n",
      "\n",
      "See the caveats in the documentation: https://pandas.pydata.org/pandas-docs/stable/user_guide/indexing.html#returning-a-view-versus-a-copy\n",
      "  df[\"prediction\"] = df.apply(lambda x: 1 if x[\"confidence\"] > threshold else 0, axis=1)\n",
      "/var/folders/hy/36n7jr6x3h74ddx507dc12_00000gn/T/ipykernel_45121/1300551645.py:2: SettingWithCopyWarning: \n",
      "A value is trying to be set on a copy of a slice from a DataFrame.\n",
      "Try using .loc[row_indexer,col_indexer] = value instead\n",
      "\n",
      "See the caveats in the documentation: https://pandas.pydata.org/pandas-docs/stable/user_guide/indexing.html#returning-a-view-versus-a-copy\n",
      "  df[\"prediction\"] = df.apply(lambda x: 1 if x[\"confidence\"] > threshold else 0, axis=1)\n",
      "/var/folders/hy/36n7jr6x3h74ddx507dc12_00000gn/T/ipykernel_45121/1300551645.py:2: SettingWithCopyWarning: \n",
      "A value is trying to be set on a copy of a slice from a DataFrame.\n",
      "Try using .loc[row_indexer,col_indexer] = value instead\n",
      "\n",
      "See the caveats in the documentation: https://pandas.pydata.org/pandas-docs/stable/user_guide/indexing.html#returning-a-view-versus-a-copy\n",
      "  df[\"prediction\"] = df.apply(lambda x: 1 if x[\"confidence\"] > threshold else 0, axis=1)\n",
      "/var/folders/hy/36n7jr6x3h74ddx507dc12_00000gn/T/ipykernel_45121/1300551645.py:2: SettingWithCopyWarning: \n",
      "A value is trying to be set on a copy of a slice from a DataFrame.\n",
      "Try using .loc[row_indexer,col_indexer] = value instead\n",
      "\n",
      "See the caveats in the documentation: https://pandas.pydata.org/pandas-docs/stable/user_guide/indexing.html#returning-a-view-versus-a-copy\n",
      "  df[\"prediction\"] = df.apply(lambda x: 1 if x[\"confidence\"] > threshold else 0, axis=1)\n",
      "/var/folders/hy/36n7jr6x3h74ddx507dc12_00000gn/T/ipykernel_45121/1300551645.py:2: SettingWithCopyWarning: \n",
      "A value is trying to be set on a copy of a slice from a DataFrame.\n",
      "Try using .loc[row_indexer,col_indexer] = value instead\n",
      "\n",
      "See the caveats in the documentation: https://pandas.pydata.org/pandas-docs/stable/user_guide/indexing.html#returning-a-view-versus-a-copy\n",
      "  df[\"prediction\"] = df.apply(lambda x: 1 if x[\"confidence\"] > threshold else 0, axis=1)\n",
      "/var/folders/hy/36n7jr6x3h74ddx507dc12_00000gn/T/ipykernel_45121/1300551645.py:2: SettingWithCopyWarning: \n",
      "A value is trying to be set on a copy of a slice from a DataFrame.\n",
      "Try using .loc[row_indexer,col_indexer] = value instead\n",
      "\n",
      "See the caveats in the documentation: https://pandas.pydata.org/pandas-docs/stable/user_guide/indexing.html#returning-a-view-versus-a-copy\n",
      "  df[\"prediction\"] = df.apply(lambda x: 1 if x[\"confidence\"] > threshold else 0, axis=1)\n",
      "/var/folders/hy/36n7jr6x3h74ddx507dc12_00000gn/T/ipykernel_45121/1300551645.py:2: SettingWithCopyWarning: \n",
      "A value is trying to be set on a copy of a slice from a DataFrame.\n",
      "Try using .loc[row_indexer,col_indexer] = value instead\n",
      "\n",
      "See the caveats in the documentation: https://pandas.pydata.org/pandas-docs/stable/user_guide/indexing.html#returning-a-view-versus-a-copy\n",
      "  df[\"prediction\"] = df.apply(lambda x: 1 if x[\"confidence\"] > threshold else 0, axis=1)\n",
      "/var/folders/hy/36n7jr6x3h74ddx507dc12_00000gn/T/ipykernel_45121/1300551645.py:2: SettingWithCopyWarning: \n",
      "A value is trying to be set on a copy of a slice from a DataFrame.\n",
      "Try using .loc[row_indexer,col_indexer] = value instead\n",
      "\n",
      "See the caveats in the documentation: https://pandas.pydata.org/pandas-docs/stable/user_guide/indexing.html#returning-a-view-versus-a-copy\n",
      "  df[\"prediction\"] = df.apply(lambda x: 1 if x[\"confidence\"] > threshold else 0, axis=1)\n",
      "/var/folders/hy/36n7jr6x3h74ddx507dc12_00000gn/T/ipykernel_45121/1300551645.py:2: SettingWithCopyWarning: \n",
      "A value is trying to be set on a copy of a slice from a DataFrame.\n",
      "Try using .loc[row_indexer,col_indexer] = value instead\n",
      "\n",
      "See the caveats in the documentation: https://pandas.pydata.org/pandas-docs/stable/user_guide/indexing.html#returning-a-view-versus-a-copy\n",
      "  df[\"prediction\"] = df.apply(lambda x: 1 if x[\"confidence\"] > threshold else 0, axis=1)\n",
      "/var/folders/hy/36n7jr6x3h74ddx507dc12_00000gn/T/ipykernel_45121/1300551645.py:2: SettingWithCopyWarning: \n",
      "A value is trying to be set on a copy of a slice from a DataFrame.\n",
      "Try using .loc[row_indexer,col_indexer] = value instead\n",
      "\n",
      "See the caveats in the documentation: https://pandas.pydata.org/pandas-docs/stable/user_guide/indexing.html#returning-a-view-versus-a-copy\n",
      "  df[\"prediction\"] = df.apply(lambda x: 1 if x[\"confidence\"] > threshold else 0, axis=1)\n",
      "/var/folders/hy/36n7jr6x3h74ddx507dc12_00000gn/T/ipykernel_45121/1300551645.py:2: SettingWithCopyWarning: \n",
      "A value is trying to be set on a copy of a slice from a DataFrame.\n",
      "Try using .loc[row_indexer,col_indexer] = value instead\n",
      "\n",
      "See the caveats in the documentation: https://pandas.pydata.org/pandas-docs/stable/user_guide/indexing.html#returning-a-view-versus-a-copy\n",
      "  df[\"prediction\"] = df.apply(lambda x: 1 if x[\"confidence\"] > threshold else 0, axis=1)\n",
      "/var/folders/hy/36n7jr6x3h74ddx507dc12_00000gn/T/ipykernel_45121/1300551645.py:2: SettingWithCopyWarning: \n",
      "A value is trying to be set on a copy of a slice from a DataFrame.\n",
      "Try using .loc[row_indexer,col_indexer] = value instead\n",
      "\n",
      "See the caveats in the documentation: https://pandas.pydata.org/pandas-docs/stable/user_guide/indexing.html#returning-a-view-versus-a-copy\n",
      "  df[\"prediction\"] = df.apply(lambda x: 1 if x[\"confidence\"] > threshold else 0, axis=1)\n",
      "/var/folders/hy/36n7jr6x3h74ddx507dc12_00000gn/T/ipykernel_45121/1300551645.py:2: SettingWithCopyWarning: \n",
      "A value is trying to be set on a copy of a slice from a DataFrame.\n",
      "Try using .loc[row_indexer,col_indexer] = value instead\n",
      "\n",
      "See the caveats in the documentation: https://pandas.pydata.org/pandas-docs/stable/user_guide/indexing.html#returning-a-view-versus-a-copy\n",
      "  df[\"prediction\"] = df.apply(lambda x: 1 if x[\"confidence\"] > threshold else 0, axis=1)\n",
      "/var/folders/hy/36n7jr6x3h74ddx507dc12_00000gn/T/ipykernel_45121/1300551645.py:2: SettingWithCopyWarning: \n",
      "A value is trying to be set on a copy of a slice from a DataFrame.\n",
      "Try using .loc[row_indexer,col_indexer] = value instead\n",
      "\n",
      "See the caveats in the documentation: https://pandas.pydata.org/pandas-docs/stable/user_guide/indexing.html#returning-a-view-versus-a-copy\n",
      "  df[\"prediction\"] = df.apply(lambda x: 1 if x[\"confidence\"] > threshold else 0, axis=1)\n",
      "/var/folders/hy/36n7jr6x3h74ddx507dc12_00000gn/T/ipykernel_45121/1300551645.py:2: SettingWithCopyWarning: \n",
      "A value is trying to be set on a copy of a slice from a DataFrame.\n",
      "Try using .loc[row_indexer,col_indexer] = value instead\n",
      "\n",
      "See the caveats in the documentation: https://pandas.pydata.org/pandas-docs/stable/user_guide/indexing.html#returning-a-view-versus-a-copy\n",
      "  df[\"prediction\"] = df.apply(lambda x: 1 if x[\"confidence\"] > threshold else 0, axis=1)\n",
      "/var/folders/hy/36n7jr6x3h74ddx507dc12_00000gn/T/ipykernel_45121/1300551645.py:2: SettingWithCopyWarning: \n",
      "A value is trying to be set on a copy of a slice from a DataFrame.\n",
      "Try using .loc[row_indexer,col_indexer] = value instead\n",
      "\n",
      "See the caveats in the documentation: https://pandas.pydata.org/pandas-docs/stable/user_guide/indexing.html#returning-a-view-versus-a-copy\n",
      "  df[\"prediction\"] = df.apply(lambda x: 1 if x[\"confidence\"] > threshold else 0, axis=1)\n",
      "/var/folders/hy/36n7jr6x3h74ddx507dc12_00000gn/T/ipykernel_45121/1300551645.py:2: SettingWithCopyWarning: \n",
      "A value is trying to be set on a copy of a slice from a DataFrame.\n",
      "Try using .loc[row_indexer,col_indexer] = value instead\n",
      "\n",
      "See the caveats in the documentation: https://pandas.pydata.org/pandas-docs/stable/user_guide/indexing.html#returning-a-view-versus-a-copy\n",
      "  df[\"prediction\"] = df.apply(lambda x: 1 if x[\"confidence\"] > threshold else 0, axis=1)\n",
      "/var/folders/hy/36n7jr6x3h74ddx507dc12_00000gn/T/ipykernel_45121/1300551645.py:2: SettingWithCopyWarning: \n",
      "A value is trying to be set on a copy of a slice from a DataFrame.\n",
      "Try using .loc[row_indexer,col_indexer] = value instead\n",
      "\n",
      "See the caveats in the documentation: https://pandas.pydata.org/pandas-docs/stable/user_guide/indexing.html#returning-a-view-versus-a-copy\n",
      "  df[\"prediction\"] = df.apply(lambda x: 1 if x[\"confidence\"] > threshold else 0, axis=1)\n",
      "/var/folders/hy/36n7jr6x3h74ddx507dc12_00000gn/T/ipykernel_45121/1300551645.py:2: SettingWithCopyWarning: \n",
      "A value is trying to be set on a copy of a slice from a DataFrame.\n",
      "Try using .loc[row_indexer,col_indexer] = value instead\n",
      "\n",
      "See the caveats in the documentation: https://pandas.pydata.org/pandas-docs/stable/user_guide/indexing.html#returning-a-view-versus-a-copy\n",
      "  df[\"prediction\"] = df.apply(lambda x: 1 if x[\"confidence\"] > threshold else 0, axis=1)\n",
      "/var/folders/hy/36n7jr6x3h74ddx507dc12_00000gn/T/ipykernel_45121/1300551645.py:2: SettingWithCopyWarning: \n",
      "A value is trying to be set on a copy of a slice from a DataFrame.\n",
      "Try using .loc[row_indexer,col_indexer] = value instead\n",
      "\n",
      "See the caveats in the documentation: https://pandas.pydata.org/pandas-docs/stable/user_guide/indexing.html#returning-a-view-versus-a-copy\n",
      "  df[\"prediction\"] = df.apply(lambda x: 1 if x[\"confidence\"] > threshold else 0, axis=1)\n",
      "/var/folders/hy/36n7jr6x3h74ddx507dc12_00000gn/T/ipykernel_45121/1300551645.py:2: SettingWithCopyWarning: \n",
      "A value is trying to be set on a copy of a slice from a DataFrame.\n",
      "Try using .loc[row_indexer,col_indexer] = value instead\n",
      "\n",
      "See the caveats in the documentation: https://pandas.pydata.org/pandas-docs/stable/user_guide/indexing.html#returning-a-view-versus-a-copy\n",
      "  df[\"prediction\"] = df.apply(lambda x: 1 if x[\"confidence\"] > threshold else 0, axis=1)\n",
      "/var/folders/hy/36n7jr6x3h74ddx507dc12_00000gn/T/ipykernel_45121/1300551645.py:2: SettingWithCopyWarning: \n",
      "A value is trying to be set on a copy of a slice from a DataFrame.\n",
      "Try using .loc[row_indexer,col_indexer] = value instead\n",
      "\n",
      "See the caveats in the documentation: https://pandas.pydata.org/pandas-docs/stable/user_guide/indexing.html#returning-a-view-versus-a-copy\n",
      "  df[\"prediction\"] = df.apply(lambda x: 1 if x[\"confidence\"] > threshold else 0, axis=1)\n",
      "/var/folders/hy/36n7jr6x3h74ddx507dc12_00000gn/T/ipykernel_45121/1300551645.py:2: SettingWithCopyWarning: \n",
      "A value is trying to be set on a copy of a slice from a DataFrame.\n",
      "Try using .loc[row_indexer,col_indexer] = value instead\n",
      "\n",
      "See the caveats in the documentation: https://pandas.pydata.org/pandas-docs/stable/user_guide/indexing.html#returning-a-view-versus-a-copy\n",
      "  df[\"prediction\"] = df.apply(lambda x: 1 if x[\"confidence\"] > threshold else 0, axis=1)\n",
      "/var/folders/hy/36n7jr6x3h74ddx507dc12_00000gn/T/ipykernel_45121/1300551645.py:2: SettingWithCopyWarning: \n",
      "A value is trying to be set on a copy of a slice from a DataFrame.\n",
      "Try using .loc[row_indexer,col_indexer] = value instead\n",
      "\n",
      "See the caveats in the documentation: https://pandas.pydata.org/pandas-docs/stable/user_guide/indexing.html#returning-a-view-versus-a-copy\n",
      "  df[\"prediction\"] = df.apply(lambda x: 1 if x[\"confidence\"] > threshold else 0, axis=1)\n",
      "/var/folders/hy/36n7jr6x3h74ddx507dc12_00000gn/T/ipykernel_45121/1300551645.py:2: SettingWithCopyWarning: \n",
      "A value is trying to be set on a copy of a slice from a DataFrame.\n",
      "Try using .loc[row_indexer,col_indexer] = value instead\n",
      "\n",
      "See the caveats in the documentation: https://pandas.pydata.org/pandas-docs/stable/user_guide/indexing.html#returning-a-view-versus-a-copy\n",
      "  df[\"prediction\"] = df.apply(lambda x: 1 if x[\"confidence\"] > threshold else 0, axis=1)\n",
      "/var/folders/hy/36n7jr6x3h74ddx507dc12_00000gn/T/ipykernel_45121/1300551645.py:2: SettingWithCopyWarning: \n",
      "A value is trying to be set on a copy of a slice from a DataFrame.\n",
      "Try using .loc[row_indexer,col_indexer] = value instead\n",
      "\n",
      "See the caveats in the documentation: https://pandas.pydata.org/pandas-docs/stable/user_guide/indexing.html#returning-a-view-versus-a-copy\n",
      "  df[\"prediction\"] = df.apply(lambda x: 1 if x[\"confidence\"] > threshold else 0, axis=1)\n",
      "/var/folders/hy/36n7jr6x3h74ddx507dc12_00000gn/T/ipykernel_45121/1300551645.py:2: SettingWithCopyWarning: \n",
      "A value is trying to be set on a copy of a slice from a DataFrame.\n",
      "Try using .loc[row_indexer,col_indexer] = value instead\n",
      "\n",
      "See the caveats in the documentation: https://pandas.pydata.org/pandas-docs/stable/user_guide/indexing.html#returning-a-view-versus-a-copy\n",
      "  df[\"prediction\"] = df.apply(lambda x: 1 if x[\"confidence\"] > threshold else 0, axis=1)\n",
      "/var/folders/hy/36n7jr6x3h74ddx507dc12_00000gn/T/ipykernel_45121/1300551645.py:2: SettingWithCopyWarning: \n",
      "A value is trying to be set on a copy of a slice from a DataFrame.\n",
      "Try using .loc[row_indexer,col_indexer] = value instead\n",
      "\n",
      "See the caveats in the documentation: https://pandas.pydata.org/pandas-docs/stable/user_guide/indexing.html#returning-a-view-versus-a-copy\n",
      "  df[\"prediction\"] = df.apply(lambda x: 1 if x[\"confidence\"] > threshold else 0, axis=1)\n",
      "/var/folders/hy/36n7jr6x3h74ddx507dc12_00000gn/T/ipykernel_45121/1300551645.py:2: SettingWithCopyWarning: \n",
      "A value is trying to be set on a copy of a slice from a DataFrame.\n",
      "Try using .loc[row_indexer,col_indexer] = value instead\n",
      "\n",
      "See the caveats in the documentation: https://pandas.pydata.org/pandas-docs/stable/user_guide/indexing.html#returning-a-view-versus-a-copy\n",
      "  df[\"prediction\"] = df.apply(lambda x: 1 if x[\"confidence\"] > threshold else 0, axis=1)\n",
      "/var/folders/hy/36n7jr6x3h74ddx507dc12_00000gn/T/ipykernel_45121/1300551645.py:2: SettingWithCopyWarning: \n",
      "A value is trying to be set on a copy of a slice from a DataFrame.\n",
      "Try using .loc[row_indexer,col_indexer] = value instead\n",
      "\n",
      "See the caveats in the documentation: https://pandas.pydata.org/pandas-docs/stable/user_guide/indexing.html#returning-a-view-versus-a-copy\n",
      "  df[\"prediction\"] = df.apply(lambda x: 1 if x[\"confidence\"] > threshold else 0, axis=1)\n",
      "/var/folders/hy/36n7jr6x3h74ddx507dc12_00000gn/T/ipykernel_45121/1300551645.py:2: SettingWithCopyWarning: \n",
      "A value is trying to be set on a copy of a slice from a DataFrame.\n",
      "Try using .loc[row_indexer,col_indexer] = value instead\n",
      "\n",
      "See the caveats in the documentation: https://pandas.pydata.org/pandas-docs/stable/user_guide/indexing.html#returning-a-view-versus-a-copy\n",
      "  df[\"prediction\"] = df.apply(lambda x: 1 if x[\"confidence\"] > threshold else 0, axis=1)\n",
      "/var/folders/hy/36n7jr6x3h74ddx507dc12_00000gn/T/ipykernel_45121/1300551645.py:2: SettingWithCopyWarning: \n",
      "A value is trying to be set on a copy of a slice from a DataFrame.\n",
      "Try using .loc[row_indexer,col_indexer] = value instead\n",
      "\n",
      "See the caveats in the documentation: https://pandas.pydata.org/pandas-docs/stable/user_guide/indexing.html#returning-a-view-versus-a-copy\n",
      "  df[\"prediction\"] = df.apply(lambda x: 1 if x[\"confidence\"] > threshold else 0, axis=1)\n",
      "/Users/mikeg/miniforge3/envs/osfl2/lib/python3.10/site-packages/sklearn/metrics/_classification.py:1469: UndefinedMetricWarning: Precision is ill-defined and being set to 0.0 due to no predicted samples. Use `zero_division` parameter to control this behavior.\n",
      "  _warn_prf(average, modifier, msg_start, len(result))\n"
     ]
    },
    {
     "data": {
      "image/png": "[encoded data removed]",
      "text/plain": [
       "<Figure size 640x480 with 1 Axes>"
      ]
     },
     "metadata": {},
     "output_type": "display_data"
    }
   ],
   "source": [
    "plot_data = []\n",
    "for threshold in torch.linspace(0, 1, 50):\n",
    "    osfls = make_predictions(osfls, threshold)\n",
    "    plot_data.append(\n",
    "        [\n",
    "            threshold,\n",
    "            accuracy_score(osfls.label, osfls.prediction),\n",
    "            precision_score(osfls.label, osfls.prediction),\n",
    "            recall_score(osfls.label, osfls.prediction),\n",
    "            f1_score(osfls.label, osfls.prediction),\n",
    "        ]\n",
    "    )\n",
    "\n",
    "\n",
    "thresholds, accuracies, precisions, recalls, f1s = zip(*plot_data)\n",
    "plt.plot(thresholds, accuracies)\n",
    "plt.plot(thresholds, precisions)\n",
    "plt.plot(thresholds, recalls)\n",
    "plt.plot(thresholds, f1s)\n",
    "ax, fig = plt.gca(), plt.gcf()\n",
    "ax.set_xlabel(\"Threshold\")\n",
    "ax.set_ylabel(\"Metric\")\n",
    "ax.legend([\"Accuracy\", \"Precision\", \"Recall\", \"F1 Score\"])\n",
    "plt.show()"
   ]
  },
  {
   "cell_type": "markdown",
   "metadata": {},
   "source": [
    "A reminder about the meaning of these metrics:\n",
    "- Precision: the proportion of positive identifications that were actually correct\n",
    "- Recall: the proportion of actual positives that were correctly identified\n",
    "- Accuracy: the proportion of true results (both true positives and true negatives) among the total number of cases examined"
   ]
  },
  {
   "cell_type": "markdown",
   "metadata": {},
   "source": [
    "Calculate the average precision "
   ]
  },
  {
   "cell_type": "code",
   "execution_count": 15,
   "metadata": {},
   "outputs": [
    {
     "data": {
      "text/plain": [
       "0.8015973513425184"
      ]
     },
     "execution_count": 15,
     "metadata": {},
     "output_type": "execute_result"
    }
   ],
   "source": [
    "average_precision_score(osfls.label, osfls.confidence)"
   ]
  },
  {
   "cell_type": "code",
   "execution_count": 16,
   "metadata": {},
   "outputs": [
    {
     "data": {
      "text/plain": [
       "0.5"
      ]
     },
     "execution_count": 16,
     "metadata": {},
     "output_type": "execute_result"
    }
   ],
   "source": [
    "len(osfls.loc[osfls['label']==0])/len(osfls)"
   ]
  },
  {
   "cell_type": "code",
   "execution_count": 17,
   "metadata": {},
   "outputs": [
    {
     "data": {
      "text/plain": [
       "388"
      ]
     },
     "execution_count": 17,
     "metadata": {},
     "output_type": "execute_result"
    }
   ],
   "source": [
    "osfls = make_predictions(osfls, 0.5)\n",
    "targets = osfls.loc[osfls.label==1]\n",
    "len(targets)"
   ]
  },
  {
   "cell_type": "code",
   "execution_count": 18,
   "metadata": {},
   "outputs": [
    {
     "data": {
      "text/plain": [
       "0.3118556701030928"
      ]
     },
     "execution_count": 18,
     "metadata": {},
     "output_type": "execute_result"
    }
   ],
   "source": [
    "hits = len(targets.loc[targets.prediction==1])\n",
    "hits / len(targets)"
   ]
  },
  {
   "cell_type": "markdown",
   "metadata": {},
   "source": [
    "### Though the precision is close to 1, the model still only gets 30% of the calls present in the dataset. "
   ]
  },
  {
   "cell_type": "markdown",
   "metadata": {},
   "source": [
    "## Calculate the ROC and AUC   "
   ]
  },
  {
   "cell_type": "code",
   "execution_count": 19,
   "metadata": {},
   "outputs": [
    {
     "data": {
      "text/plain": [
       "0.7965212828143267"
      ]
     },
     "execution_count": 19,
     "metadata": {},
     "output_type": "execute_result"
    }
   ],
   "source": [
    "roc = roc_auc_score(osfls.label, osfls.confidence)\n",
    "roc"
   ]
  },
  {
   "cell_type": "markdown",
   "metadata": {},
   "source": [
    "## Calcualte the precision-recall curve"
   ]
  },
  {
   "cell_type": "code",
   "execution_count": 20,
   "metadata": {},
   "outputs": [],
   "source": [
    "pr_curve = precision_recall_curve(osfls.label, osfls.confidence)"
   ]
  },
  {
   "cell_type": "code",
   "execution_count": 21,
   "metadata": {},
   "outputs": [
    {
     "data": {
      "text/plain": [
       "0.8773320471238845"
      ]
     },
     "execution_count": 21,
     "metadata": {},
     "output_type": "execute_result"
    }
   ],
   "source": [
    "sklearn.metrics.auc(pr_curve[1], pr_curve[0])"
   ]
  },
  {
   "cell_type": "code",
   "execution_count": 22,
   "metadata": {},
   "outputs": [
    {
     "data": {
      "text/plain": [
       "Text(0.5, 1.0, 'OSFL only PR Curve HawkEars, 50/50 class balance')"
      ]
     },
     "execution_count": 22,
     "metadata": {},
     "output_type": "execute_result"
    },
    {
     "data": {
      "image/png": "[encoded data removed]",
      "text/plain": [
       "<Figure size 640x480 with 1 Axes>"
      ]
     },
     "metadata": {},
     "output_type": "display_data"
    }
   ],
   "source": [
    "pr_curve_plot = sklearn.metrics.PrecisionRecallDisplay.from_predictions(osfls.label, osfls.confidence, plot_chance_level=True)\n",
    "pr_curve_plot.ax_.set_ylim(0, 1.01)\n",
    "pr_curve_plot.ax_.set_title(\"OSFL only PR Curve HawkEars, 50/50 class balance\")"
   ]
  },
  {
   "cell_type": "markdown",
   "metadata": {},
   "source": [
    "## Error checking: Is the test data actually labelled correctly?\n",
    "Hawkears returned 30% of the positive samples in this test set, whereas the author of Hawkears measured 70%. This could be explained by either some of my test data being labelled incorrectly, or some of the data at the other end comprising of more focal audio clips. "
   ]
  },
  {
   "cell_type": "code",
   "execution_count": 24,
   "metadata": {},
   "outputs": [
    {
     "data": {
      "text/plain": [
       "'01192-4.5-7.5-recording-280076.mp3'"
      ]
     },
     "execution_count": 24,
     "metadata": {},
     "output_type": "execute_result"
    }
   ],
   "source": [
    "audio_path = data_path/ \"processed\" / \"audio_clips\" / \"valid\" / \"absent\"\n",
    "audio_clips = glob.glob(str(audio_path) + \"/*\")\n",
    "Path(audio_clips[0]).name"
   ]
  },
  {
   "cell_type": "code",
   "execution_count": 25,
   "metadata": {},
   "outputs": [],
   "source": [
    "def audio_clip_to_original_df(audio_clip):\n",
    "    _, start_time, end_time, _,  recording_id = Path(audio_clip).stem.split(\"-\")\n",
    "    recording_id = int(recording_id)\n",
    "    file_extension = Path(audio_clip).suffix\n",
    "    return recording_id, start_time, end_time, file_extension"
   ]
  },
  {
   "cell_type": "code",
   "execution_count": 26,
   "metadata": {},
   "outputs": [],
   "source": [
    "# Collect the relevant id, start and end times into pandas dataframe\n",
    "present_df = pd.DataFrame([audio_clip_to_original_df(audio_clip) for audio_clip in audio_clips], columns=[\"recording_id\", \"start_time\", \"end_time\", \"file_extension\"])\n",
    "absent_df = pd.DataFrame([audio_clip_to_original_df(audio_clip) for audio_clip in audio_clips], columns=[\"recording_id\", \"start_time\", \"end_time\", \"file_extension\"])"
   ]
  },
  {
   "cell_type": "code",
   "execution_count": 27,
   "metadata": {},
   "outputs": [
    {
     "data": {
      "text/html": [
       "<div>\n",
       "<style scoped>\n",
       "    .dataframe tbody tr th:only-of-type {\n",
       "        vertical-align: middle;\n",
       "    }\n",
       "\n",
       "    .dataframe tbody tr th {\n",
       "        vertical-align: top;\n",
       "    }\n",
       "\n",
       "    .dataframe thead th {\n",
       "        text-align: right;\n",
       "    }\n",
       "</style>\n",
       "<table border=\"1\" class=\"dataframe\">\n",
       "  <thead>\n",
       "    <tr style=\"text-align: right;\">\n",
       "      <th></th>\n",
       "      <th>organization</th>\n",
       "      <th>project</th>\n",
       "      <th>project_id</th>\n",
       "      <th>location_id</th>\n",
       "      <th>recording_id</th>\n",
       "      <th>recording_date_time</th>\n",
       "      <th>species_code</th>\n",
       "      <th>species_common_name</th>\n",
       "      <th>detection_time</th>\n",
       "      <th>task_duration</th>\n",
       "      <th>tag_duration</th>\n",
       "      <th>tag_id</th>\n",
       "      <th>clip_url</th>\n",
       "      <th>recording_url</th>\n",
       "      <th>task_method</th>\n",
       "      <th>latitude</th>\n",
       "      <th>longitude</th>\n",
       "      <th>file_type</th>\n",
       "      <th>media_url</th>\n",
       "      <th>individual_order</th>\n",
       "    </tr>\n",
       "  </thead>\n",
       "  <tbody>\n",
       "    <tr>\n",
       "      <th>388044</th>\n",
       "      <td>BU</td>\n",
       "      <td>Lebeuf-Taylor - 2023 RETN</td>\n",
       "      <td>2044</td>\n",
       "      <td>480654</td>\n",
       "      <td>815817</td>\n",
       "      <td>2023-06-22 06:33:00</td>\n",
       "      <td>OSFL</td>\n",
       "      <td>Olive-sided Flycatcher</td>\n",
       "      <td>42.90</td>\n",
       "      <td>60.0</td>\n",
       "      <td>0.90</td>\n",
       "      <td>3501564</td>\n",
       "      <td>https://wildtrax-aru.s3.us-west-2.amazonaws.co...</td>\n",
       "      <td>https://wildtrax-aru.s3.us-west-2.amazonaws.co...</td>\n",
       "      <td>NaN</td>\n",
       "      <td>51.556830</td>\n",
       "      <td>-115.020690</td>\n",
       "      <td>flac</td>\n",
       "      <td>https://portal.wildtrax.ca/home/aru-tasks/reco...</td>\n",
       "      <td>1.0</td>\n",
       "    </tr>\n",
       "    <tr>\n",
       "      <th>184371</th>\n",
       "      <td>CWS-ONT</td>\n",
       "      <td>CWS-Ontario Birds of James Bay Lowlands 2021</td>\n",
       "      <td>885</td>\n",
       "      <td>194717</td>\n",
       "      <td>293422</td>\n",
       "      <td>2021-06-17 04:16:00</td>\n",
       "      <td>OSFL</td>\n",
       "      <td>Olive-sided Flycatcher</td>\n",
       "      <td>72.64</td>\n",
       "      <td>180.0</td>\n",
       "      <td>1.01</td>\n",
       "      <td>2538247</td>\n",
       "      <td>https://wildtrax-aru-ca.s3.ca-central-1.amazon...</td>\n",
       "      <td>https://wildtrax-aru-ca.s3.ca-central-1.amazon...</td>\n",
       "      <td>1SPT</td>\n",
       "      <td>52.088900</td>\n",
       "      <td>-84.357200</td>\n",
       "      <td>mp3</td>\n",
       "      <td>https://portal.wildtrax.ca/home/aru-tasks/reco...</td>\n",
       "      <td>2.0</td>\n",
       "    </tr>\n",
       "    <tr>\n",
       "      <th>141254</th>\n",
       "      <td>CWS-ONT</td>\n",
       "      <td>CWS-Ontario Atlas Northern River Trips 2022</td>\n",
       "      <td>1475</td>\n",
       "      <td>474158</td>\n",
       "      <td>613714</td>\n",
       "      <td>2022-06-23 04:36:00</td>\n",
       "      <td>OSFL</td>\n",
       "      <td>Olive-sided Flycatcher</td>\n",
       "      <td>19.93</td>\n",
       "      <td>60.0</td>\n",
       "      <td>1.54</td>\n",
       "      <td>3275070</td>\n",
       "      <td>https://wildtrax-aru-ca.s3.ca-central-1.amazon...</td>\n",
       "      <td>https://wildtrax-aru-ca.s3.ca-central-1.amazon...</td>\n",
       "      <td>1SPT</td>\n",
       "      <td>51.556309</td>\n",
       "      <td>-85.933016</td>\n",
       "      <td>flac</td>\n",
       "      <td>https://portal.wildtrax.ca/home/aru-tasks/reco...</td>\n",
       "      <td>1.0</td>\n",
       "    </tr>\n",
       "    <tr>\n",
       "      <th>380886</th>\n",
       "      <td>BU</td>\n",
       "      <td>Lebeuf-Taylor - 2022 RETN</td>\n",
       "      <td>1115</td>\n",
       "      <td>308711</td>\n",
       "      <td>413782</td>\n",
       "      <td>2022-06-04 06:45:00</td>\n",
       "      <td>OSFL</td>\n",
       "      <td>Olive-sided Flycatcher</td>\n",
       "      <td>54.84</td>\n",
       "      <td>60.0</td>\n",
       "      <td>1.21</td>\n",
       "      <td>2784121</td>\n",
       "      <td>https://wildtrax-aru.s3.us-west-2.amazonaws.co...</td>\n",
       "      <td>https://wildtrax-aru.s3.us-west-2.amazonaws.co...</td>\n",
       "      <td>NaN</td>\n",
       "      <td>54.900173</td>\n",
       "      <td>-118.708697</td>\n",
       "      <td>flac</td>\n",
       "      <td>https://portal.wildtrax.ca/home/aru-tasks/reco...</td>\n",
       "      <td>1.0</td>\n",
       "    </tr>\n",
       "    <tr>\n",
       "      <th>82660</th>\n",
       "      <td>BU</td>\n",
       "      <td>Boreal Wetland Community Monitoring</td>\n",
       "      <td>41</td>\n",
       "      <td>32647</td>\n",
       "      <td>48543</td>\n",
       "      <td>2018-06-22 04:35:00</td>\n",
       "      <td>OSFL</td>\n",
       "      <td>Olive-sided Flycatcher</td>\n",
       "      <td>122.65</td>\n",
       "      <td>180.0</td>\n",
       "      <td>1.19</td>\n",
       "      <td>117035</td>\n",
       "      <td>https://wildtrax-aru.s3.us-west-2.amazonaws.co...</td>\n",
       "      <td>https://wildtrax-aru.s3.us-west-2.amazonaws.co...</td>\n",
       "      <td>1SPM</td>\n",
       "      <td>57.403310</td>\n",
       "      <td>-111.256486</td>\n",
       "      <td>mp3</td>\n",
       "      <td>https://portal.wildtrax.ca/home/aru-tasks/reco...</td>\n",
       "      <td>1.0</td>\n",
       "    </tr>\n",
       "  </tbody>\n",
       "</table>\n",
       "</div>"
      ],
      "text/plain": [
       "       organization                                       project  project_id  \\\n",
       "388044           BU                     Lebeuf-Taylor - 2023 RETN        2044   \n",
       "184371      CWS-ONT  CWS-Ontario Birds of James Bay Lowlands 2021         885   \n",
       "141254      CWS-ONT   CWS-Ontario Atlas Northern River Trips 2022        1475   \n",
       "380886           BU                     Lebeuf-Taylor - 2022 RETN        1115   \n",
       "82660            BU           Boreal Wetland Community Monitoring          41   \n",
       "\n",
       "        location_id  recording_id  recording_date_time species_code  \\\n",
       "388044       480654        815817  2023-06-22 06:33:00         OSFL   \n",
       "184371       194717        293422  2021-06-17 04:16:00         OSFL   \n",
       "141254       474158        613714  2022-06-23 04:36:00         OSFL   \n",
       "380886       308711        413782  2022-06-04 06:45:00         OSFL   \n",
       "82660         32647         48543  2018-06-22 04:35:00         OSFL   \n",
       "\n",
       "           species_common_name  detection_time  task_duration  tag_duration  \\\n",
       "388044  Olive-sided Flycatcher           42.90           60.0          0.90   \n",
       "184371  Olive-sided Flycatcher           72.64          180.0          1.01   \n",
       "141254  Olive-sided Flycatcher           19.93           60.0          1.54   \n",
       "380886  Olive-sided Flycatcher           54.84           60.0          1.21   \n",
       "82660   Olive-sided Flycatcher          122.65          180.0          1.19   \n",
       "\n",
       "         tag_id                                           clip_url  \\\n",
       "388044  3501564  https://wildtrax-aru.s3.us-west-2.amazonaws.co...   \n",
       "184371  2538247  https://wildtrax-aru-ca.s3.ca-central-1.amazon...   \n",
       "141254  3275070  https://wildtrax-aru-ca.s3.ca-central-1.amazon...   \n",
       "380886  2784121  https://wildtrax-aru.s3.us-west-2.amazonaws.co...   \n",
       "82660    117035  https://wildtrax-aru.s3.us-west-2.amazonaws.co...   \n",
       "\n",
       "                                            recording_url task_method  \\\n",
       "388044  https://wildtrax-aru.s3.us-west-2.amazonaws.co...         NaN   \n",
       "184371  https://wildtrax-aru-ca.s3.ca-central-1.amazon...        1SPT   \n",
       "141254  https://wildtrax-aru-ca.s3.ca-central-1.amazon...        1SPT   \n",
       "380886  https://wildtrax-aru.s3.us-west-2.amazonaws.co...         NaN   \n",
       "82660   https://wildtrax-aru.s3.us-west-2.amazonaws.co...        1SPM   \n",
       "\n",
       "         latitude   longitude file_type  \\\n",
       "388044  51.556830 -115.020690      flac   \n",
       "184371  52.088900  -84.357200       mp3   \n",
       "141254  51.556309  -85.933016      flac   \n",
       "380886  54.900173 -118.708697      flac   \n",
       "82660   57.403310 -111.256486       mp3   \n",
       "\n",
       "                                                media_url  individual_order  \n",
       "388044  https://portal.wildtrax.ca/home/aru-tasks/reco...               1.0  \n",
       "184371  https://portal.wildtrax.ca/home/aru-tasks/reco...               2.0  \n",
       "141254  https://portal.wildtrax.ca/home/aru-tasks/reco...               1.0  \n",
       "380886  https://portal.wildtrax.ca/home/aru-tasks/reco...               1.0  \n",
       "82660   https://portal.wildtrax.ca/home/aru-tasks/reco...               1.0  "
      ]
     },
     "execution_count": 27,
     "metadata": {},
     "output_type": "execute_result"
    }
   ],
   "source": [
    "original_df = pd.read_pickle(data_path / \"processed\" / \"train_set\" / \"train_set.pkl\")\n",
    "\n",
    "# filter by keep_cols\n",
    "original_df = original_df[keep_cols]\n",
    "# filter by recording id\n",
    "intersect_df = original_df.loc[original_df.recording_id.isin(present_df.recording_id)]\n",
    "# drop all except the olive sided flycatcher recs\n",
    "intersect_df = intersect_df.loc[intersect_df.species_code == \"OSFL\"]\n",
    "intersect_df.sample(5)"
   ]
  },
  {
   "cell_type": "code",
   "execution_count": 28,
   "metadata": {},
   "outputs": [
    {
     "data": {
      "text/plain": [
       "Index(['organization', 'project', 'project_id', 'location_id', 'recording_id',\n",
       "       'recording_date_time', 'species_code', 'species_common_name',\n",
       "       'detection_time', 'task_duration', 'tag_duration', 'tag_id', 'clip_url',\n",
       "       'recording_url', 'task_method', 'latitude', 'longitude', 'file_type',\n",
       "       'media_url', 'individual_order'],\n",
       "      dtype='object')"
      ]
     },
     "execution_count": 28,
     "metadata": {},
     "output_type": "execute_result"
    }
   ],
   "source": [
    "\n",
    "intersect_df.columns"
   ]
  },
  {
   "cell_type": "code",
   "execution_count": 29,
   "metadata": {},
   "outputs": [
    {
     "name": "stderr",
     "output_type": "stream",
     "text": [
      "/Users/mikeg/code/machine_learning/osfl_cnn_recognizer/src/utils.py:82: FutureWarning: The geopandas.dataset module is deprecated and will be removed in GeoPandas 1.0. You can get the original 'naturalearth_lowres' data from https://www.naturalearthdata.com/downloads/110m-cultural-vectors/.\n",
      "  canada = gpd.read_file(gpd.datasets.get_path(\"naturalearth_lowres\")).query(\n",
      "/Users/mikeg/code/machine_learning/osfl_cnn_recognizer/src/utils.py:106: UserWarning: The GeoDataFrame you are attempting to plot is empty. Nothing has been displayed.\n",
      "  points.plot(\n"
     ]
    },
    {
     "data": {
      "image/png": "[encoded data removed]",
      "text/plain": [
       "<Figure size 1500x500 with 1 Axes>"
      ]
     },
     "metadata": {},
     "output_type": "display_data"
    }
   ],
   "source": [
    "# show the locations of these recordings\n",
    "utils.plot_locations(intersect_df, feature=\"project\")"
   ]
  },
  {
   "cell_type": "code",
   "execution_count": 39,
   "metadata": {},
   "outputs": [],
   "source": [
    "present_df['label']=1\n",
    "absent_df['label']=0"
   ]
  },
  {
   "cell_type": "code",
   "execution_count": 42,
   "metadata": {},
   "outputs": [],
   "source": [
    "pd.concat([present_df, absent_df], axis=0, ignore_index=True).to_csv(\"test_set.csv\")"
   ]
  },
  {
   "cell_type": "code",
   "execution_count": 31,
   "metadata": {},
   "outputs": [
    {
     "data": {
      "text/html": [
       "<div>\n",
       "<style scoped>\n",
       "    .dataframe tbody tr th:only-of-type {\n",
       "        vertical-align: middle;\n",
       "    }\n",
       "\n",
       "    .dataframe tbody tr th {\n",
       "        vertical-align: top;\n",
       "    }\n",
       "\n",
       "    .dataframe thead th {\n",
       "        text-align: right;\n",
       "    }\n",
       "</style>\n",
       "<table border=\"1\" class=\"dataframe\">\n",
       "  <thead>\n",
       "    <tr style=\"text-align: right;\">\n",
       "      <th></th>\n",
       "      <th>recording_id</th>\n",
       "      <th>start_time</th>\n",
       "      <th>end_time</th>\n",
       "      <th>file_extension</th>\n",
       "    </tr>\n",
       "  </thead>\n",
       "  <tbody>\n",
       "    <tr>\n",
       "      <th>0</th>\n",
       "      <td>280076</td>\n",
       "      <td>4.5</td>\n",
       "      <td>7.5</td>\n",
       "      <td>.mp3</td>\n",
       "    </tr>\n",
       "    <tr>\n",
       "      <th>1</th>\n",
       "      <td>556097</td>\n",
       "      <td>0.0</td>\n",
       "      <td>3.0</td>\n",
       "      <td>.flac</td>\n",
       "    </tr>\n",
       "    <tr>\n",
       "      <th>2</th>\n",
       "      <td>330530</td>\n",
       "      <td>55.5</td>\n",
       "      <td>58.5</td>\n",
       "      <td>.flac</td>\n",
       "    </tr>\n",
       "    <tr>\n",
       "      <th>3</th>\n",
       "      <td>552592</td>\n",
       "      <td>87.0</td>\n",
       "      <td>90.0</td>\n",
       "      <td>.flac</td>\n",
       "    </tr>\n",
       "    <tr>\n",
       "      <th>4</th>\n",
       "      <td>291508</td>\n",
       "      <td>220.5</td>\n",
       "      <td>223.5</td>\n",
       "      <td>.mp3</td>\n",
       "    </tr>\n",
       "    <tr>\n",
       "      <th>...</th>\n",
       "      <td>...</td>\n",
       "      <td>...</td>\n",
       "      <td>...</td>\n",
       "      <td>...</td>\n",
       "    </tr>\n",
       "    <tr>\n",
       "      <th>383</th>\n",
       "      <td>144812</td>\n",
       "      <td>6.0</td>\n",
       "      <td>9.0</td>\n",
       "      <td>.mp3</td>\n",
       "    </tr>\n",
       "    <tr>\n",
       "      <th>384</th>\n",
       "      <td>555642</td>\n",
       "      <td>13.5</td>\n",
       "      <td>16.5</td>\n",
       "      <td>.flac</td>\n",
       "    </tr>\n",
       "    <tr>\n",
       "      <th>385</th>\n",
       "      <td>552947</td>\n",
       "      <td>16.5</td>\n",
       "      <td>19.5</td>\n",
       "      <td>.flac</td>\n",
       "    </tr>\n",
       "    <tr>\n",
       "      <th>386</th>\n",
       "      <td>291508</td>\n",
       "      <td>76.5</td>\n",
       "      <td>79.5</td>\n",
       "      <td>.mp3</td>\n",
       "    </tr>\n",
       "    <tr>\n",
       "      <th>387</th>\n",
       "      <td>97976</td>\n",
       "      <td>85.5</td>\n",
       "      <td>88.5</td>\n",
       "      <td>.mp3</td>\n",
       "    </tr>\n",
       "  </tbody>\n",
       "</table>\n",
       "<p>388 rows × 4 columns</p>\n",
       "</div>"
      ],
      "text/plain": [
       "     recording_id start_time end_time file_extension\n",
       "0          280076        4.5      7.5           .mp3\n",
       "1          556097        0.0      3.0          .flac\n",
       "2          330530       55.5     58.5          .flac\n",
       "3          552592       87.0     90.0          .flac\n",
       "4          291508      220.5    223.5           .mp3\n",
       "..            ...        ...      ...            ...\n",
       "383        144812        6.0      9.0           .mp3\n",
       "384        555642       13.5     16.5          .flac\n",
       "385        552947       16.5     19.5          .flac\n",
       "386        291508       76.5     79.5           .mp3\n",
       "387         97976       85.5     88.5           .mp3\n",
       "\n",
       "[388 rows x 4 columns]"
      ]
     },
     "execution_count": 31,
     "metadata": {},
     "output_type": "execute_result"
    }
   ],
   "source": [
    "absent_df"
   ]
  },
  {
   "cell_type": "markdown",
   "metadata": {},
   "source": [
    "After running this randomly sampled set of test data through HawkEars and measuring a lower recall than expected, I looked at each of the 388 samples in the validation-present set to see what kinds of audio might be producing false negatives. \n",
    "\n",
    "I was able to count olive sided flycatcher songs in 312 out of the 388 human labelled clips. Some of them were very hard to tell, so I could be off by +- 10% or so. \n",
    "\n",
    "The audio dataset did contain some very noisy clips - some which just looked and sounded like white noise. Some other clips looked like mis-identifications on behalf of the human labeler. \n",
    "\n",
    "It seems there's a line to tread between curating the test set to contain only the most clear and obvious examples of the target species, and curating the test set to contain a representative sample of the data. \n",
    "\n",
    "Ultimately though so long as the same test set is used to evaluate each model, then a statement can be made about the relative performance of each model. "
   ]
  },
  {
   "cell_type": "code",
   "execution_count": null,
   "metadata": {},
   "outputs": [],
   "source": []
  }
 ],
 "metadata": {
  "kernelspec": {
   "display_name": "osfl2",
   "language": "python",
   "name": "python3"
  },
  "language_info": {
   "codemirror_mode": {
    "name": "ipython",
    "version": 3
   },
   "file_extension": ".py",
   "mimetype": "text/x-python",
   "name": "python",
   "nbconvert_exporter": "python",
   "pygments_lexer": "ipython3",
   "version": "3.10.12"
  }
 },
 "nbformat": 4,
 "nbformat_minor": 2
}
