{
 "cells": [
  {
   "cell_type": "markdown",
   "metadata": {},
   "source": [
    "# Process used for inference\n",
    "This is saved as predict.py for processing batches of long audio files. "
   ]
  },
  {
   "cell_type": "code",
   "execution_count": 54,
   "metadata": {},
   "outputs": [],
   "source": [
    "# imports\n",
    "import pandas as pd\n",
    "import opensoundscape as opso\n",
    "import glob\n",
    "import sys\n",
    "from pathlib import Path\n",
    "BASE_PATH = Path.cwd().parent.parent\n",
    "sys.path.append(str(BASE_PATH))\n",
    "data_path = BASE_PATH / 'data'\n",
    "model_save_path = BASE_PATH / 'models'"
   ]
  },
  {
   "cell_type": "code",
   "execution_count": 61,
   "metadata": {},
   "outputs": [],
   "source": [
    "audio_files_path = input(\"Enter the path to the audio files: \")"
   ]
  },
  {
   "cell_type": "code",
   "execution_count": 62,
   "metadata": {},
   "outputs": [],
   "source": [
    "audio_files = []\n",
    "for file_path in Path(audio_files_path).rglob('*'):\n",
    "    if file_path.suffix in ['.wav', '.mp3', \".flac\"]:\n",
    "        path = file_path\n",
    "        audio_files.append(path)"
   ]
  },
  {
   "cell_type": "code",
   "execution_count": 63,
   "metadata": {},
   "outputs": [],
   "source": [
    "model = opso.load_model(model_save_path / \"OSFL.model\")"
   ]
  },
  {
   "cell_type": "code",
   "execution_count": 79,
   "metadata": {},
   "outputs": [
    {
     "name": "stderr",
     "output_type": "stream",
     "text": [
      "/Users/mikeg/miniforge3/envs/osfl2/lib/python3.10/site-packages/opensoundscape/utils.py:278: FutureWarning: PySoundFile failed. Trying audioread instead.\n",
      "\tAudioread support is deprecated in librosa 0.10.0 and will be removed in version 1.0.\n",
      "  t = librosa.get_duration(path=f)\n",
      "Note: Illegal Audio-MPEG-Header 0x00000000 at offset 31.\n",
      "Note: Trying to resync...\n",
      "Note: Hit end of (available) data during resync.\n",
      "Exception ignored in: <function CFObject.__del__ at 0x16c43d870>\n",
      "Traceback (most recent call last):\n",
      "  File \"/Users/mikeg/miniforge3/envs/osfl2/lib/python3.10/site-packages/audioread/macca.py\", line 135, in __del__\n",
      "    _corefoundation.CFRelease(self._obj)\n",
      "AttributeError: 'CFURL' object has no attribute '_obj'\n",
      "Exception ignored in: <function ExtAudioFile.__del__ at 0x16c43e050>\n",
      "Traceback (most recent call last):\n",
      "  File \"/Users/mikeg/miniforge3/envs/osfl2/lib/python3.10/site-packages/audioread/macca.py\", line 336, in __del__\n",
      "    self.close()\n",
      "  File \"/Users/mikeg/miniforge3/envs/osfl2/lib/python3.10/site-packages/audioread/macca.py\", line 330, in close\n",
      "    if not self.closed:\n",
      "AttributeError: 'ExtAudioFile' object has no attribute 'closed'\n"
     ]
    },
    {
     "data": {
      "application/vnd.jupyter.widget-view+json": {
       "model_id": "e9f9234f7f2f4a14ab3b743f6f5c20c4",
       "version_major": 2,
       "version_minor": 0
      },
      "text/plain": [
       "  0%|          | 0/477 [00:00<?, ?it/s]"
      ]
     },
     "metadata": {},
     "output_type": "display_data"
    },
    {
     "name": "stderr",
     "output_type": "stream",
     "text": [
      "Note: Illegal Audio-MPEG-Header 0x00000000 at offset 31.\n",
      "Note: Trying to resync...\n",
      "Note: Hit end of (available) data during resync.\n",
      "/Users/mikeg/miniforge3/envs/osfl2/lib/python3.10/site-packages/opensoundscape/audio.py:1386: UserWarning: Failed to load metadata: argument of type 'NoneType' is not iterable. Metadata will be None\n",
      "  warnings.warn(f\"Failed to load metadata: {exc}. Metadata will be None\")\n",
      "Note: Illegal Audio-MPEG-Header 0x00000000 at offset 31.\n",
      "Note: Trying to resync...\n",
      "Note: Hit end of (available) data during resync.\n",
      "/Users/mikeg/miniforge3/envs/osfl2/lib/python3.10/site-packages/opensoundscape/ml/safe_dataset.py:133: UserWarning: There were 1 sample(s) that raised errors and were skipped.The invalid file paths are logged in errors.log\n",
      "  warnings.warn(msg)\n"
     ]
    }
   ],
   "source": [
    "cpu_cores = input(\"Enter the number of CPU cores to use for parallel preprocessing: default is 0\")\n",
    "scores = model.predict(audio_files, overlap_fraction=0.5, num_workers=int(cpu_cores), activation_layer=\"sigmoid\", invalid_samples_log=\"errors.log\")"
   ]
  },
  {
   "cell_type": "code",
   "execution_count": 65,
   "metadata": {},
   "outputs": [],
   "source": [
    "scores.to_csv(\"scores.csv\", index=True)"
   ]
  }
 ],
 "metadata": {
  "kernelspec": {
   "display_name": "osfl2",
   "language": "python",
   "name": "python3"
  },
  "language_info": {
   "codemirror_mode": {
    "name": "ipython",
    "version": 3
   },
   "file_extension": ".py",
   "mimetype": "text/x-python",
   "name": "python",
   "nbconvert_exporter": "python",
   "pygments_lexer": "ipython3",
   "version": "3.10.12"
  }
 },
 "nbformat": 4,
 "nbformat_minor": 2
}
