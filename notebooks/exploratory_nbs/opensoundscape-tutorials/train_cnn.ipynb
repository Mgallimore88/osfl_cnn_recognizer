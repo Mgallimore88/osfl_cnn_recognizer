{
 "cells": [
  {
   "cell_type": "markdown",
   "id": "c62ee27e",
   "metadata": {},
   "source": [
    "# This notebook replicates the CNN training cycle taken from the Opensoundscape tutorial. \n",
    "\n",
    "The trainign set in this example contains 4 fully annotated recordings. \n",
    "\n",
    "I was unable to get the notebook to run on Colab - the session kept crashing once the model started to load in onto the GPU. I tried a few things including reducing the batch size and changing the instance type. Since I was able to run the notebook on my local machine, I don't think memory was the main issue in the crashes. \n",
    "\n"
   ]
  },
  {
   "cell_type": "markdown",
   "id": "e5d6e344-3ed7-4b0a-aa36-2b83d4842bff",
   "metadata": {},
   "source": [
    "# Train a CNN\n",
    "\n",
    "Convolutional neural networks (CNNs) are popular tools for creating automated machine learning classifiers on images or image-like samples. By converting audio into a two-dimensional frequency vs. time representation such as a spectrogram, we can generate image-like samples that can be used to train CNNs. \n",
    "\n",
    "This tutorial demonstrates the basic use of OpenSoundscape's `preprocessors` and `cnn` modules for training CNNs and making predictions using CNNs.\n",
    "\n",
    "Under the hood, OpenSoundscape uses Pytorch for machine learning tasks. By using the class `opensoundscape.ml.cnn.CNN`, you can train and predict with PyTorch's powerful CNN architectures in just a few lines of code. \n",
    "\n",
    "## Run this tutorial\n",
    "\n",
    "This tutorial is more than a reference! It's a Jupyter Notebook which you can run and modify on Google Colab or your own computer.\n",
    "\n",
    "|Link to tutorial|How to run tutorial|\n",
    "| :- | :- |\n",
    "| [![Open In Colab](https://colab.research.google.com/assets/colab-badge.svg)](https://colab.research.google.com/github/kitzeslab/opensoundscape/blob/master/docs/tutorials/train_cnn.ipynb) | The link opens the tutorial in Google Colab. Uncomment the \"installation\" line in the first cell to install OpenSoundscape. |\n",
    "| [![Download via DownGit](https://img.shields.io/badge/GitHub-Download-teal?logo=github)](https://minhaskamal.github.io/DownGit/#/home?url=https://github.com/kitzeslab/opensoundscape/blob/master/docs/tutorials/train_cnn.ipynb) | The link downloads the tutorial file to your computer. Follow the [Jupyter installation instructions](https://opensoundscape.org/en/latest/installation/jupyter.html), then open the tutorial file in Jupyter. |"
   ]
  },
  {
   "cell_type": "code",
   "execution_count": 1,
   "id": "b52ecca1-702b-4fa3-a48b-61025f55d8fd",
   "metadata": {},
   "outputs": [],
   "source": [
    "# if this is a Google Colab notebook, install opensoundscape in the runtime environment\n",
    "if 'google.colab' in str(get_ipython()):\n",
    "  %pip install opensoundscape"
   ]
  },
  {
   "cell_type": "markdown",
   "id": "c4d88b73-77d1-4c00-a83a-8466fd79e15e",
   "metadata": {},
   "source": [
    "## Setup"
   ]
  },
  {
   "cell_type": "markdown",
   "id": "59c9eee8-c65c-4df1-95d0-15dda341ee0a",
   "metadata": {},
   "source": [
    "### Import needed packages"
   ]
  },
  {
   "cell_type": "code",
   "execution_count": 2,
   "id": "972e3e01-c85f-415d-95cc-9b695332f738",
   "metadata": {},
   "outputs": [
    {
     "name": "stderr",
     "output_type": "stream",
     "text": [
      "/Users/mikeg/miniforge3/envs/osfl2/lib/python3.10/site-packages/opensoundscape/ml/cnn.py:18: TqdmExperimentalWarning: Using `tqdm.autonotebook.tqdm` in notebook mode. Use `tqdm.tqdm` instead to force console mode (e.g. in jupyter console)\n",
      "  from tqdm.autonotebook import tqdm\n"
     ]
    }
   ],
   "source": [
    "# the cnn module provides classes for training/predicting with various types of CNNs\n",
    "from opensoundscape import CNN\n",
    "\n",
    "#other utilities and packages\n",
    "import torch\n",
    "import pandas as pd\n",
    "from pathlib import Path\n",
    "import numpy as np\n",
    "import pandas as pd\n",
    "import random \n",
    "import subprocess\n",
    "from glob import glob\n",
    "import sklearn\n",
    "import opensoundscape as opso\n",
    "\n",
    "#set up plotting\n",
    "from matplotlib import pyplot as plt\n",
    "plt.rcParams['figure.figsize']=[15,5] #for large visuals\n",
    "%config InlineBackend.figure_format = 'retina'"
   ]
  },
  {
   "cell_type": "markdown",
   "id": "22adf5d6-403d-4a06-bc85-477cdc60ec07",
   "metadata": {},
   "source": [
    "### Set random seeds\n",
    "\n",
    "Set manual seeds for Pytorch and Python. These essentially \"fix\" the results of any stochastic steps in model training, ensuring that training results are reproducible. You probably don't want to do this when you actually train your model, but it's useful for debugging."
   ]
  },
  {
   "cell_type": "code",
   "execution_count": 3,
   "id": "68e09bd5-e86d-44e0-8ffa-0f8ee699c31f",
   "metadata": {},
   "outputs": [],
   "source": [
    "torch.manual_seed(0)\n",
    "random.seed(0)\n",
    "np.random.seed(0)"
   ]
  },
  {
   "cell_type": "markdown",
   "id": "e1c60bac-280a-4d72-80b6-2659f6ecd83d",
   "metadata": {},
   "source": [
    "### Download files\n",
    "\n",
    "Training a machine learning model requires some pre-labeled data. These data, in the form of audio recordings or spectrograms, are labeled with whether or not they contain the sound of the species of interest. \n",
    "\n",
    "These data can be obtained from online databases such as Xeno-Canto.org, or by labeling one's own ARU data using a program like Cornell's Raven sound analysis software. In this example we are using a set of annotated avian soundscape recordings that were annotated using the software Raven Pro 1.6.4 (Bioacoustics Research Program 2022):\n",
    "\n",
    "<blockquote><i>An annotated set of audio recordings of Eastern North American birds containing frequency, time, and species information. </i> Lauren M. Chronister,  Tessa A. Rhinehart,  Aidan Place,  Justin Kitzes.\n",
    "https://doi.org/10.1002/ecy.3329 \n",
    "</blockquote>\n",
    "\n",
    "These are the same data that are used by the annotation and preprocessing tutorials, so you can skip this step if you've already downloaded them there.\n",
    "\n",
    "Download the datasets to your current working directory and unzip them. You can do so by running the cell below OR\n",
    "\n",
    "- Download and unzip both `annotation_Files.zip` and `mp3_Files.zip` from the https://datadryad.org/stash/dataset/doi:10.5061/dryad.d2547d81z  \n",
    "- Move the unzipped contents into a subfolder of the current folder called `./annotated_data/`"
   ]
  },
  {
   "cell_type": "code",
   "execution_count": 4,
   "id": "7d8bf5cf-6c0b-43d6-a3bc-62657597fbec",
   "metadata": {
    "tags": []
   },
   "outputs": [],
   "source": [
    "%%capture\n",
    "# Note: the \"!\" preceding each line below allows us to run bash commands in a Jupyter notebook\n",
    "# If you are not running this code in a notebook, input these commands into your terminal instead\n",
    "!wget -O annotation_Files.zip https://datadryad.org/stash/downloads/file_stream/641805;\n",
    "!wget -O mp3_Files.zip https://datadryad.org/stash/downloads/file_stream/641807;\n",
    "!mkdir annotated_data;\n",
    "!unzip annotation_Files.zip -d ./annotated_data/Annotation_Files;\n",
    "!unzip mp3_Files.zip -d ./annotated_data/Recordings;"
   ]
  },
  {
   "cell_type": "markdown",
   "id": "82705d0a-f5f7-4104-8ea7-461ca7f72e4e",
   "metadata": {},
   "source": [
    "## Prepare audio data\n",
    "\n",
    "To prepare audio data for machine learning, we need to convert our annotated data into clip-level labels.\n",
    "\n",
    "These steps are covered in depth in other tutorials, so we'll just set our clip labels up quickly for this example.\n",
    "\n",
    "First, get exactly matched lists of audio files and their corresponding selection files:"
   ]
  },
  {
   "cell_type": "code",
   "execution_count": 5,
   "id": "61cbd28e-1e20-4709-95e7-dadf7f8b3f2c",
   "metadata": {
    "tags": []
   },
   "outputs": [
    {
     "data": {
      "text/plain": [
       "['annotated_data/Annotation_Files/Recording_1/Recording_1_Segment_31.Table.1.selections.txt',\n",
       " 'annotated_data/Annotation_Files/Recording_1/Recording_1_Segment_07.Table.1.selections.txt',\n",
       " 'annotated_data/Annotation_Files/Recording_1/Recording_1_Segment_36.Table.1.selections.txt',\n",
       " 'annotated_data/Annotation_Files/Recording_1/Recording_1_Segment_04.Table.1.selections.txt',\n",
       " 'annotated_data/Annotation_Files/Recording_1/Recording_1_Segment_35.Table.1.selections.txt',\n",
       " 'annotated_data/Annotation_Files/Recording_1/Recording_1_Segment_09.Table.1.selections.txt',\n",
       " 'annotated_data/Annotation_Files/Recording_1/Recording_1_Segment_03.Table.1.selections.txt',\n",
       " 'annotated_data/Annotation_Files/Recording_1/Recording_1_Segment_32.Table.1.selections.txt',\n",
       " 'annotated_data/Annotation_Files/Recording_1/Recording_1_Segment_33.Table.1.selections.txt',\n",
       " 'annotated_data/Annotation_Files/Recording_1/Recording_1_Segment_02.Table.1.selections.txt',\n",
       " 'annotated_data/Annotation_Files/Recording_1/Recording_1_Segment_08.Table.1.selections.txt',\n",
       " 'annotated_data/Annotation_Files/Recording_1/Recording_1_Segment_34.Table.1.selections.txt',\n",
       " 'annotated_data/Annotation_Files/Recording_1/Recording_1_Segment_05.Table.1.selections.txt',\n",
       " 'annotated_data/Annotation_Files/Recording_1/Recording_1_Segment_06.Table.1.selections.txt',\n",
       " 'annotated_data/Annotation_Files/Recording_1/Recording_1_Segment_30.Table.1.selections.txt',\n",
       " 'annotated_data/Annotation_Files/Recording_1/Recording_1_Segment_01.Table.1.selections.txt',\n",
       " 'annotated_data/Annotation_Files/Recording_1/Recording_1_Segment_28.Table.1.selections.txt',\n",
       " 'annotated_data/Annotation_Files/Recording_1/Recording_1_Segment_22.Table.1.selections.txt',\n",
       " 'annotated_data/Annotation_Files/Recording_1/Recording_1_Segment_13.Table.1.selections.txt',\n",
       " 'annotated_data/Annotation_Files/Recording_1/Recording_1_Segment_19.Table.1.selections.txt',\n",
       " 'annotated_data/Annotation_Files/Recording_1/Recording_1_Segment_25.Table.1.selections.txt',\n",
       " 'annotated_data/Annotation_Files/Recording_1/Recording_1_Segment_14.Table.1.selections.txt',\n",
       " 'annotated_data/Annotation_Files/Recording_1/Recording_1_Segment_26.Table.1.selections.txt',\n",
       " 'annotated_data/Annotation_Files/Recording_1/Recording_1_Segment_17.Table.1.selections.txt',\n",
       " 'annotated_data/Annotation_Files/Recording_1/Recording_1_Segment_21.Table.1.selections.txt',\n",
       " 'annotated_data/Annotation_Files/Recording_1/Recording_1_Segment_10.Table.1.selections.txt',\n",
       " 'annotated_data/Annotation_Files/Recording_1/Recording_1_Segment_11.Table.1.selections.txt',\n",
       " 'annotated_data/Annotation_Files/Recording_1/Recording_1_Segment_20.Table.1.selections.txt',\n",
       " 'annotated_data/Annotation_Files/Recording_1/Recording_1_Segment_16.Table.1.selections.txt',\n",
       " 'annotated_data/Annotation_Files/Recording_1/Recording_1_Segment_27.Table.1.selections.txt',\n",
       " 'annotated_data/Annotation_Files/Recording_1/Recording_1_Segment_15.Table.1.selections.txt',\n",
       " 'annotated_data/Annotation_Files/Recording_1/Recording_1_Segment_24.Table.1.selections.txt',\n",
       " 'annotated_data/Annotation_Files/Recording_1/Recording_1_Segment_18.Table.1.selections.txt',\n",
       " 'annotated_data/Annotation_Files/Recording_1/Recording_1_Segment_12.Table.1.selections.txt',\n",
       " 'annotated_data/Annotation_Files/Recording_1/Recording_1_Segment_23.Table.1.selections.txt',\n",
       " 'annotated_data/Annotation_Files/Recording_1/Recording_1_Segment_29.Table.1.selections.txt',\n",
       " 'annotated_data/Annotation_Files/Recording_2/Recording_2_Segment_01.Table.1.selections.txt',\n",
       " 'annotated_data/Annotation_Files/Recording_2/Recording_2_Segment_06.Table.1.selections.txt',\n",
       " 'annotated_data/Annotation_Files/Recording_2/Recording_2_Segment_05.Table.1.selections.txt',\n",
       " 'annotated_data/Annotation_Files/Recording_2/Recording_2_Segment_02.Table.1.selections.txt',\n",
       " 'annotated_data/Annotation_Files/Recording_2/Recording_2_Segment_08.Table.1.selections.txt',\n",
       " 'annotated_data/Annotation_Files/Recording_2/Recording_2_Segment_09.Table.1.selections.txt',\n",
       " 'annotated_data/Annotation_Files/Recording_2/Recording_2_Segment_03.Table.1.selections.txt',\n",
       " 'annotated_data/Annotation_Files/Recording_2/Recording_2_Segment_04.Table.1.selections.txt',\n",
       " 'annotated_data/Annotation_Files/Recording_2/Recording_2_Segment_07.Table.1.selections.txt',\n",
       " 'annotated_data/Annotation_Files/Recording_2/Recording_2_Segment_12.Table.1.selections.txt',\n",
       " 'annotated_data/Annotation_Files/Recording_2/Recording_2_Segment_11.Table.1.selections.txt',\n",
       " 'annotated_data/Annotation_Files/Recording_2/Recording_2_Segment_10.Table.1.selections.txt',\n",
       " 'annotated_data/Annotation_Files/Recording_2/Recording_2_Segment_14.Table.1.selections.txt',\n",
       " 'annotated_data/Annotation_Files/Recording_2/Recording_2_Segment_13.Table.1.selections.txt',\n",
       " 'annotated_data/Annotation_Files/Recording_4/Recording_4_Segment_19.Table.1.selections.txt',\n",
       " 'annotated_data/Annotation_Files/Recording_4/Recording_4_Segment_13.Table.1.selections.txt',\n",
       " 'annotated_data/Annotation_Files/Recording_4/Recording_4_Segment_22.Table.1.selections.txt',\n",
       " 'annotated_data/Annotation_Files/Recording_4/Recording_4_Segment_14.Table.1.selections.txt',\n",
       " 'annotated_data/Annotation_Files/Recording_4/Recording_4_Segment_25.Table.1.selections.txt',\n",
       " 'annotated_data/Annotation_Files/Recording_4/Recording_4_Segment_17.Table.1.selections.txt',\n",
       " 'annotated_data/Annotation_Files/Recording_4/Recording_4_Segment_26.Table.1.selections.txt',\n",
       " 'annotated_data/Annotation_Files/Recording_4/Recording_4_Segment_10.Table.1.selections.txt',\n",
       " 'annotated_data/Annotation_Files/Recording_4/Recording_4_Segment_21.Table.1.selections.txt',\n",
       " 'annotated_data/Annotation_Files/Recording_4/Recording_4_Segment_20.Table.1.selections.txt',\n",
       " 'annotated_data/Annotation_Files/Recording_4/Recording_4_Segment_11.Table.1.selections.txt',\n",
       " 'annotated_data/Annotation_Files/Recording_4/Recording_4_Segment_16.Table.1.selections.txt',\n",
       " 'annotated_data/Annotation_Files/Recording_4/Recording_4_Segment_24.Table.1.selections.txt',\n",
       " 'annotated_data/Annotation_Files/Recording_4/Recording_4_Segment_15.Table.1.selections.txt',\n",
       " 'annotated_data/Annotation_Files/Recording_4/Recording_4_Segment_23.Table.1.selections.txt',\n",
       " 'annotated_data/Annotation_Files/Recording_4/Recording_4_Segment_12.Table.1.selections.txt',\n",
       " 'annotated_data/Annotation_Files/Recording_4/Recording_4_Segment_18.Table.1.selections.txt',\n",
       " 'annotated_data/Annotation_Files/Recording_4/Recording_4_Segment_07.Table.1.selections.txt',\n",
       " 'annotated_data/Annotation_Files/Recording_4/Recording_4_Segment_04.Table.1.selections.txt',\n",
       " 'annotated_data/Annotation_Files/Recording_4/Recording_4_Segment_03.Table.1.selections.txt',\n",
       " 'annotated_data/Annotation_Files/Recording_4/Recording_4_Segment_09.Table.1.selections.txt',\n",
       " 'annotated_data/Annotation_Files/Recording_4/Recording_4_Segment_08.Table.1.selections.txt',\n",
       " 'annotated_data/Annotation_Files/Recording_4/Recording_4_Segment_02.Table.1.selections.txt',\n",
       " 'annotated_data/Annotation_Files/Recording_4/Recording_4_Segment_05.Table.1.selections.txt',\n",
       " 'annotated_data/Annotation_Files/Recording_4/Recording_4_Segment_06.Table.1.selections.txt',\n",
       " 'annotated_data/Annotation_Files/Recording_4/Recording_4_Segment_01.Table.1.selections.txt',\n",
       " 'annotated_data/Annotation_Files/Recording_3/Recording_3_Segment_01.Table.1.selections.txt']"
      ]
     },
     "execution_count": 5,
     "metadata": {},
     "output_type": "execute_result"
    }
   ],
   "source": [
    "# Set the current directory to where the dataset is downloaded\n",
    "dataset_path = Path(\"./annotated_data/\")\n",
    "\n",
    "# Make a list of all of the selection table files\n",
    "selection_files = glob(f\"{dataset_path}/Annotation_Files/*/*.txt\")\n",
    "selection_files"
   ]
  },
  {
   "cell_type": "code",
   "execution_count": 6,
   "id": "cdb29706",
   "metadata": {},
   "outputs": [],
   "source": [
    "\n",
    "# Create a list of audio files, one corresponding to each Raven file\n",
    "# (Audio files have the same names as selection files with a different extension)\n",
    "audio_files = [f.replace('Annotation_Files','Recordings').replace('.Table.1.selections.txt','.mp3') for f in selection_files]"
   ]
  },
  {
   "cell_type": "code",
   "execution_count": 7,
   "id": "4c1fbbe8",
   "metadata": {},
   "outputs": [
    {
     "name": "stdout",
     "output_type": "stream",
     "text": [
      "README.txt            test_set.csv          valid_set.csv\n",
      "\u001b[34mRecordings\u001b[m\u001b[m            train_and_val_set.csv \u001b[34mwav_files\u001b[m\u001b[m\n",
      "\u001b[34mannotation_Files\u001b[m\u001b[m      train_set.csv\n"
     ]
    }
   ],
   "source": [
    "!ls annotated_data"
   ]
  },
  {
   "cell_type": "markdown",
   "id": "adc6709e-9508-4f08-b1ea-30d8662161b1",
   "metadata": {},
   "source": [
    "Next, convert the selection files and audio files to a `BoxedAnnotations` object, which contains the time, frequency, and label information for all annotations for every recording in the dataset."
   ]
  },
  {
   "cell_type": "code",
   "execution_count": 8,
   "id": "77f3f7a5-e074-4313-a1bd-6b5a4c98612e",
   "metadata": {
    "tags": []
   },
   "outputs": [
    {
     "name": "stderr",
     "output_type": "stream",
     "text": [
      "/Users/mikeg/miniforge3/envs/osfl2/lib/python3.10/site-packages/opensoundscape/annotations.py:243: FutureWarning: The behavior of DataFrame concatenation with empty or all-NA entries is deprecated. In a future version, this will no longer exclude empty or all-NA columns when determining the result dtypes. To retain the old behavior, exclude the relevant entries before the concat operation.\n",
      "  all_annotations = pd.concat(all_file_dfs).reset_index(drop=True)\n"
     ]
    }
   ],
   "source": [
    "from opensoundscape.annotations import BoxedAnnotations\n",
    "# Create a dataframe of annotations\n",
    "annotations = BoxedAnnotations.from_raven_files(\n",
    "    selection_files,\n",
    "    audio_files)"
   ]
  },
  {
   "cell_type": "code",
   "execution_count": 9,
   "id": "0692ec83",
   "metadata": {},
   "outputs": [
    {
     "data": {
      "text/plain": [
       "['annotated_data/Recordings/Recording_1/Recording_1_Segment_31.mp3',\n",
       " 'annotated_data/Recordings/Recording_1/Recording_1_Segment_07.mp3',\n",
       " 'annotated_data/Recordings/Recording_1/Recording_1_Segment_36.mp3',\n",
       " 'annotated_data/Recordings/Recording_1/Recording_1_Segment_04.mp3',\n",
       " 'annotated_data/Recordings/Recording_1/Recording_1_Segment_35.mp3',\n",
       " 'annotated_data/Recordings/Recording_1/Recording_1_Segment_09.mp3',\n",
       " 'annotated_data/Recordings/Recording_1/Recording_1_Segment_03.mp3',\n",
       " 'annotated_data/Recordings/Recording_1/Recording_1_Segment_32.mp3',\n",
       " 'annotated_data/Recordings/Recording_1/Recording_1_Segment_33.mp3',\n",
       " 'annotated_data/Recordings/Recording_1/Recording_1_Segment_02.mp3',\n",
       " 'annotated_data/Recordings/Recording_1/Recording_1_Segment_08.mp3',\n",
       " 'annotated_data/Recordings/Recording_1/Recording_1_Segment_34.mp3',\n",
       " 'annotated_data/Recordings/Recording_1/Recording_1_Segment_05.mp3',\n",
       " 'annotated_data/Recordings/Recording_1/Recording_1_Segment_06.mp3',\n",
       " 'annotated_data/Recordings/Recording_1/Recording_1_Segment_30.mp3',\n",
       " 'annotated_data/Recordings/Recording_1/Recording_1_Segment_01.mp3',\n",
       " 'annotated_data/Recordings/Recording_1/Recording_1_Segment_28.mp3',\n",
       " 'annotated_data/Recordings/Recording_1/Recording_1_Segment_22.mp3',\n",
       " 'annotated_data/Recordings/Recording_1/Recording_1_Segment_13.mp3',\n",
       " 'annotated_data/Recordings/Recording_1/Recording_1_Segment_19.mp3',\n",
       " 'annotated_data/Recordings/Recording_1/Recording_1_Segment_25.mp3',\n",
       " 'annotated_data/Recordings/Recording_1/Recording_1_Segment_14.mp3',\n",
       " 'annotated_data/Recordings/Recording_1/Recording_1_Segment_26.mp3',\n",
       " 'annotated_data/Recordings/Recording_1/Recording_1_Segment_17.mp3',\n",
       " 'annotated_data/Recordings/Recording_1/Recording_1_Segment_21.mp3',\n",
       " 'annotated_data/Recordings/Recording_1/Recording_1_Segment_10.mp3',\n",
       " 'annotated_data/Recordings/Recording_1/Recording_1_Segment_11.mp3',\n",
       " 'annotated_data/Recordings/Recording_1/Recording_1_Segment_20.mp3',\n",
       " 'annotated_data/Recordings/Recording_1/Recording_1_Segment_16.mp3',\n",
       " 'annotated_data/Recordings/Recording_1/Recording_1_Segment_27.mp3',\n",
       " 'annotated_data/Recordings/Recording_1/Recording_1_Segment_15.mp3',\n",
       " 'annotated_data/Recordings/Recording_1/Recording_1_Segment_24.mp3',\n",
       " 'annotated_data/Recordings/Recording_1/Recording_1_Segment_18.mp3',\n",
       " 'annotated_data/Recordings/Recording_1/Recording_1_Segment_12.mp3',\n",
       " 'annotated_data/Recordings/Recording_1/Recording_1_Segment_23.mp3',\n",
       " 'annotated_data/Recordings/Recording_1/Recording_1_Segment_29.mp3',\n",
       " 'annotated_data/Recordings/Recording_2/Recording_2_Segment_01.mp3',\n",
       " 'annotated_data/Recordings/Recording_2/Recording_2_Segment_06.mp3',\n",
       " 'annotated_data/Recordings/Recording_2/Recording_2_Segment_05.mp3',\n",
       " 'annotated_data/Recordings/Recording_2/Recording_2_Segment_02.mp3',\n",
       " 'annotated_data/Recordings/Recording_2/Recording_2_Segment_08.mp3',\n",
       " 'annotated_data/Recordings/Recording_2/Recording_2_Segment_09.mp3',\n",
       " 'annotated_data/Recordings/Recording_2/Recording_2_Segment_03.mp3',\n",
       " 'annotated_data/Recordings/Recording_2/Recording_2_Segment_04.mp3',\n",
       " 'annotated_data/Recordings/Recording_2/Recording_2_Segment_07.mp3',\n",
       " 'annotated_data/Recordings/Recording_2/Recording_2_Segment_12.mp3',\n",
       " 'annotated_data/Recordings/Recording_2/Recording_2_Segment_11.mp3',\n",
       " 'annotated_data/Recordings/Recording_2/Recording_2_Segment_10.mp3',\n",
       " 'annotated_data/Recordings/Recording_2/Recording_2_Segment_14.mp3',\n",
       " 'annotated_data/Recordings/Recording_2/Recording_2_Segment_13.mp3',\n",
       " 'annotated_data/Recordings/Recording_4/Recording_4_Segment_19.mp3',\n",
       " 'annotated_data/Recordings/Recording_4/Recording_4_Segment_13.mp3',\n",
       " 'annotated_data/Recordings/Recording_4/Recording_4_Segment_22.mp3',\n",
       " 'annotated_data/Recordings/Recording_4/Recording_4_Segment_14.mp3',\n",
       " 'annotated_data/Recordings/Recording_4/Recording_4_Segment_25.mp3',\n",
       " 'annotated_data/Recordings/Recording_4/Recording_4_Segment_17.mp3',\n",
       " 'annotated_data/Recordings/Recording_4/Recording_4_Segment_26.mp3',\n",
       " 'annotated_data/Recordings/Recording_4/Recording_4_Segment_10.mp3',\n",
       " 'annotated_data/Recordings/Recording_4/Recording_4_Segment_21.mp3',\n",
       " 'annotated_data/Recordings/Recording_4/Recording_4_Segment_20.mp3',\n",
       " 'annotated_data/Recordings/Recording_4/Recording_4_Segment_11.mp3',\n",
       " 'annotated_data/Recordings/Recording_4/Recording_4_Segment_16.mp3',\n",
       " 'annotated_data/Recordings/Recording_4/Recording_4_Segment_24.mp3',\n",
       " 'annotated_data/Recordings/Recording_4/Recording_4_Segment_15.mp3',\n",
       " 'annotated_data/Recordings/Recording_4/Recording_4_Segment_23.mp3',\n",
       " 'annotated_data/Recordings/Recording_4/Recording_4_Segment_12.mp3',\n",
       " 'annotated_data/Recordings/Recording_4/Recording_4_Segment_18.mp3',\n",
       " 'annotated_data/Recordings/Recording_4/Recording_4_Segment_07.mp3',\n",
       " 'annotated_data/Recordings/Recording_4/Recording_4_Segment_04.mp3',\n",
       " 'annotated_data/Recordings/Recording_4/Recording_4_Segment_03.mp3',\n",
       " 'annotated_data/Recordings/Recording_4/Recording_4_Segment_09.mp3',\n",
       " 'annotated_data/Recordings/Recording_4/Recording_4_Segment_08.mp3',\n",
       " 'annotated_data/Recordings/Recording_4/Recording_4_Segment_02.mp3',\n",
       " 'annotated_data/Recordings/Recording_4/Recording_4_Segment_05.mp3',\n",
       " 'annotated_data/Recordings/Recording_4/Recording_4_Segment_06.mp3',\n",
       " 'annotated_data/Recordings/Recording_4/Recording_4_Segment_01.mp3',\n",
       " 'annotated_data/Recordings/Recording_3/Recording_3_Segment_01.mp3']"
      ]
     },
     "execution_count": 9,
     "metadata": {},
     "output_type": "execute_result"
    }
   ],
   "source": [
    "audio_files"
   ]
  },
  {
   "cell_type": "code",
   "execution_count": 10,
   "id": "b934034e",
   "metadata": {},
   "outputs": [
    {
     "name": "stdout",
     "output_type": "stream",
     "text": [
      "Requirement already satisfied: ffmpeg in /Users/mikeg/miniforge3/envs/osfl2/lib/python3.10/site-packages (1.4)\n"
     ]
    }
   ],
   "source": [
    "!pip install ffmpeg\n",
    "import ffmpeg"
   ]
  },
  {
   "cell_type": "code",
   "execution_count": 11,
   "id": "0b0343ab",
   "metadata": {},
   "outputs": [
    {
     "data": {
      "text/html": [
       "<div>\n",
       "<style scoped>\n",
       "    .dataframe tbody tr th:only-of-type {\n",
       "        vertical-align: middle;\n",
       "    }\n",
       "\n",
       "    .dataframe tbody tr th {\n",
       "        vertical-align: top;\n",
       "    }\n",
       "\n",
       "    .dataframe thead th {\n",
       "        text-align: right;\n",
       "    }\n",
       "</style>\n",
       "<table border=\"1\" class=\"dataframe\">\n",
       "  <thead>\n",
       "    <tr style=\"text-align: right;\">\n",
       "      <th></th>\n",
       "      <th>audio_file</th>\n",
       "      <th>raven_file</th>\n",
       "      <th>annotation</th>\n",
       "      <th>start_time</th>\n",
       "      <th>end_time</th>\n",
       "      <th>low_f</th>\n",
       "      <th>high_f</th>\n",
       "      <th>View</th>\n",
       "      <th>Channel</th>\n",
       "      <th>Selection</th>\n",
       "    </tr>\n",
       "  </thead>\n",
       "  <tbody>\n",
       "    <tr>\n",
       "      <th>0</th>\n",
       "      <td>annotated_data/Recordings/Recording_1/Recordin...</td>\n",
       "      <td>annotated_data/Annotation_Files/Recording_1/Re...</td>\n",
       "      <td>BTNW</td>\n",
       "      <td>0.913636</td>\n",
       "      <td>2.202273</td>\n",
       "      <td>4635.1</td>\n",
       "      <td>7439.0</td>\n",
       "      <td>Spectrogram 1</td>\n",
       "      <td>1</td>\n",
       "      <td>1</td>\n",
       "    </tr>\n",
       "    <tr>\n",
       "      <th>1</th>\n",
       "      <td>annotated_data/Recordings/Recording_1/Recordin...</td>\n",
       "      <td>annotated_data/Annotation_Files/Recording_1/Re...</td>\n",
       "      <td>EATO</td>\n",
       "      <td>2.236363</td>\n",
       "      <td>2.693182</td>\n",
       "      <td>3051.9</td>\n",
       "      <td>4101.0</td>\n",
       "      <td>Spectrogram 1</td>\n",
       "      <td>1</td>\n",
       "      <td>2</td>\n",
       "    </tr>\n",
       "    <tr>\n",
       "      <th>2</th>\n",
       "      <td>annotated_data/Recordings/Recording_1/Recordin...</td>\n",
       "      <td>annotated_data/Annotation_Files/Recording_1/Re...</td>\n",
       "      <td>BTNW</td>\n",
       "      <td>4.234091</td>\n",
       "      <td>6.054545</td>\n",
       "      <td>4196.4</td>\n",
       "      <td>7477.2</td>\n",
       "      <td>Spectrogram 1</td>\n",
       "      <td>1</td>\n",
       "      <td>3</td>\n",
       "    </tr>\n",
       "    <tr>\n",
       "      <th>3</th>\n",
       "      <td>annotated_data/Recordings/Recording_1/Recordin...</td>\n",
       "      <td>annotated_data/Annotation_Files/Recording_1/Re...</td>\n",
       "      <td>EATO</td>\n",
       "      <td>5.870454</td>\n",
       "      <td>6.354545</td>\n",
       "      <td>2956.5</td>\n",
       "      <td>4101.0</td>\n",
       "      <td>Spectrogram 1</td>\n",
       "      <td>1</td>\n",
       "      <td>4</td>\n",
       "    </tr>\n",
       "    <tr>\n",
       "      <th>4</th>\n",
       "      <td>annotated_data/Recordings/Recording_1/Recordin...</td>\n",
       "      <td>annotated_data/Annotation_Files/Recording_1/Re...</td>\n",
       "      <td>BHCO</td>\n",
       "      <td>6.877640</td>\n",
       "      <td>7.498095</td>\n",
       "      <td>6733.3</td>\n",
       "      <td>10376.5</td>\n",
       "      <td>Spectrogram 1</td>\n",
       "      <td>1</td>\n",
       "      <td>5</td>\n",
       "    </tr>\n",
       "    <tr>\n",
       "      <th>...</th>\n",
       "      <td>...</td>\n",
       "      <td>...</td>\n",
       "      <td>...</td>\n",
       "      <td>...</td>\n",
       "      <td>...</td>\n",
       "      <td>...</td>\n",
       "      <td>...</td>\n",
       "      <td>...</td>\n",
       "      <td>...</td>\n",
       "      <td>...</td>\n",
       "    </tr>\n",
       "    <tr>\n",
       "      <th>16047</th>\n",
       "      <td>annotated_data/Recordings/Recording_3/Recordin...</td>\n",
       "      <td>annotated_data/Annotation_Files/Recording_3/Re...</td>\n",
       "      <td>EATO</td>\n",
       "      <td>294.434023</td>\n",
       "      <td>296.405887</td>\n",
       "      <td>2454.2</td>\n",
       "      <td>8325.4</td>\n",
       "      <td>Spectrogram 1</td>\n",
       "      <td>1</td>\n",
       "      <td>363</td>\n",
       "    </tr>\n",
       "    <tr>\n",
       "      <th>16048</th>\n",
       "      <td>annotated_data/Recordings/Recording_3/Recordin...</td>\n",
       "      <td>annotated_data/Annotation_Files/Recording_3/Re...</td>\n",
       "      <td>EATO</td>\n",
       "      <td>296.704800</td>\n",
       "      <td>297.948665</td>\n",
       "      <td>2340.9</td>\n",
       "      <td>4908.4</td>\n",
       "      <td>Spectrogram 1</td>\n",
       "      <td>1</td>\n",
       "      <td>364</td>\n",
       "    </tr>\n",
       "    <tr>\n",
       "      <th>16049</th>\n",
       "      <td>annotated_data/Recordings/Recording_3/Recordin...</td>\n",
       "      <td>annotated_data/Annotation_Files/Recording_3/Re...</td>\n",
       "      <td>BWWA</td>\n",
       "      <td>297.119422</td>\n",
       "      <td>298.170440</td>\n",
       "      <td>4983.9</td>\n",
       "      <td>9401.5</td>\n",
       "      <td>Spectrogram 1</td>\n",
       "      <td>1</td>\n",
       "      <td>365</td>\n",
       "    </tr>\n",
       "    <tr>\n",
       "      <th>16050</th>\n",
       "      <td>annotated_data/Recordings/Recording_3/Recordin...</td>\n",
       "      <td>annotated_data/Annotation_Files/Recording_3/Re...</td>\n",
       "      <td>BCCH</td>\n",
       "      <td>297.237338</td>\n",
       "      <td>298.220859</td>\n",
       "      <td>3106.8</td>\n",
       "      <td>3667.8</td>\n",
       "      <td>Spectrogram 1</td>\n",
       "      <td>1</td>\n",
       "      <td>366</td>\n",
       "    </tr>\n",
       "    <tr>\n",
       "      <th>16051</th>\n",
       "      <td>annotated_data/Recordings/Recording_3/Recordin...</td>\n",
       "      <td>annotated_data/Annotation_Files/Recording_3/Re...</td>\n",
       "      <td>EATO</td>\n",
       "      <td>298.373097</td>\n",
       "      <td>299.592857</td>\n",
       "      <td>2794.0</td>\n",
       "      <td>7079.4</td>\n",
       "      <td>Spectrogram 1</td>\n",
       "      <td>1</td>\n",
       "      <td>367</td>\n",
       "    </tr>\n",
       "  </tbody>\n",
       "</table>\n",
       "<p>16052 rows × 10 columns</p>\n",
       "</div>"
      ],
      "text/plain": [
       "                                              audio_file  \\\n",
       "0      annotated_data/Recordings/Recording_1/Recordin...   \n",
       "1      annotated_data/Recordings/Recording_1/Recordin...   \n",
       "2      annotated_data/Recordings/Recording_1/Recordin...   \n",
       "3      annotated_data/Recordings/Recording_1/Recordin...   \n",
       "4      annotated_data/Recordings/Recording_1/Recordin...   \n",
       "...                                                  ...   \n",
       "16047  annotated_data/Recordings/Recording_3/Recordin...   \n",
       "16048  annotated_data/Recordings/Recording_3/Recordin...   \n",
       "16049  annotated_data/Recordings/Recording_3/Recordin...   \n",
       "16050  annotated_data/Recordings/Recording_3/Recordin...   \n",
       "16051  annotated_data/Recordings/Recording_3/Recordin...   \n",
       "\n",
       "                                              raven_file annotation  \\\n",
       "0      annotated_data/Annotation_Files/Recording_1/Re...       BTNW   \n",
       "1      annotated_data/Annotation_Files/Recording_1/Re...       EATO   \n",
       "2      annotated_data/Annotation_Files/Recording_1/Re...       BTNW   \n",
       "3      annotated_data/Annotation_Files/Recording_1/Re...       EATO   \n",
       "4      annotated_data/Annotation_Files/Recording_1/Re...       BHCO   \n",
       "...                                                  ...        ...   \n",
       "16047  annotated_data/Annotation_Files/Recording_3/Re...       EATO   \n",
       "16048  annotated_data/Annotation_Files/Recording_3/Re...       EATO   \n",
       "16049  annotated_data/Annotation_Files/Recording_3/Re...       BWWA   \n",
       "16050  annotated_data/Annotation_Files/Recording_3/Re...       BCCH   \n",
       "16051  annotated_data/Annotation_Files/Recording_3/Re...       EATO   \n",
       "\n",
       "       start_time    end_time   low_f   high_f           View Channel  \\\n",
       "0        0.913636    2.202273  4635.1   7439.0  Spectrogram 1       1   \n",
       "1        2.236363    2.693182  3051.9   4101.0  Spectrogram 1       1   \n",
       "2        4.234091    6.054545  4196.4   7477.2  Spectrogram 1       1   \n",
       "3        5.870454    6.354545  2956.5   4101.0  Spectrogram 1       1   \n",
       "4        6.877640    7.498095  6733.3  10376.5  Spectrogram 1       1   \n",
       "...           ...         ...     ...      ...            ...     ...   \n",
       "16047  294.434023  296.405887  2454.2   8325.4  Spectrogram 1       1   \n",
       "16048  296.704800  297.948665  2340.9   4908.4  Spectrogram 1       1   \n",
       "16049  297.119422  298.170440  4983.9   9401.5  Spectrogram 1       1   \n",
       "16050  297.237338  298.220859  3106.8   3667.8  Spectrogram 1       1   \n",
       "16051  298.373097  299.592857  2794.0   7079.4  Spectrogram 1       1   \n",
       "\n",
       "      Selection  \n",
       "0             1  \n",
       "1             2  \n",
       "2             3  \n",
       "3             4  \n",
       "4             5  \n",
       "...         ...  \n",
       "16047       363  \n",
       "16048       364  \n",
       "16049       365  \n",
       "16050       366  \n",
       "16051       367  \n",
       "\n",
       "[16052 rows x 10 columns]"
      ]
     },
     "execution_count": 11,
     "metadata": {},
     "output_type": "execute_result"
    }
   ],
   "source": [
    "annotations"
   ]
  },
  {
   "cell_type": "code",
   "execution_count": 12,
   "id": "be86c1d9",
   "metadata": {},
   "outputs": [
    {
     "name": "stdout",
     "output_type": "stream",
     "text": [
      "README.txt            test_set.csv          valid_set.csv\n",
      "\u001b[34mRecordings\u001b[m\u001b[m            train_and_val_set.csv \u001b[34mwav_files\u001b[m\u001b[m\n",
      "\u001b[34mannotation_Files\u001b[m\u001b[m      train_set.csv\n"
     ]
    }
   ],
   "source": [
    "!ls annotated_data/"
   ]
  },
  {
   "cell_type": "markdown",
   "id": "c35824d4",
   "metadata": {},
   "source": [
    "When extracting the downloaded database, there were two folders each containing the source recordings. These were the wav and mp3 folders. I had to renamne the mp3 folder to Recordings to match the path expected by this notebook. "
   ]
  },
  {
   "cell_type": "code",
   "execution_count": 13,
   "id": "0b8c74cb-3fbf-4f29-8ed5-d62f51b645a4",
   "metadata": {
    "tags": []
   },
   "outputs": [],
   "source": [
    "%%capture\n",
    "# Parameters to use for label creation\n",
    "clip_duration = 3.0\n",
    "clip_overlap = 0.0\n",
    "min_label_overlap = 0.25\n",
    "species_of_interest = [\"NOCA\", \"EATO\", \"SCTA\", \"BAWW\", \"BCCH\", \"AMCR\", \"NOFL\"]\n",
    "\n",
    "# Create dataframe of one-hot labels\n",
    "clip_labels = annotations.one_hot_clip_labels(\n",
    "    clip_duration = clip_duration, \n",
    "    clip_overlap = clip_overlap,\n",
    "    min_label_overlap = min_label_overlap,\n",
    "    class_subset = species_of_interest # You can comment this line out if you want to include all species.\n",
    ")"
   ]
  },
  {
   "cell_type": "markdown",
   "id": "d7ec6fac-fb79-43dc-86c9-d66230189a94",
   "metadata": {},
   "source": [
    "## Create train, validation, and test datasets\n",
    "\n",
    "To train and test a model, we use three datasets:\n",
    "* The **training dataset** is used to fit your machine learning model to the audio data. \n",
    "* The **validation dataset** is a held-out dataset that is used to select hyperparameters (e.g. how many epochs to train for) during training\n",
    "* The **test dataset** is another held-out dataset that we use to check how the model performs on data that were not available at all during training.\n",
    "\n",
    "While both the training and validation datasets are used while trained the model, the test dataset is never touched until the model is fully trained and completed.\n",
    "\n",
    "The training and validation datasets may be gathered from the same source as each other. In contrast, the test dataset is often gathered from a different source to assess whether the model's performance generalizes to a real-world problem. For example, training and validation data might be drawn from an online database like Xeno-Canto, whereas the testing data is from your own field data. \n",
    "\n",
    "### Create a test dataset\n",
    "\n",
    "We'll separate the test dataset first. For a good assessment of the model's generalization, we want the test set to be independent of the training and validation datasets. For example, we don't want to use clips from the same source recording in the training dataset and the test dataset.\n",
    "\n",
    "For this example, we'll use the recordings in the folders `Recording_1`, `Recording_2` and `Recording_3` as our training and validation data, and use the recordings in folder `Recording_4` as our test data. "
   ]
  },
  {
   "cell_type": "code",
   "execution_count": null,
   "id": "0d0c5d34",
   "metadata": {},
   "outputs": [],
   "source": []
  },
  {
   "cell_type": "code",
   "execution_count": 14,
   "id": "d8190cbf-d9ad-400d-ad44-789eead2a656",
   "metadata": {},
   "outputs": [],
   "source": [
    "# Select all files from Recording_4 as a test set\n",
    "mask = clip_labels.reset_index()['file'].apply(lambda x: 'Recording_4' in x).values\n",
    "test_set = clip_labels[mask]\n",
    "\n",
    "# All other files will be used as a training set\n",
    "train_and_val_set = clip_labels.drop(test_set.index)\n",
    "\n",
    "# Save .csv tables of the training and validation sets to keep a record of them\n",
    "train_and_val_set.to_csv(\"./annotated_data/train_and_val_set.csv\")\n",
    "test_set.to_csv(\"./annotated_data/test_set.csv\")"
   ]
  },
  {
   "cell_type": "markdown",
   "id": "5b7fe29b-d6e7-4593-9b44-813c5aafb00b",
   "metadata": {},
   "source": [
    "If you wanted, you could load the training and testing set from these saved CSV files."
   ]
  },
  {
   "cell_type": "code",
   "execution_count": 15,
   "id": "81f53802-c25f-4cbe-ab7f-531b80f38cec",
   "metadata": {},
   "outputs": [],
   "source": [
    "train_and_val_set = pd.read_csv('./annotated_data/train_and_val_set.csv',index_col=[0,1,2])\n",
    "test_set = pd.read_csv('./annotated_data/test_set.csv',index_col=[0,1,2])"
   ]
  },
  {
   "cell_type": "markdown",
   "id": "afb99584-33fc-4889-83b5-4c912e3c3188",
   "metadata": {},
   "source": [
    "### Split training and validation datasets\n",
    "\n",
    "Now, separate the remaining non-test data into training and validation datasets.\n",
    "\n",
    "The idea of keeping a separate validation dataset is that, throughout training, we can 'peek' at the performance on the validation set to choose hyperparameters. (This is in contrast to the test dataset, which we will not look at until we've finished training our model.)\n",
    "\n",
    "One important hyperparameter is the number of **epochs** to train to, in order to prevent overfitting. Each epoch includes one round of fitting on each training sample. \n",
    "\n",
    "If a model's performance on a training dataset continues to improve as it trains, but its performance on the validation dataset plateaus, this could incate the model is **overfitting** on the training dataset, learning information specific to those particular samples instead of gaining the ability to generalize to new data."
   ]
  },
  {
   "cell_type": "code",
   "execution_count": 16,
   "id": "2f47db9c-bf65-46b9-b64b-040d13ea17e1",
   "metadata": {},
   "outputs": [],
   "source": [
    "# Split our training data into training and validation sets\n",
    "train_df, valid_df = sklearn.model_selection.train_test_split(train_and_val_set, test_size=0.1, random_state=0)"
   ]
  },
  {
   "cell_type": "code",
   "execution_count": 17,
   "id": "74268296-4323-46c5-8a47-9f343f77844f",
   "metadata": {},
   "outputs": [],
   "source": [
    "train_df.to_csv(\"./annotated_data/train_set.csv\")\n",
    "valid_df.to_csv(\"./annotated_data/valid_set.csv\")"
   ]
  },
  {
   "cell_type": "markdown",
   "id": "21d30e3e-eda1-4476-8ebf-db4b0844a1d0",
   "metadata": {},
   "source": [
    "### Resample data for even class representation\n",
    "\n",
    "Before training, we will balance the number of samples of each class in the training set. This helps the model learn all of the classes, rather than paying too much attention to the classes with the most labeled annotations. "
   ]
  },
  {
   "cell_type": "code",
   "execution_count": 18,
   "id": "5a75f8ae-c81b-4a1b-b62e-87fe1b64eca0",
   "metadata": {},
   "outputs": [],
   "source": [
    "from opensoundscape.data_selection import resample\n",
    "\n",
    "# upsample (repeat samples) so that all classes have 800 samples\n",
    "balanced_train_df = resample(train_df,n_samples_per_class=800,random_state=0)"
   ]
  },
  {
   "cell_type": "markdown",
   "id": "a9730295-df2d-4fca-85d8-a7d756b1763f",
   "metadata": {},
   "source": [
    "## Set up model\n",
    "\n",
    "Now we create a model object. We have to select several parameters when creating this object: its `architecture`, `classes`, and `sample_duration`. \n",
    "\n",
    "Some additional parameters can also be changed at this step, such as the preprocessor used to create spectrograms and the shape of the spectrograms. \n",
    "\n",
    "For more detail on this step, see the [\"Customize CNN training\"](\"tutorials/CNN.html\") tutorial.\n"
   ]
  },
  {
   "cell_type": "markdown",
   "id": "fe66d592-fb5b-4e9d-a832-9ae123b9a442",
   "metadata": {},
   "source": [
    "### Create CNN object"
   ]
  },
  {
   "cell_type": "markdown",
   "id": "2c5061ad-3fae-4b00-967e-f1101ff5165e",
   "metadata": {},
   "source": [
    "Now, create a CNN object with this architecture, the classes we put into the dataframe above, and the same sample duration as we selected above.\n",
    "\n",
    "The first time you run this script for a particular architecture, OpenSoundscape will download the desired architecture."
   ]
  },
  {
   "cell_type": "code",
   "execution_count": 19,
   "id": "c61f98fb-0791-4e3d-ab51-ee36ae3e1dd5",
   "metadata": {},
   "outputs": [],
   "source": [
    "# Create a CNN object designed to recognize 3-second samples\n",
    "from opensoundscape import CNN\n",
    "\n",
    "# Use resnet34 architecture\n",
    "architecture = 'resnet34'\n",
    "\n",
    "# Can use this code to get your classes, if needed\n",
    "class_list = list(train_df.columns)\n",
    "\n",
    "model = CNN(\n",
    "    architecture = architecture,\n",
    "    classes = class_list,\n",
    "    sample_duration = clip_duration #3s, selected above\n",
    ")"
   ]
  },
  {
   "cell_type": "markdown",
   "id": "f92a8de1-3d6b-4f03-bd61-dae8c17f1ddf",
   "metadata": {},
   "source": [
    "### Check model device\n",
    "\n",
    "If a GPU is available on your computer, the CNN object automatically selects it for accellerating performance. You can override `.device` to use a specific device such as `cpu` or `cuda:3`"
   ]
  },
  {
   "cell_type": "code",
   "execution_count": 20,
   "id": "9de0c6df-d999-4791-b358-312a076f6888",
   "metadata": {},
   "outputs": [
    {
     "name": "stdout",
     "output_type": "stream",
     "text": [
      "model.device is: mps\n"
     ]
    }
   ],
   "source": [
    "print(f'model.device is: {model.device}')"
   ]
  },
  {
   "cell_type": "markdown",
   "id": "2c901111-323f-485d-bb45-f97a8abedafb",
   "metadata": {},
   "source": [
    "### Set up WandB model logging\n",
    "\n",
    "While this step is optional, it is very helpful for model training. In this step, we set up model logging on a service called **Weights & Biases** (AKA WandB). \n",
    "\n",
    "Weights & Biases is a free website you can use to monitor model training. It is integrated with OpenSoundscape to include helpful functions such as checking on your model's training progress in real time, visualizing the spectrograms created for training your model, comparing multiple tries at training the same model, and more. For more information, check out this [blog post](https://wandb.ai/wandb_fc/repo-spotlight/reports/Community-Spotlight-OpenSoundscape--Vmlldzo0MDcwMTI4). \n",
    "\n",
    "The instructions below will help you set up `wandb` logging:\n",
    "\n",
    "* Create an account on the [Weights and Biases website](https://wandb.ai/). \n",
    "* The first time you use `wandb`, you'll need to run `wandb.login()` in Python or `wandb login` on the command line, then enter the API key from your [settings](https://wandb.ai/settings) page\n",
    "* In a Python script where you want to log model training, use `wandb.init()` as demonstrated below. The \"Entity\" or team option allows runs and projects to be shared across members in a group, making it easy to collaborate and see progress of other team members' runs.\n",
    "\n",
    "\n",
    "As training progresses, performance metrics will be plotted to the wandb logging platform and visible on this run's web page. For example, this [wandb web page](https://wandb.ai/kitzeslab/opensoundscape%20training%20demo/runs/w1xyk7zr/workspace?workspace=user-samlapp) shows the content logged to wandb when this notebook was run by the Kitzes Lab. By default, OpenSoundscape + WandB integration creates several pages with information about the model:\n",
    "\n",
    "- Overview: hyperparameters, run description, and hardware available during the run\n",
    "- Charts: \"Samples\" panel with audio and images of preprocessed samples (useful for checking that your preprocessing performs as expected and your labels are correct)\n",
    "- Charts: graphs of each class's performance metrics over training time\n",
    "- Model: summary of model architecture\n",
    "- Logs: standard output of training script\n",
    "- System: computational performance metrics including memory, CPU use, etc\n",
    "\n",
    "When training several models and comparing performance, the \"Project\" page of WandB provides comparisons of metrics and hyperparameters across training runs."
   ]
  },
  {
   "cell_type": "code",
   "execution_count": 21,
   "id": "113a1a3c-1b0b-4159-83d7-43f7cc1a0d24",
   "metadata": {
    "tags": []
   },
   "outputs": [],
   "source": [
    "import wandb\n"
   ]
  },
  {
   "cell_type": "code",
   "execution_count": 23,
   "id": "55f7ca9e",
   "metadata": {},
   "outputs": [
    {
     "name": "stderr",
     "output_type": "stream",
     "text": [
      "\u001b[34m\u001b[1mwandb\u001b[0m: \u001b[33mWARNING\u001b[0m Calling wandb.login() after wandb.init() has no effect.\n"
     ]
    },
    {
     "data": {
      "text/html": [
       "Finishing last run (ID:1ihujapl) before initializing another..."
      ],
      "text/plain": [
       "<IPython.core.display.HTML object>"
      ]
     },
     "metadata": {},
     "output_type": "display_data"
    },
    {
     "name": "stderr",
     "output_type": "stream",
     "text": [
      "wandb: WARNING Source type is set to 'repo' but some required information is missing from the environment. A job will not be created from this run. See https://docs.wandb.ai/guides/launch/create-job\n"
     ]
    },
    {
     "data": {
      "application/vnd.jupyter.widget-view+json": {
       "model_id": "7531d8b09c4e485698027e43ed30d050",
       "version_major": 2,
       "version_minor": 0
      },
      "text/plain": [
       "VBox(children=(Label(value='0.001 MB of 0.001 MB uploaded\\r'), FloatProgress(value=1.0, max=1.0)))"
      ]
     },
     "metadata": {},
     "output_type": "display_data"
    },
    {
     "data": {
      "text/html": [
       " View run <strong style=\"color:#cdcd00\">crimson-springroll-22</strong> at: <a href='https://wandb.ai/mgallimore88/osfl/runs/1ihujapl' target=\"_blank\">https://wandb.ai/mgallimore88/osfl/runs/1ihujapl</a><br/>Synced 6 W&B file(s), 0 media file(s), 0 artifact file(s) and 0 other file(s)"
      ],
      "text/plain": [
       "<IPython.core.display.HTML object>"
      ]
     },
     "metadata": {},
     "output_type": "display_data"
    },
    {
     "data": {
      "text/html": [
       "Find logs at: <code>./wandb/run-20240218_131228-1ihujapl/logs</code>"
      ],
      "text/plain": [
       "<IPython.core.display.HTML object>"
      ]
     },
     "metadata": {},
     "output_type": "display_data"
    },
    {
     "data": {
      "text/html": [
       "Successfully finished last run (ID:1ihujapl). Initializing new run:<br/>"
      ],
      "text/plain": [
       "<IPython.core.display.HTML object>"
      ]
     },
     "metadata": {},
     "output_type": "display_data"
    },
    {
     "data": {
      "application/vnd.jupyter.widget-view+json": {
       "model_id": "99e2b6cc14004a66a5fda87a427970c7",
       "version_major": 2,
       "version_minor": 0
      },
      "text/plain": [
       "VBox(children=(Label(value='Waiting for wandb.init()...\\r'), FloatProgress(value=0.011167834255555438, max=1.0…"
      ]
     },
     "metadata": {},
     "output_type": "display_data"
    },
    {
     "data": {
      "text/html": [
       "Tracking run with wandb version 0.16.3"
      ],
      "text/plain": [
       "<IPython.core.display.HTML object>"
      ]
     },
     "metadata": {},
     "output_type": "display_data"
    },
    {
     "data": {
      "text/html": [
       "Run data is saved locally in <code>/Users/mikeg/code/machine_learning/osfl_cnn_recognizer/notebooks/exploratory_nbs/opensoundscape-tutorials/wandb/run-20240218_131258-xrzclh6n</code>"
      ],
      "text/plain": [
       "<IPython.core.display.HTML object>"
      ]
     },
     "metadata": {},
     "output_type": "display_data"
    },
    {
     "data": {
      "text/html": [
       "Syncing run <strong><a href='https://wandb.ai/mgallimore88/osfl/runs/xrzclh6n' target=\"_blank\">lucky-lamp-23</a></strong> to <a href='https://wandb.ai/mgallimore88/osfl' target=\"_blank\">Weights & Biases</a> (<a href='https://wandb.me/run' target=\"_blank\">docs</a>)<br/>"
      ],
      "text/plain": [
       "<IPython.core.display.HTML object>"
      ]
     },
     "metadata": {},
     "output_type": "display_data"
    },
    {
     "data": {
      "text/html": [
       " View project at <a href='https://wandb.ai/mgallimore88/osfl' target=\"_blank\">https://wandb.ai/mgallimore88/osfl</a>"
      ],
      "text/plain": [
       "<IPython.core.display.HTML object>"
      ]
     },
     "metadata": {},
     "output_type": "display_data"
    },
    {
     "data": {
      "text/html": [
       " View run at <a href='https://wandb.ai/mgallimore88/osfl/runs/xrzclh6n' target=\"_blank\">https://wandb.ai/mgallimore88/osfl/runs/xrzclh6n</a>"
      ],
      "text/plain": [
       "<IPython.core.display.HTML object>"
      ]
     },
     "metadata": {},
     "output_type": "display_data"
    }
   ],
   "source": [
    "try:\n",
    "    wandb.login(relogin=True)\n",
    "    wandb_session = wandb.init(\n",
    "        project='osfl',\n",
    "    )\n",
    "except: #if wandb.init fails, don't use wandb logging\n",
    "    print('failed to create wandb session. wandb session will be None')\n",
    "    wandb_session = None"
   ]
  },
  {
   "cell_type": "markdown",
   "id": "f865c2ff-441b-40eb-a6d9-7665452c5add",
   "metadata": {},
   "source": [
    "## Train the CNN\n",
    "\n",
    "Finally, train the CNN for two epoch. Typically, we would train the model for more than two epochs, but because training is slow and is much better done outside of a Jupyter Notebook, we just include this as a short demonstration of training.\n",
    "\n",
    "Each **epoch** is one pass-through of all of the samples in the training dataset, plus running predictions on the validation dataset. \n",
    "\n",
    "Each epoch is composed of smaller groups of samples called **batches**. The machine learning model predicts on every sample in the batch, then the model weights are updated based on those samples. Larger batches can increase training speed, but require more memory. If you get a memory error, try reducing the batch size.\n",
    "\n",
    "We use default training parameters, but many aspects of CNN training can be customized (see the \"Customize CNN training\" tutorial for examples)."
   ]
  },
  {
   "cell_type": "code",
   "execution_count": 24,
   "id": "981bffa6-842e-4e76-bbf1-ad92a3a72dee",
   "metadata": {},
   "outputs": [],
   "source": [
    "checkpoint_folder = Path(\"model_training_checkpoints\")\n",
    "checkpoint_folder.mkdir(exist_ok=True)"
   ]
  },
  {
   "cell_type": "markdown",
   "id": "e2b9afcf-fb51-45e8-9450-bcb2d17bac97",
   "metadata": {},
   "source": [
    "training on mps (Apple Silicon GPU) requires PyTorch >= 2.1.0. If we have an older "
   ]
  },
  {
   "cell_type": "code",
   "execution_count": 25,
   "id": "94dc7e68-b57c-4f8c-981c-d32d7c90d394",
   "metadata": {},
   "outputs": [],
   "source": [
    "# if model.device ==  torch.device('mps'):\n",
    "#     model.device=torch.device('cpu')"
   ]
  },
  {
   "cell_type": "code",
   "execution_count": 27,
   "id": "2ea86e7f-5533-4815-bf34-31e141002dd2",
   "metadata": {
    "tags": []
   },
   "outputs": [
    {
     "name": "stdout",
     "output_type": "stream",
     "text": [
      "\n",
      "Training Epoch 2\n"
     ]
    },
    {
     "data": {
      "application/vnd.jupyter.widget-view+json": {
       "model_id": "54981f4d746048f18a02cbec8d11502a",
       "version_major": 2,
       "version_minor": 0
      },
      "text/plain": [
       "  0%|          | 0/88 [00:00<?, ?it/s]"
      ]
     },
     "metadata": {},
     "output_type": "display_data"
    },
    {
     "name": "stdout",
     "output_type": "stream",
     "text": [
      "Epoch: 2 [batch 0/88, 0.00%] \n",
      "\tDistLoss: 0.249\n",
      "Metrics:\n",
      "Metrics:\n",
      "\tMAP: 0.855\n",
      "\n",
      "Validation.\n"
     ]
    },
    {
     "data": {
      "application/vnd.jupyter.widget-view+json": {
       "model_id": "02b017ddf7fe42ffbbd72fbc947fac57",
       "version_major": 2,
       "version_minor": 0
      },
      "text/plain": [
       "  0%|          | 0/8 [00:00<?, ?it/s]"
      ]
     },
     "metadata": {},
     "output_type": "display_data"
    },
    {
     "name": "stdout",
     "output_type": "stream",
     "text": [
      "Metrics:\n",
      "\tMAP: 0.754\n",
      "\n",
      "Training Epoch 3\n"
     ]
    },
    {
     "data": {
      "application/vnd.jupyter.widget-view+json": {
       "model_id": "220380e74389473e95cbd752686095a5",
       "version_major": 2,
       "version_minor": 0
      },
      "text/plain": [
       "  0%|          | 0/88 [00:00<?, ?it/s]"
      ]
     },
     "metadata": {},
     "output_type": "display_data"
    },
    {
     "name": "stdout",
     "output_type": "stream",
     "text": [
      "Epoch: 3 [batch 0/88, 0.00%] \n",
      "\tDistLoss: 0.245\n",
      "Metrics:\n",
      "Metrics:\n",
      "\tMAP: 0.904\n",
      "\n",
      "Validation.\n"
     ]
    },
    {
     "data": {
      "application/vnd.jupyter.widget-view+json": {
       "model_id": "04e6752d4caf458d972d728090f99182",
       "version_major": 2,
       "version_minor": 0
      },
      "text/plain": [
       "  0%|          | 0/8 [00:00<?, ?it/s]"
      ]
     },
     "metadata": {},
     "output_type": "display_data"
    },
    {
     "name": "stdout",
     "output_type": "stream",
     "text": [
      "Metrics:\n",
      "\tMAP: 0.754\n",
      "\n",
      "Training Epoch 4\n"
     ]
    },
    {
     "data": {
      "application/vnd.jupyter.widget-view+json": {
       "model_id": "ab57dac64285448eb6ba273fd52055ea",
       "version_major": 2,
       "version_minor": 0
      },
      "text/plain": [
       "  0%|          | 0/88 [00:00<?, ?it/s]"
      ]
     },
     "metadata": {},
     "output_type": "display_data"
    },
    {
     "name": "stdout",
     "output_type": "stream",
     "text": [
      "Epoch: 4 [batch 0/88, 0.00%] \n",
      "\tDistLoss: 0.191\n",
      "Metrics:\n",
      "Metrics:\n",
      "\tMAP: 0.928\n",
      "\n",
      "Validation.\n"
     ]
    },
    {
     "data": {
      "application/vnd.jupyter.widget-view+json": {
       "model_id": "1646cb42b1e6415f83cb4c071afed378",
       "version_major": 2,
       "version_minor": 0
      },
      "text/plain": [
       "  0%|          | 0/8 [00:00<?, ?it/s]"
      ]
     },
     "metadata": {},
     "output_type": "display_data"
    },
    {
     "name": "stdout",
     "output_type": "stream",
     "text": [
      "Metrics:\n",
      "\tMAP: 0.771\n",
      "\n",
      "Training Epoch 5\n"
     ]
    },
    {
     "data": {
      "application/vnd.jupyter.widget-view+json": {
       "model_id": "5f7a1ebf20644815b88f43facd97d61f",
       "version_major": 2,
       "version_minor": 0
      },
      "text/plain": [
       "  0%|          | 0/88 [00:00<?, ?it/s]"
      ]
     },
     "metadata": {},
     "output_type": "display_data"
    },
    {
     "name": "stdout",
     "output_type": "stream",
     "text": [
      "Epoch: 5 [batch 0/88, 0.00%] \n",
      "\tDistLoss: 0.167\n",
      "Metrics:\n",
      "Metrics:\n",
      "\tMAP: 0.948\n",
      "\n",
      "Validation.\n"
     ]
    },
    {
     "data": {
      "application/vnd.jupyter.widget-view+json": {
       "model_id": "e6e8daecf3d94bb5a171dd06bc210c67",
       "version_major": 2,
       "version_minor": 0
      },
      "text/plain": [
       "  0%|          | 0/8 [00:00<?, ?it/s]"
      ]
     },
     "metadata": {},
     "output_type": "display_data"
    },
    {
     "name": "stdout",
     "output_type": "stream",
     "text": [
      "Metrics:\n",
      "\tMAP: 0.792\n",
      "\n",
      "Training Epoch 6\n"
     ]
    },
    {
     "data": {
      "application/vnd.jupyter.widget-view+json": {
       "model_id": "2a0572a5af014f36a6e4b5fda26d25fc",
       "version_major": 2,
       "version_minor": 0
      },
      "text/plain": [
       "  0%|          | 0/88 [00:00<?, ?it/s]"
      ]
     },
     "metadata": {},
     "output_type": "display_data"
    },
    {
     "name": "stdout",
     "output_type": "stream",
     "text": [
      "Epoch: 6 [batch 0/88, 0.00%] \n",
      "\tDistLoss: 0.138\n",
      "Metrics:\n",
      "Metrics:\n",
      "\tMAP: 0.959\n",
      "\n",
      "Validation.\n"
     ]
    },
    {
     "data": {
      "application/vnd.jupyter.widget-view+json": {
       "model_id": "1eee32cb51e7410d9f293798e8c19f38",
       "version_major": 2,
       "version_minor": 0
      },
      "text/plain": [
       "  0%|          | 0/8 [00:00<?, ?it/s]"
      ]
     },
     "metadata": {},
     "output_type": "display_data"
    },
    {
     "name": "stdout",
     "output_type": "stream",
     "text": [
      "Metrics:\n",
      "\tMAP: 0.796\n",
      "\n",
      "Training Epoch 7\n"
     ]
    },
    {
     "data": {
      "application/vnd.jupyter.widget-view+json": {
       "model_id": "541ce1ce7df345458394818116bad6b3",
       "version_major": 2,
       "version_minor": 0
      },
      "text/plain": [
       "  0%|          | 0/88 [00:00<?, ?it/s]"
      ]
     },
     "metadata": {},
     "output_type": "display_data"
    },
    {
     "name": "stdout",
     "output_type": "stream",
     "text": [
      "Epoch: 7 [batch 0/88, 0.00%] \n",
      "\tDistLoss: 0.137\n",
      "Metrics:\n",
      "Metrics:\n",
      "\tMAP: 0.967\n",
      "\n",
      "Validation.\n"
     ]
    },
    {
     "data": {
      "application/vnd.jupyter.widget-view+json": {
       "model_id": "452e3aacafdd4ef0a666efb0cb5806c6",
       "version_major": 2,
       "version_minor": 0
      },
      "text/plain": [
       "  0%|          | 0/8 [00:00<?, ?it/s]"
      ]
     },
     "metadata": {},
     "output_type": "display_data"
    },
    {
     "name": "stdout",
     "output_type": "stream",
     "text": [
      "Metrics:\n",
      "\tMAP: 0.808\n",
      "\n",
      "Best Model Appears at Epoch 7 with Validation score 0.808.\n"
     ]
    }
   ],
   "source": [
    "#%%capture --no-stdout --no-display\n",
    "# Uncomment the line above to silence outputs from this cell\n",
    "\n",
    "model.train(\n",
    "    balanced_train_df, \n",
    "    valid_df, \n",
    "    epochs = 6, \n",
    "    batch_size = 64, \n",
    "    log_interval = 100, #log progress every 100 batches\n",
    "    num_workers = 4, #4 parallelized cpu tasks for preprocessing\n",
    "    wandb_session = wandb_session,\n",
    "    save_interval = 10, #save checkpoint every 10 epochs\n",
    "    save_path = checkpoint_folder #location to save checkpoints\n",
    ")"
   ]
  },
  {
   "cell_type": "markdown",
   "id": "b9ed570a",
   "metadata": {},
   "source": [
    "Here's an example of some of the charts on wandb after training a model for a few epochs. Some of the bird species didn't have such high recall and precision scores, but the Resnet34 model was able to generalise to recognise other american robins from amongst vocalizations not present in the training set, but from the same recording. \n",
    "\n",
    "There's a second test set of recordings from a different location. "
   ]
  },
  {
   "attachments": {
    "Screenshot 2024-02-18 at 14.23.16.png": {
     "image/png": "[encoded data removed]"
    }
   },
   "cell_type": "markdown",
   "id": "0f04bfbe",
   "metadata": {},
   "source": [
    "<!-- ![Screenshot 2024-02-18 at 14.23.16.png](<attachment:Screenshot 2024-02-18 at 14.23.16.png>) -->"
   ]
  },
  {
   "cell_type": "markdown",
   "id": "2bb3d185",
   "metadata": {},
   "source": [
    "## Let's take a look at the validation set used to evaluate this model during training."
   ]
  },
  {
   "cell_type": "code",
   "execution_count": 34,
   "id": "2e1742cb",
   "metadata": {},
   "outputs": [
    {
     "data": {
      "text/html": [
       "<div>\n",
       "<style scoped>\n",
       "    .dataframe tbody tr th:only-of-type {\n",
       "        vertical-align: middle;\n",
       "    }\n",
       "\n",
       "    .dataframe tbody tr th {\n",
       "        vertical-align: top;\n",
       "    }\n",
       "\n",
       "    .dataframe thead th {\n",
       "        text-align: right;\n",
       "    }\n",
       "</style>\n",
       "<table border=\"1\" class=\"dataframe\">\n",
       "  <thead>\n",
       "    <tr style=\"text-align: right;\">\n",
       "      <th></th>\n",
       "      <th></th>\n",
       "      <th></th>\n",
       "      <th>NOCA</th>\n",
       "      <th>EATO</th>\n",
       "      <th>SCTA</th>\n",
       "      <th>BAWW</th>\n",
       "      <th>BCCH</th>\n",
       "      <th>AMCR</th>\n",
       "      <th>NOFL</th>\n",
       "    </tr>\n",
       "    <tr>\n",
       "      <th>file</th>\n",
       "      <th>start_time</th>\n",
       "      <th>end_time</th>\n",
       "      <th></th>\n",
       "      <th></th>\n",
       "      <th></th>\n",
       "      <th></th>\n",
       "      <th></th>\n",
       "      <th></th>\n",
       "      <th></th>\n",
       "    </tr>\n",
       "  </thead>\n",
       "  <tbody>\n",
       "    <tr>\n",
       "      <th>annotated_data/Recordings/Recording_1/Recording_1_Segment_14.mp3</th>\n",
       "      <th>75.0</th>\n",
       "      <th>78.0</th>\n",
       "      <td>0.0</td>\n",
       "      <td>0.0</td>\n",
       "      <td>0.0</td>\n",
       "      <td>0.0</td>\n",
       "      <td>0.0</td>\n",
       "      <td>0.0</td>\n",
       "      <td>0.0</td>\n",
       "    </tr>\n",
       "    <tr>\n",
       "      <th>annotated_data/Recordings/Recording_1/Recording_1_Segment_05.mp3</th>\n",
       "      <th>12.0</th>\n",
       "      <th>15.0</th>\n",
       "      <td>0.0</td>\n",
       "      <td>0.0</td>\n",
       "      <td>0.0</td>\n",
       "      <td>0.0</td>\n",
       "      <td>0.0</td>\n",
       "      <td>0.0</td>\n",
       "      <td>0.0</td>\n",
       "    </tr>\n",
       "    <tr>\n",
       "      <th>annotated_data/Recordings/Recording_2/Recording_2_Segment_14.mp3</th>\n",
       "      <th>60.0</th>\n",
       "      <th>63.0</th>\n",
       "      <td>0.0</td>\n",
       "      <td>0.0</td>\n",
       "      <td>1.0</td>\n",
       "      <td>0.0</td>\n",
       "      <td>0.0</td>\n",
       "      <td>1.0</td>\n",
       "      <td>0.0</td>\n",
       "    </tr>\n",
       "    <tr>\n",
       "      <th>annotated_data/Recordings/Recording_1/Recording_1_Segment_12.mp3</th>\n",
       "      <th>9.0</th>\n",
       "      <th>12.0</th>\n",
       "      <td>0.0</td>\n",
       "      <td>1.0</td>\n",
       "      <td>0.0</td>\n",
       "      <td>0.0</td>\n",
       "      <td>0.0</td>\n",
       "      <td>0.0</td>\n",
       "      <td>0.0</td>\n",
       "    </tr>\n",
       "    <tr>\n",
       "      <th>annotated_data/Recordings/Recording_1/Recording_1_Segment_23.mp3</th>\n",
       "      <th>9.0</th>\n",
       "      <th>12.0</th>\n",
       "      <td>0.0</td>\n",
       "      <td>1.0</td>\n",
       "      <td>0.0</td>\n",
       "      <td>0.0</td>\n",
       "      <td>0.0</td>\n",
       "      <td>1.0</td>\n",
       "      <td>0.0</td>\n",
       "    </tr>\n",
       "  </tbody>\n",
       "</table>\n",
       "</div>"
      ],
      "text/plain": [
       "                                                                        NOCA  \\\n",
       "file                                               start_time end_time         \n",
       "annotated_data/Recordings/Recording_1/Recording... 75.0       78.0       0.0   \n",
       "annotated_data/Recordings/Recording_1/Recording... 12.0       15.0       0.0   \n",
       "annotated_data/Recordings/Recording_2/Recording... 60.0       63.0       0.0   \n",
       "annotated_data/Recordings/Recording_1/Recording... 9.0        12.0       0.0   \n",
       "annotated_data/Recordings/Recording_1/Recording... 9.0        12.0       0.0   \n",
       "\n",
       "                                                                        EATO  \\\n",
       "file                                               start_time end_time         \n",
       "annotated_data/Recordings/Recording_1/Recording... 75.0       78.0       0.0   \n",
       "annotated_data/Recordings/Recording_1/Recording... 12.0       15.0       0.0   \n",
       "annotated_data/Recordings/Recording_2/Recording... 60.0       63.0       0.0   \n",
       "annotated_data/Recordings/Recording_1/Recording... 9.0        12.0       1.0   \n",
       "annotated_data/Recordings/Recording_1/Recording... 9.0        12.0       1.0   \n",
       "\n",
       "                                                                        SCTA  \\\n",
       "file                                               start_time end_time         \n",
       "annotated_data/Recordings/Recording_1/Recording... 75.0       78.0       0.0   \n",
       "annotated_data/Recordings/Recording_1/Recording... 12.0       15.0       0.0   \n",
       "annotated_data/Recordings/Recording_2/Recording... 60.0       63.0       1.0   \n",
       "annotated_data/Recordings/Recording_1/Recording... 9.0        12.0       0.0   \n",
       "annotated_data/Recordings/Recording_1/Recording... 9.0        12.0       0.0   \n",
       "\n",
       "                                                                        BAWW  \\\n",
       "file                                               start_time end_time         \n",
       "annotated_data/Recordings/Recording_1/Recording... 75.0       78.0       0.0   \n",
       "annotated_data/Recordings/Recording_1/Recording... 12.0       15.0       0.0   \n",
       "annotated_data/Recordings/Recording_2/Recording... 60.0       63.0       0.0   \n",
       "annotated_data/Recordings/Recording_1/Recording... 9.0        12.0       0.0   \n",
       "annotated_data/Recordings/Recording_1/Recording... 9.0        12.0       0.0   \n",
       "\n",
       "                                                                        BCCH  \\\n",
       "file                                               start_time end_time         \n",
       "annotated_data/Recordings/Recording_1/Recording... 75.0       78.0       0.0   \n",
       "annotated_data/Recordings/Recording_1/Recording... 12.0       15.0       0.0   \n",
       "annotated_data/Recordings/Recording_2/Recording... 60.0       63.0       0.0   \n",
       "annotated_data/Recordings/Recording_1/Recording... 9.0        12.0       0.0   \n",
       "annotated_data/Recordings/Recording_1/Recording... 9.0        12.0       0.0   \n",
       "\n",
       "                                                                        AMCR  \\\n",
       "file                                               start_time end_time         \n",
       "annotated_data/Recordings/Recording_1/Recording... 75.0       78.0       0.0   \n",
       "annotated_data/Recordings/Recording_1/Recording... 12.0       15.0       0.0   \n",
       "annotated_data/Recordings/Recording_2/Recording... 60.0       63.0       1.0   \n",
       "annotated_data/Recordings/Recording_1/Recording... 9.0        12.0       0.0   \n",
       "annotated_data/Recordings/Recording_1/Recording... 9.0        12.0       1.0   \n",
       "\n",
       "                                                                        NOFL  \n",
       "file                                               start_time end_time        \n",
       "annotated_data/Recordings/Recording_1/Recording... 75.0       78.0       0.0  \n",
       "annotated_data/Recordings/Recording_1/Recording... 12.0       15.0       0.0  \n",
       "annotated_data/Recordings/Recording_2/Recording... 60.0       63.0       0.0  \n",
       "annotated_data/Recordings/Recording_1/Recording... 9.0        12.0       0.0  \n",
       "annotated_data/Recordings/Recording_1/Recording... 9.0        12.0       0.0  "
      ]
     },
     "execution_count": 34,
     "metadata": {},
     "output_type": "execute_result"
    }
   ],
   "source": [
    "valid_df.head()"
   ]
  },
  {
   "cell_type": "markdown",
   "id": "d2003881",
   "metadata": {},
   "source": [
    "The validation set contains a random sample of clips from areas 1, 2 and 3 - so the model has never seen these clips before, but it has seen clips from the same location. Let's see how the model performs on these clips compared with the ones in the withheld test set"
   ]
  },
  {
   "cell_type": "code",
   "execution_count": 145,
   "id": "f544ff6b",
   "metadata": {},
   "outputs": [
    {
     "data": {
      "application/vnd.jupyter.widget-view+json": {
       "model_id": "a44d718052834442a0531c23adc56344",
       "version_major": 2,
       "version_minor": 0
      },
      "text/plain": [
       "  0%|          | 0/8 [00:00<?, ?it/s]"
      ]
     },
     "metadata": {},
     "output_type": "display_data"
    },
    {
     "data": {
      "application/vnd.jupyter.widget-view+json": {
       "model_id": "eaf5d3feaa634af58f74781df719bec4",
       "version_major": 2,
       "version_minor": 0
      },
      "text/plain": [
       "  0%|          | 0/41 [00:00<?, ?it/s]"
      ]
     },
     "metadata": {},
     "output_type": "display_data"
    }
   ],
   "source": [
    "valid_preds = model.predict(valid_df, batch_size=64)\n",
    "test_preds = model.predict(test_set, batch_size=64)"
   ]
  },
  {
   "cell_type": "markdown",
   "id": "c5704098",
   "metadata": {},
   "source": [
    "Multi target metrics on the validation set:"
   ]
  },
  {
   "cell_type": "code",
   "execution_count": 157,
   "id": "98e9317a",
   "metadata": {},
   "outputs": [
    {
     "data": {
      "text/plain": [
       "149.0"
      ]
     },
     "execution_count": 157,
     "metadata": {},
     "output_type": "execute_result"
    }
   ],
   "source": [
    "sum(amcr_df.AMCR)"
   ]
  },
  {
   "cell_type": "markdown",
   "id": "bfd1da5e",
   "metadata": {},
   "source": [
    "# Measure performance on the validation and test sets"
   ]
  },
  {
   "cell_type": "code",
   "execution_count": 164,
   "id": "2c226165",
   "metadata": {},
   "outputs": [],
   "source": [
    "# drop all columns except amcr\n",
    "# use multi target evaluation function\n",
    "\n",
    "valid_metrics = opso.metrics.multi_target_metrics(valid_df.values, valid_preds, valid_df.columns, threshold=0.5)['AMCR']\n",
    "test_set_metrics = opso.metrics.multi_target_metrics(test_set.values, test_preds, test_set.columns, threshold=0.5)['AMCR']\n",
    "\n",
    "pd.DataFrame([valid_metrics, test_set_metrics], index=['valid', 'test_set'])\n",
    "\n",
    "# save the validation and test sets\n",
    "test_set.to_csv(\"./annotated_data/test_set.csv\")\n",
    "valid_df.to_csv(\"./annotated_data/valid_set.csv\")  "
   ]
  },
  {
   "cell_type": "markdown",
   "id": "524c8193",
   "metadata": {},
   "source": [
    "$$\n",
    "precision = [\n",
    "\\frac{TP}{TP + FP}\n",
    "]\n",
    "$$ \n",
    "\n",
    "$$\n",
    "recall = [\n",
    "\\frac{TP}{TP + FN}\n",
    "]\n",
    "\n",
    "$$\n",
    "$$\n",
    "f1 = [\n",
    "\\frac{2 * precision * recall}{precision + recall}\n",
    "]\n",
    "\n",
    "\n",
    "$$\n",
    "$$\n",
    "accuracy = [\n",
    "\\frac{TP + TN}{TP + TN + FP + FN}\n",
    "]\n",
    "\n",
    "\n",
    "$$\n",
    "$$\n",
    "specificity = [\n",
    "\\frac{TN}{TN + FP}\n",
    "]\n",
    "$$\n",
    "\n",
    "$$ \n",
    "support = [\n",
    "TP + FN\n",
    "]\n",
    "$$\n",
    "\n"
   ]
  },
  {
   "cell_type": "markdown",
   "id": "964ce1a1",
   "metadata": {},
   "source": [
    "There's about 4600 clips in the training set and about 510 in the validation set for the AMRO for this example. The test set contains 196"
   ]
  },
  {
   "cell_type": "code",
   "execution_count": 160,
   "id": "246d6060",
   "metadata": {},
   "outputs": [
    {
     "data": {
      "text/plain": [
       "(510, 4590, 196, 149)"
      ]
     },
     "execution_count": 160,
     "metadata": {},
     "output_type": "execute_result"
    }
   ],
   "source": [
    "len(valid_df.AMCR),len(train_df.AMCR), sum(test_set.AMCR == 1), sum(valid_df.AMCR == 1)"
   ]
  },
  {
   "cell_type": "code",
   "execution_count": 95,
   "id": "3d53b8d9",
   "metadata": {},
   "outputs": [
    {
     "data": {
      "text/plain": [
       "(2600, 510)"
      ]
     },
     "execution_count": 95,
     "metadata": {},
     "output_type": "execute_result"
    }
   ],
   "source": [
    "len(test_set), len(valid_df)"
   ]
  },
  {
   "cell_type": "code",
   "execution_count": 94,
   "id": "2680c9ac",
   "metadata": {},
   "outputs": [
    {
     "data": {
      "text/html": [
       "<div>\n",
       "<style scoped>\n",
       "    .dataframe tbody tr th:only-of-type {\n",
       "        vertical-align: middle;\n",
       "    }\n",
       "\n",
       "    .dataframe tbody tr th {\n",
       "        vertical-align: top;\n",
       "    }\n",
       "\n",
       "    .dataframe thead th {\n",
       "        text-align: right;\n",
       "    }\n",
       "</style>\n",
       "<table border=\"1\" class=\"dataframe\">\n",
       "  <thead>\n",
       "    <tr style=\"text-align: right;\">\n",
       "      <th></th>\n",
       "      <th></th>\n",
       "      <th></th>\n",
       "      <th>NOCA</th>\n",
       "      <th>EATO</th>\n",
       "      <th>SCTA</th>\n",
       "      <th>BAWW</th>\n",
       "      <th>BCCH</th>\n",
       "      <th>AMCR</th>\n",
       "      <th>NOFL</th>\n",
       "    </tr>\n",
       "    <tr>\n",
       "      <th>file</th>\n",
       "      <th>start_time</th>\n",
       "      <th>end_time</th>\n",
       "      <th></th>\n",
       "      <th></th>\n",
       "      <th></th>\n",
       "      <th></th>\n",
       "      <th></th>\n",
       "      <th></th>\n",
       "      <th></th>\n",
       "    </tr>\n",
       "  </thead>\n",
       "  <tbody>\n",
       "    <tr>\n",
       "      <th rowspan=\"5\" valign=\"top\">annotated_data/Recordings/Recording_4/Recording_4_Segment_19.mp3</th>\n",
       "      <th>0.0</th>\n",
       "      <th>3.0</th>\n",
       "      <td>0.0</td>\n",
       "      <td>0.0</td>\n",
       "      <td>0.0</td>\n",
       "      <td>0.0</td>\n",
       "      <td>0.0</td>\n",
       "      <td>1.0</td>\n",
       "      <td>0.0</td>\n",
       "    </tr>\n",
       "    <tr>\n",
       "      <th>3.0</th>\n",
       "      <th>6.0</th>\n",
       "      <td>1.0</td>\n",
       "      <td>1.0</td>\n",
       "      <td>0.0</td>\n",
       "      <td>0.0</td>\n",
       "      <td>0.0</td>\n",
       "      <td>0.0</td>\n",
       "      <td>0.0</td>\n",
       "    </tr>\n",
       "    <tr>\n",
       "      <th>6.0</th>\n",
       "      <th>9.0</th>\n",
       "      <td>1.0</td>\n",
       "      <td>1.0</td>\n",
       "      <td>0.0</td>\n",
       "      <td>0.0</td>\n",
       "      <td>0.0</td>\n",
       "      <td>0.0</td>\n",
       "      <td>0.0</td>\n",
       "    </tr>\n",
       "    <tr>\n",
       "      <th>9.0</th>\n",
       "      <th>12.0</th>\n",
       "      <td>0.0</td>\n",
       "      <td>1.0</td>\n",
       "      <td>0.0</td>\n",
       "      <td>0.0</td>\n",
       "      <td>0.0</td>\n",
       "      <td>1.0</td>\n",
       "      <td>0.0</td>\n",
       "    </tr>\n",
       "    <tr>\n",
       "      <th>12.0</th>\n",
       "      <th>15.0</th>\n",
       "      <td>0.0</td>\n",
       "      <td>1.0</td>\n",
       "      <td>0.0</td>\n",
       "      <td>0.0</td>\n",
       "      <td>0.0</td>\n",
       "      <td>1.0</td>\n",
       "      <td>0.0</td>\n",
       "    </tr>\n",
       "  </tbody>\n",
       "</table>\n",
       "</div>"
      ],
      "text/plain": [
       "                                                                        NOCA  \\\n",
       "file                                               start_time end_time         \n",
       "annotated_data/Recordings/Recording_4/Recording... 0.0        3.0        0.0   \n",
       "                                                   3.0        6.0        1.0   \n",
       "                                                   6.0        9.0        1.0   \n",
       "                                                   9.0        12.0       0.0   \n",
       "                                                   12.0       15.0       0.0   \n",
       "\n",
       "                                                                        EATO  \\\n",
       "file                                               start_time end_time         \n",
       "annotated_data/Recordings/Recording_4/Recording... 0.0        3.0        0.0   \n",
       "                                                   3.0        6.0        1.0   \n",
       "                                                   6.0        9.0        1.0   \n",
       "                                                   9.0        12.0       1.0   \n",
       "                                                   12.0       15.0       1.0   \n",
       "\n",
       "                                                                        SCTA  \\\n",
       "file                                               start_time end_time         \n",
       "annotated_data/Recordings/Recording_4/Recording... 0.0        3.0        0.0   \n",
       "                                                   3.0        6.0        0.0   \n",
       "                                                   6.0        9.0        0.0   \n",
       "                                                   9.0        12.0       0.0   \n",
       "                                                   12.0       15.0       0.0   \n",
       "\n",
       "                                                                        BAWW  \\\n",
       "file                                               start_time end_time         \n",
       "annotated_data/Recordings/Recording_4/Recording... 0.0        3.0        0.0   \n",
       "                                                   3.0        6.0        0.0   \n",
       "                                                   6.0        9.0        0.0   \n",
       "                                                   9.0        12.0       0.0   \n",
       "                                                   12.0       15.0       0.0   \n",
       "\n",
       "                                                                        BCCH  \\\n",
       "file                                               start_time end_time         \n",
       "annotated_data/Recordings/Recording_4/Recording... 0.0        3.0        0.0   \n",
       "                                                   3.0        6.0        0.0   \n",
       "                                                   6.0        9.0        0.0   \n",
       "                                                   9.0        12.0       0.0   \n",
       "                                                   12.0       15.0       0.0   \n",
       "\n",
       "                                                                        AMCR  \\\n",
       "file                                               start_time end_time         \n",
       "annotated_data/Recordings/Recording_4/Recording... 0.0        3.0        1.0   \n",
       "                                                   3.0        6.0        0.0   \n",
       "                                                   6.0        9.0        0.0   \n",
       "                                                   9.0        12.0       1.0   \n",
       "                                                   12.0       15.0       1.0   \n",
       "\n",
       "                                                                        NOFL  \n",
       "file                                               start_time end_time        \n",
       "annotated_data/Recordings/Recording_4/Recording... 0.0        3.0        0.0  \n",
       "                                                   3.0        6.0        0.0  \n",
       "                                                   6.0        9.0        0.0  \n",
       "                                                   9.0        12.0       0.0  \n",
       "                                                   12.0       15.0       0.0  "
      ]
     },
     "execution_count": 94,
     "metadata": {},
     "output_type": "execute_result"
    }
   ],
   "source": [
    "test_set.head()"
   ]
  },
  {
   "cell_type": "markdown",
   "id": "91cb6e73",
   "metadata": {},
   "source": [
    "Does the model do as well on the withheld test set as it did on the validation set?"
   ]
  },
  {
   "cell_type": "code",
   "execution_count": 99,
   "id": "24bf8ad2",
   "metadata": {},
   "outputs": [
    {
     "data": {
      "text/plain": [
       "{'au_roc': 0.7497580563007232,\n",
       " 'avg_precision': 0.1913537095348884,\n",
       " 'precision': 0.2553191489361702,\n",
       " 'recall': 0.12244897959183673,\n",
       " 'f1': 0.16551724137931037,\n",
       " 'support': 196}"
      ]
     },
     "execution_count": 99,
     "metadata": {},
     "output_type": "execute_result"
    }
   ],
   "source": [
    "opso.metrics.multi_target_metrics(test_set.values, test_preds, test_set.columns, threshold=0.5)['AMCR']"
   ]
  },
  {
   "cell_type": "markdown",
   "id": "f246dbe8",
   "metadata": {},
   "source": [
    "No, the model does not do as well on the test set as it did on the validation set."
   ]
  },
  {
   "cell_type": "code",
   "execution_count": 144,
   "id": "6ecd2bfb",
   "metadata": {},
   "outputs": [],
   "source": [
    "model.save('opso_model')"
   ]
  },
  {
   "cell_type": "markdown",
   "id": "021b9e1d",
   "metadata": {},
   "source": [
    "# do the other pretrained models do any better?\n",
    "- first I'll try to find and load the model which was trained by this opensoundscape tutorial, then I'll try birdnet. "
   ]
  },
  {
   "cell_type": "code",
   "execution_count": 143,
   "id": "0c6dd986",
   "metadata": {},
   "outputs": [
    {
     "name": "stderr",
     "output_type": "stream",
     "text": [
      "Using cache found in /Users/mikeg/.cache/torch/hub/kitzeslab_bioacoustics-model-zoo_main\n"
     ]
    },
    {
     "data": {
      "text/plain": [
       "['BirdNET', 'Perch', 'SeparationModel', 'YAMNet', 'rana_sierrae_cnn']"
      ]
     },
     "execution_count": 143,
     "metadata": {},
     "output_type": "execute_result"
    }
   ],
   "source": [
    "torch.hub.list('kitzeslab/bioacoustics-model-zoo')\n",
    "# All of these models require tensorflow, so I'll evaluate them in a separate notebook."
   ]
  },
  {
   "cell_type": "markdown",
   "id": "2b498f89-d856-45b5-bfe6-b9e94e603ada",
   "metadata": {},
   "source": [
    "Once this is finished running, you have trained the CNN. \n",
    "\n",
    "**Clean up:** Run the following cell to delete the files created in this tutorial. However, these files are used in other tutorials, so you may wish not to delete them just yet."
   ]
  },
  {
   "cell_type": "code",
   "execution_count": null,
   "id": "440ca518-abcd-4bac-94e8-12ff8b8e46b1",
   "metadata": {},
   "outputs": [],
   "source": [
    "# import shutil\n",
    "# shutil.rmtree('./annotated_data')\n",
    "# shutil.rmtree('./wandb')\n",
    "# shutil.rmtree('./model_training_checkpoints')\n",
    "# Path('annotation_Files.zip').unlink()\n",
    "# Path('mp3_Files.zip').unlink()"
   ]
  }
 ],
 "metadata": {
  "kernelspec": {
   "display_name": "osfl2",
   "language": "python",
   "name": "python3"
  },
  "language_info": {
   "codemirror_mode": {
    "name": "ipython",
    "version": 3
   },
   "file_extension": ".py",
   "mimetype": "text/x-python",
   "name": "python",
   "nbconvert_exporter": "python",
   "pygments_lexer": "ipython3",
   "version": "3.10.12"
  }
 },
 "nbformat": 4,
 "nbformat_minor": 5
}
