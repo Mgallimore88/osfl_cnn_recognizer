{
 "cells": [
  {
   "cell_type": "markdown",
   "metadata": {},
   "source": [
    "# This test doesn't use any labels at all, but evaluates models on their false positive and false negative rates after predictions are made. \n",
    "1. Make predictions on a recording\n",
    "2. look at the model predictions sorted by confidence. \n",
    "3. Count the false positives and false negatives within these predictions. "
   ]
  },
  {
   "cell_type": "code",
   "execution_count": 19,
   "metadata": {},
   "outputs": [],
   "source": [
    "# imports\n",
    "from pathlib import Path\n",
    "import sys\n",
    "import shutil\n",
    "BASE_PATH = Path.cwd().parent.parent\n",
    "sys.path.append(str(BASE_PATH))\n",
    "model_save_path = BASE_PATH / 'models'\n",
    "import pandas as pd\n",
    "import opensoundscape as opso\n",
    "from opensoundscape import audio\n",
    "import matplotlib.pyplot as plt\n",
    "from sklearn.metrics import confusion_matrix, ConfusionMatrixDisplay\n",
    "from ipywidgets import interact\n",
    "import glob\n",
    "from src.utils import  show_samples_in_df, get_binary_targets_scores, suppress_warnings_if_main_branch, plot_metrics_across_thresholds, hawkears_files_to_df, plot_confusion_matrix, save_dataframe_clips_to_disk, show_sample_from_df, show_clip_from_multi_index_df, inspect_wrong_predictions"
   ]
  },
  {
   "cell_type": "code",
   "execution_count": 3,
   "metadata": {},
   "outputs": [],
   "source": [
    "# load the test data\n",
    "data_path = Path.cwd().parent.parent / \"data\"\n",
    "test_df = pd.read_pickle(data_path / \"interim\" / \"test_set\" / \"test_set.pkl\")\n",
    "ext_df = pd.read_csv(data_path / \"raw\" / \"test_set\" / \"SingleSpecies_all.csv\", low_memory=False)"
   ]
  },
  {
   "cell_type": "code",
   "execution_count": 5,
   "metadata": {},
   "outputs": [],
   "source": [
    "# Load the target species examples from the external test set\n",
    "ext_df = pd.read_csv(data_path / \"raw\" / \"test_set\" / \"SingleSpecies_all.csv\", low_memory=False)\n",
    "# filter out all the other species\n",
    "osfls = ext_df.loc[ext_df.species_code == \"OSFL\"]\n",
    "# filter out the target species calls and keep the songs. \n",
    "osfls = osfls.loc[osfls.vocalization == \"Song\"]"
   ]
  },
  {
   "cell_type": "code",
   "execution_count": 18,
   "metadata": {},
   "outputs": [
    {
     "data": {
      "text/plain": [
       "(39,\n",
       " array(['recording-255472.flac', 'recording-255412.mp3',\n",
       "        'recording-255913.flac', 'recording-255938.flac',\n",
       "        'recording-255940.flac', 'recording-255949.flac',\n",
       "        'recording-255967.flac', 'recording-255980.flac',\n",
       "        'recording-255420.mp3', 'recording-255419.mp3',\n",
       "        'recording-255421.mp3', 'recording-255431.mp3',\n",
       "        'recording-255432.mp3', 'recording-255433.mp3',\n",
       "        'recording-255449.mp3', 'recording-255456.mp3',\n",
       "        'recording-255454.mp3', 'recording-255457.mp3',\n",
       "        'recording-255461.mp3', 'recording-255465.mp3',\n",
       "        'recording-255539.flac', 'recording-255544.flac',\n",
       "        'recording-255497.mp3', 'recording-255513.mp3',\n",
       "        'recording-255518.mp3', 'recording-255526.mp3',\n",
       "        'recording-255623.flac', 'recording-255624.flac',\n",
       "        'recording-255625.flac', 'recording-255580.mp3',\n",
       "        'recording-255581.mp3', 'recording-255582.mp3',\n",
       "        'recording-255649.flac', 'recording-255607.mp3',\n",
       "        'recording-255665.mp3', 'recording-256033.mp3',\n",
       "        'recording-256035.mp3', 'recording-256053.mp3',\n",
       "        'recording-256055.mp3'], dtype=object))"
      ]
     },
     "execution_count": 18,
     "metadata": {},
     "output_type": "execute_result"
    }
   ],
   "source": [
    "recording_save_path = data_path / \"raw\" / \"recordings\" / \"OSFL\"\n",
    "external_test_set_recordings = data_path / \"processed\" / \"external_test_set_recordings\"\n",
    "\n",
    "def get_file_extension(url):\n",
    "    file_type = url.split('.')[-1]\n",
    "    return file_type\n",
    "def make_filename(df):\n",
    "    \n",
    "    return f\"recording-{df.recording_id}.{df.file_type}\"\n",
    "\n",
    "osfls['file_type'] = osfls['recording_url'].apply(get_file_extension)\n",
    "osfls['filename'] = osfls.apply(make_filename, axis=1)\n",
    "external_test_set_filenames = osfls.filename.unique()\n",
    "len(external_test_set_filenames), external_test_set_filenames"
   ]
  },
  {
   "cell_type": "code",
   "execution_count": 20,
   "metadata": {},
   "outputs": [
    {
     "name": "stdout",
     "output_type": "stream",
     "text": [
      "copied /Users/mikeg/code/machine_learning/osfl_cnn_recognizer/data/raw/recordings/OSFL/recording-255472.flac to /Users/mikeg/code/machine_learning/osfl_cnn_recognizer/data/processed/external_test_set_recordings/recording-255472.flac\n",
      "copied /Users/mikeg/code/machine_learning/osfl_cnn_recognizer/data/raw/recordings/OSFL/recording-255412.mp3 to /Users/mikeg/code/machine_learning/osfl_cnn_recognizer/data/processed/external_test_set_recordings/recording-255412.mp3\n",
      "copied /Users/mikeg/code/machine_learning/osfl_cnn_recognizer/data/raw/recordings/OSFL/recording-255913.flac to /Users/mikeg/code/machine_learning/osfl_cnn_recognizer/data/processed/external_test_set_recordings/recording-255913.flac\n",
      "copied /Users/mikeg/code/machine_learning/osfl_cnn_recognizer/data/raw/recordings/OSFL/recording-255938.flac to /Users/mikeg/code/machine_learning/osfl_cnn_recognizer/data/processed/external_test_set_recordings/recording-255938.flac\n",
      "copied /Users/mikeg/code/machine_learning/osfl_cnn_recognizer/data/raw/recordings/OSFL/recording-255940.flac to /Users/mikeg/code/machine_learning/osfl_cnn_recognizer/data/processed/external_test_set_recordings/recording-255940.flac\n",
      "copied /Users/mikeg/code/machine_learning/osfl_cnn_recognizer/data/raw/recordings/OSFL/recording-255949.flac to /Users/mikeg/code/machine_learning/osfl_cnn_recognizer/data/processed/external_test_set_recordings/recording-255949.flac\n",
      "copied /Users/mikeg/code/machine_learning/osfl_cnn_recognizer/data/raw/recordings/OSFL/recording-255967.flac to /Users/mikeg/code/machine_learning/osfl_cnn_recognizer/data/processed/external_test_set_recordings/recording-255967.flac\n",
      "copied /Users/mikeg/code/machine_learning/osfl_cnn_recognizer/data/raw/recordings/OSFL/recording-255980.flac to /Users/mikeg/code/machine_learning/osfl_cnn_recognizer/data/processed/external_test_set_recordings/recording-255980.flac\n",
      "copied /Users/mikeg/code/machine_learning/osfl_cnn_recognizer/data/raw/recordings/OSFL/recording-255420.mp3 to /Users/mikeg/code/machine_learning/osfl_cnn_recognizer/data/processed/external_test_set_recordings/recording-255420.mp3\n",
      "copied /Users/mikeg/code/machine_learning/osfl_cnn_recognizer/data/raw/recordings/OSFL/recording-255419.mp3 to /Users/mikeg/code/machine_learning/osfl_cnn_recognizer/data/processed/external_test_set_recordings/recording-255419.mp3\n",
      "copied /Users/mikeg/code/machine_learning/osfl_cnn_recognizer/data/raw/recordings/OSFL/recording-255421.mp3 to /Users/mikeg/code/machine_learning/osfl_cnn_recognizer/data/processed/external_test_set_recordings/recording-255421.mp3\n",
      "copied /Users/mikeg/code/machine_learning/osfl_cnn_recognizer/data/raw/recordings/OSFL/recording-255431.mp3 to /Users/mikeg/code/machine_learning/osfl_cnn_recognizer/data/processed/external_test_set_recordings/recording-255431.mp3\n",
      "copied /Users/mikeg/code/machine_learning/osfl_cnn_recognizer/data/raw/recordings/OSFL/recording-255432.mp3 to /Users/mikeg/code/machine_learning/osfl_cnn_recognizer/data/processed/external_test_set_recordings/recording-255432.mp3\n",
      "copied /Users/mikeg/code/machine_learning/osfl_cnn_recognizer/data/raw/recordings/OSFL/recording-255433.mp3 to /Users/mikeg/code/machine_learning/osfl_cnn_recognizer/data/processed/external_test_set_recordings/recording-255433.mp3\n",
      "copied /Users/mikeg/code/machine_learning/osfl_cnn_recognizer/data/raw/recordings/OSFL/recording-255449.mp3 to /Users/mikeg/code/machine_learning/osfl_cnn_recognizer/data/processed/external_test_set_recordings/recording-255449.mp3\n",
      "copied /Users/mikeg/code/machine_learning/osfl_cnn_recognizer/data/raw/recordings/OSFL/recording-255456.mp3 to /Users/mikeg/code/machine_learning/osfl_cnn_recognizer/data/processed/external_test_set_recordings/recording-255456.mp3\n",
      "copied /Users/mikeg/code/machine_learning/osfl_cnn_recognizer/data/raw/recordings/OSFL/recording-255454.mp3 to /Users/mikeg/code/machine_learning/osfl_cnn_recognizer/data/processed/external_test_set_recordings/recording-255454.mp3\n",
      "copied /Users/mikeg/code/machine_learning/osfl_cnn_recognizer/data/raw/recordings/OSFL/recording-255457.mp3 to /Users/mikeg/code/machine_learning/osfl_cnn_recognizer/data/processed/external_test_set_recordings/recording-255457.mp3\n",
      "copied /Users/mikeg/code/machine_learning/osfl_cnn_recognizer/data/raw/recordings/OSFL/recording-255461.mp3 to /Users/mikeg/code/machine_learning/osfl_cnn_recognizer/data/processed/external_test_set_recordings/recording-255461.mp3\n",
      "copied /Users/mikeg/code/machine_learning/osfl_cnn_recognizer/data/raw/recordings/OSFL/recording-255465.mp3 to /Users/mikeg/code/machine_learning/osfl_cnn_recognizer/data/processed/external_test_set_recordings/recording-255465.mp3\n",
      "copied /Users/mikeg/code/machine_learning/osfl_cnn_recognizer/data/raw/recordings/OSFL/recording-255539.flac to /Users/mikeg/code/machine_learning/osfl_cnn_recognizer/data/processed/external_test_set_recordings/recording-255539.flac\n",
      "copied /Users/mikeg/code/machine_learning/osfl_cnn_recognizer/data/raw/recordings/OSFL/recording-255544.flac to /Users/mikeg/code/machine_learning/osfl_cnn_recognizer/data/processed/external_test_set_recordings/recording-255544.flac\n",
      "copied /Users/mikeg/code/machine_learning/osfl_cnn_recognizer/data/raw/recordings/OSFL/recording-255497.mp3 to /Users/mikeg/code/machine_learning/osfl_cnn_recognizer/data/processed/external_test_set_recordings/recording-255497.mp3\n",
      "copied /Users/mikeg/code/machine_learning/osfl_cnn_recognizer/data/raw/recordings/OSFL/recording-255513.mp3 to /Users/mikeg/code/machine_learning/osfl_cnn_recognizer/data/processed/external_test_set_recordings/recording-255513.mp3\n",
      "copied /Users/mikeg/code/machine_learning/osfl_cnn_recognizer/data/raw/recordings/OSFL/recording-255518.mp3 to /Users/mikeg/code/machine_learning/osfl_cnn_recognizer/data/processed/external_test_set_recordings/recording-255518.mp3\n",
      "copied /Users/mikeg/code/machine_learning/osfl_cnn_recognizer/data/raw/recordings/OSFL/recording-255526.mp3 to /Users/mikeg/code/machine_learning/osfl_cnn_recognizer/data/processed/external_test_set_recordings/recording-255526.mp3\n",
      "copied /Users/mikeg/code/machine_learning/osfl_cnn_recognizer/data/raw/recordings/OSFL/recording-255623.flac to /Users/mikeg/code/machine_learning/osfl_cnn_recognizer/data/processed/external_test_set_recordings/recording-255623.flac\n",
      "copied /Users/mikeg/code/machine_learning/osfl_cnn_recognizer/data/raw/recordings/OSFL/recording-255624.flac to /Users/mikeg/code/machine_learning/osfl_cnn_recognizer/data/processed/external_test_set_recordings/recording-255624.flac\n",
      "copied /Users/mikeg/code/machine_learning/osfl_cnn_recognizer/data/raw/recordings/OSFL/recording-255625.flac to /Users/mikeg/code/machine_learning/osfl_cnn_recognizer/data/processed/external_test_set_recordings/recording-255625.flac\n",
      "copied /Users/mikeg/code/machine_learning/osfl_cnn_recognizer/data/raw/recordings/OSFL/recording-255580.mp3 to /Users/mikeg/code/machine_learning/osfl_cnn_recognizer/data/processed/external_test_set_recordings/recording-255580.mp3\n",
      "copied /Users/mikeg/code/machine_learning/osfl_cnn_recognizer/data/raw/recordings/OSFL/recording-255581.mp3 to /Users/mikeg/code/machine_learning/osfl_cnn_recognizer/data/processed/external_test_set_recordings/recording-255581.mp3\n",
      "copied /Users/mikeg/code/machine_learning/osfl_cnn_recognizer/data/raw/recordings/OSFL/recording-255582.mp3 to /Users/mikeg/code/machine_learning/osfl_cnn_recognizer/data/processed/external_test_set_recordings/recording-255582.mp3\n",
      "copied /Users/mikeg/code/machine_learning/osfl_cnn_recognizer/data/raw/recordings/OSFL/recording-255649.flac to /Users/mikeg/code/machine_learning/osfl_cnn_recognizer/data/processed/external_test_set_recordings/recording-255649.flac\n",
      "copied /Users/mikeg/code/machine_learning/osfl_cnn_recognizer/data/raw/recordings/OSFL/recording-255607.mp3 to /Users/mikeg/code/machine_learning/osfl_cnn_recognizer/data/processed/external_test_set_recordings/recording-255607.mp3\n",
      "copied /Users/mikeg/code/machine_learning/osfl_cnn_recognizer/data/raw/recordings/OSFL/recording-255665.mp3 to /Users/mikeg/code/machine_learning/osfl_cnn_recognizer/data/processed/external_test_set_recordings/recording-255665.mp3\n",
      "copied /Users/mikeg/code/machine_learning/osfl_cnn_recognizer/data/raw/recordings/OSFL/recording-256033.mp3 to /Users/mikeg/code/machine_learning/osfl_cnn_recognizer/data/processed/external_test_set_recordings/recording-256033.mp3\n",
      "copied /Users/mikeg/code/machine_learning/osfl_cnn_recognizer/data/raw/recordings/OSFL/recording-256035.mp3 to /Users/mikeg/code/machine_learning/osfl_cnn_recognizer/data/processed/external_test_set_recordings/recording-256035.mp3\n",
      "copied /Users/mikeg/code/machine_learning/osfl_cnn_recognizer/data/raw/recordings/OSFL/recording-256053.mp3 to /Users/mikeg/code/machine_learning/osfl_cnn_recognizer/data/processed/external_test_set_recordings/recording-256053.mp3\n",
      "copied /Users/mikeg/code/machine_learning/osfl_cnn_recognizer/data/raw/recordings/OSFL/recording-256055.mp3 to /Users/mikeg/code/machine_learning/osfl_cnn_recognizer/data/processed/external_test_set_recordings/recording-256055.mp3\n"
     ]
    }
   ],
   "source": [
    "external_test_set_recordings.mkdir(parents=True, exist_ok=True)\n",
    "for file in external_test_set_filenames:\n",
    "    source = recording_save_path / file\n",
    "    destination = external_test_set_recordings / file\n",
    "    shutil.copy(source, destination)\n",
    "    print(f\"copied {source} to {destination}\")\n",
    "    "
   ]
  },
  {
   "cell_type": "code",
   "execution_count": 22,
   "metadata": {},
   "outputs": [],
   "source": [
    "model = opso.load_model(model_save_path / \"OSFL.model\")"
   ]
  },
  {
   "cell_type": "code",
   "execution_count": 25,
   "metadata": {},
   "outputs": [
    {
     "data": {
      "text/plain": [
       "PosixPath('/Users/mikeg/code/machine_learning/osfl_cnn_recognizer/data/processed/external_test_set_recordings')"
      ]
     },
     "execution_count": 25,
     "metadata": {},
     "output_type": "execute_result"
    }
   ],
   "source": [
    "external_test_set_recordings"
   ]
  },
  {
   "cell_type": "markdown",
   "metadata": {},
   "source": [
    "39 of these, 782.2mb <br>\n",
    "Took 11 min 31 seconds to process with OSFL recognizer on 1 CPU core"
   ]
  },
  {
   "cell_type": "markdown",
   "metadata": {},
   "source": [
    "# Check the results"
   ]
  },
  {
   "cell_type": "code",
   "execution_count": 44,
   "metadata": {},
   "outputs": [],
   "source": [
    "osfl_model_predictions = pd.read_csv(BASE_PATH / \"OSFL-scores.csv\").sort_values(by=\"target_present\", ascending=False)"
   ]
  },
  {
   "cell_type": "code",
   "execution_count": 47,
   "metadata": {},
   "outputs": [
    {
     "data": {
      "text/plain": [
       "<Axes: >"
      ]
     },
     "execution_count": 47,
     "metadata": {},
     "output_type": "execute_result"
    },
    {
     "data": {
      "image/png": "[encoded data removed]",
      "text/plain": [
       "<Figure size 640x480 with 1 Axes>"
      ]
     },
     "metadata": {},
     "output_type": "display_data"
    }
   ],
   "source": [
    "osfl_model_predictions.target_present.hist()"
   ]
  },
  {
   "cell_type": "code",
   "execution_count": 54,
   "metadata": {},
   "outputs": [],
   "source": [
    "hawkears_output_files = glob.glob(str(data_path / \"processed\" / \"hawkears\" / \"*.*\"))"
   ]
  },
  {
   "cell_type": "code",
   "execution_count": 60,
   "metadata": {},
   "outputs": [
    {
     "data": {
      "text/plain": [
       "end_time\n",
       "600.00    3672\n",
       "300.00    1224\n",
       "372.00     306\n",
       "312.00     306\n",
       "Name: count, dtype: int64"
      ]
     },
     "execution_count": 60,
     "metadata": {},
     "output_type": "execute_result"
    }
   ],
   "source": [
    "results = []\n",
    "# Read and parse the file contents\n",
    "for file_path in hawkears_output_files:\n",
    "    with open(file_path, \"r\") as f:\n",
    "        file_content = f.read().strip().split(\"\\n\")\n",
    "        file_id = file_path.split(\"/\")[-1].split(\"-\")[0]\n",
    "        file_id = file_id.split(\"_\")[0]\n",
    "        for detection in file_content:\n",
    "            if detection:\n",
    "                line = [file_id] + detection.split(\"\\t\")\n",
    "            else:\n",
    "                line = [file_id]\n",
    "            results.append(line)\n",
    "\n",
    "# Convert the results to a pandas DataFrame\n",
    "df = pd.DataFrame(\n",
    "    results, columns=[\"file_id\", \"start_time\", \"end_time\", \"species;confidence\"]\n",
    ")\n",
    "\n"
   ]
  },
  {
   "cell_type": "code",
   "execution_count": null,
   "metadata": {},
   "outputs": [],
   "source": [
    "\n",
    "df.file_id = df.file_id.astype(int)\n",
    "df.sort_values(by=[\"file_id\"], inplace=True)\n",
    "df[[\"species\", \"confidence\"]] = df[\"species;confidence\"].str.split(\";\", expand=True)\n",
    "df.drop(columns=[\"species;confidence\"], inplace=True)\n",
    "df = df.loc[df[\"species\"] == target_species]\n",
    "df.confidence = df.confidence.astype(float)\n",
    "return df.reset_index(drop=True)"
   ]
  },
  {
   "cell_type": "code",
   "execution_count": null,
   "metadata": {},
   "outputs": [],
   "source": []
  }
 ],
 "metadata": {
  "kernelspec": {
   "display_name": "osfl2",
   "language": "python",
   "name": "python3"
  },
  "language_info": {
   "codemirror_mode": {
    "name": "ipython",
    "version": 3
   },
   "file_extension": ".py",
   "mimetype": "text/x-python",
   "name": "python",
   "nbconvert_exporter": "python",
   "pygments_lexer": "ipython3",
   "version": "3.10.12"
  }
 },
 "nbformat": 4,
 "nbformat_minor": 2
}
